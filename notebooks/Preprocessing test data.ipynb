{
 "cells": [
  {
   "cell_type": "markdown",
   "id": "415139f7-2fbb-4a9a-8829-6e7a87635707",
   "metadata": {
    "tags": []
   },
   "source": [
    "# Summary\n",
    "\n",
    "In this notebook we worked on the training dataset.\n",
    "\n",
    "- Cleaned the all null values\n",
    "- Encoded ordinal and nominal categorical features automatically. Also, we did some custom encoding\n",
    "- Added a data dictionary with attribute categories (nominal, ordinal etc)\n",
    "\n",
    "Now, the data is ready for feature selection/engineering"
   ]
  },
  {
   "cell_type": "code",
   "execution_count": 1,
   "id": "7854d498-a6d7-4a70-85eb-f76e3b79884b",
   "metadata": {
    "tags": []
   },
   "outputs": [
    {
     "data": {
      "text/html": [
       "<pre style=\"white-space:pre;overflow-x:auto;line-height:normal;font-family:Menlo,'DejaVu Sans Mono',consolas,'Courier New',monospace\"><span style=\"color: #7fbfbf; text-decoration-color: #7fbfbf\">                    </span><span style=\"color: #000080; text-decoration-color: #000080\">INFO    </span> Resolved project path as:                                              <a href=\"file:///home/gunee/anaconda3/envs/ai-hack-melbourne-2023/lib/python3.10/site-packages/kedro/ipython/__init__.py\" target=\"_blank\"><span style=\"color: #7f7f7f; text-decoration-color: #7f7f7f\">__init__.py</span></a><span style=\"color: #7f7f7f; text-decoration-color: #7f7f7f\">:</span><a href=\"file:///home/gunee/anaconda3/envs/ai-hack-melbourne-2023/lib/python3.10/site-packages/kedro/ipython/__init__.py#139\" target=\"_blank\"><span style=\"color: #7f7f7f; text-decoration-color: #7f7f7f\">139</span></a>\n",
       "<span style=\"color: #7fbfbf; text-decoration-color: #7fbfbf\">                    </span>         <span style=\"color: #800080; text-decoration-color: #800080\">/home/gunee/Projects/Gunee/</span><span style=\"color: #ff00ff; text-decoration-color: #ff00ff\">kaggle-housing-price-prediction.</span>            <span style=\"color: #7f7f7f; text-decoration-color: #7f7f7f\">               </span>\n",
       "<span style=\"color: #7fbfbf; text-decoration-color: #7fbfbf\">                    </span>         To set a different path, run <span style=\"color: #008000; text-decoration-color: #008000\">'%reload_kedro &lt;project_root&gt;'</span>            <span style=\"color: #7f7f7f; text-decoration-color: #7f7f7f\">               </span>\n",
       "</pre>\n"
      ],
      "text/plain": [
       "\u001b[2;36m                   \u001b[0m\u001b[2;36m \u001b[0m\u001b[34mINFO    \u001b[0m Resolved project path as:                                              \u001b]8;id=429611;file:///home/gunee/anaconda3/envs/ai-hack-melbourne-2023/lib/python3.10/site-packages/kedro/ipython/__init__.py\u001b\\\u001b[2m__init__.py\u001b[0m\u001b]8;;\u001b\\\u001b[2m:\u001b[0m\u001b]8;id=535818;file:///home/gunee/anaconda3/envs/ai-hack-melbourne-2023/lib/python3.10/site-packages/kedro/ipython/__init__.py#139\u001b\\\u001b[2m139\u001b[0m\u001b]8;;\u001b\\\n",
       "\u001b[2;36m                    \u001b[0m         \u001b[35m/home/gunee/Projects/Gunee/\u001b[0m\u001b[95mkaggle-housing-price-prediction.\u001b[0m            \u001b[2m               \u001b[0m\n",
       "\u001b[2;36m                    \u001b[0m         To set a different path, run \u001b[32m'%reload_kedro \u001b[0m\u001b[32m<\u001b[0m\u001b[32mproject_root\u001b[0m\u001b[32m>\u001b[0m\u001b[32m'\u001b[0m            \u001b[2m               \u001b[0m\n"
      ]
     },
     "metadata": {},
     "output_type": "display_data"
    },
    {
     "data": {
      "text/html": [
       "<pre style=\"white-space:pre;overflow-x:auto;line-height:normal;font-family:Menlo,'DejaVu Sans Mono',consolas,'Courier New',monospace\"><span style=\"color: #7fbfbf; text-decoration-color: #7fbfbf\">[10/21/23 21:45:49] </span><span style=\"color: #800000; text-decoration-color: #800000\">WARNING </span> <span style=\"color: #800080; text-decoration-color: #800080\">/home/gunee/anaconda3/envs/ai-hack-melbourne-2023/lib/python3.10/site-</span> <a href=\"file:///home/gunee/anaconda3/envs/ai-hack-melbourne-2023/lib/python3.10/warnings.py\" target=\"_blank\"><span style=\"color: #7f7f7f; text-decoration-color: #7f7f7f\">warnings.py</span></a><span style=\"color: #7f7f7f; text-decoration-color: #7f7f7f\">:</span><a href=\"file:///home/gunee/anaconda3/envs/ai-hack-melbourne-2023/lib/python3.10/warnings.py#109\" target=\"_blank\"><span style=\"color: #7f7f7f; text-decoration-color: #7f7f7f\">109</span></a>\n",
       "<span style=\"color: #7fbfbf; text-decoration-color: #7fbfbf\">                    </span>         <span style=\"color: #800080; text-decoration-color: #800080\">packages/lazy_loader/</span><span style=\"color: #ff00ff; text-decoration-color: #ff00ff\">__init__.py</span>:<span style=\"color: #008080; text-decoration-color: #008080; font-weight: bold\">78</span>: KedroDeprecationWarning:          <span style=\"color: #7f7f7f; text-decoration-color: #7f7f7f\">               </span>\n",
       "<span style=\"color: #7fbfbf; text-decoration-color: #7fbfbf\">                    </span>         <span style=\"color: #008000; text-decoration-color: #008000\">'CSVDataSet'</span> has been renamed to <span style=\"color: #008000; text-decoration-color: #008000\">'CSVDataset'</span>, and the alias will be   <span style=\"color: #7f7f7f; text-decoration-color: #7f7f7f\">               </span>\n",
       "<span style=\"color: #7fbfbf; text-decoration-color: #7fbfbf\">                    </span>         removed in Kedro-Datasets <span style=\"color: #008080; text-decoration-color: #008080; font-weight: bold\">2.0</span>.<span style=\"color: #008080; text-decoration-color: #008080; font-weight: bold\">0</span>                                        <span style=\"color: #7f7f7f; text-decoration-color: #7f7f7f\">               </span>\n",
       "<span style=\"color: #7fbfbf; text-decoration-color: #7fbfbf\">                    </span>           attr = <span style=\"color: #800080; text-decoration-color: #800080; font-weight: bold\">getattr</span><span style=\"font-weight: bold\">(</span>submod, name<span style=\"font-weight: bold\">)</span>                                         <span style=\"color: #7f7f7f; text-decoration-color: #7f7f7f\">               </span>\n",
       "<span style=\"color: #7fbfbf; text-decoration-color: #7fbfbf\">                    </span>                                                                                <span style=\"color: #7f7f7f; text-decoration-color: #7f7f7f\">               </span>\n",
       "</pre>\n"
      ],
      "text/plain": [
       "\u001b[2;36m[10/21/23 21:45:49]\u001b[0m\u001b[2;36m \u001b[0m\u001b[31mWARNING \u001b[0m \u001b[35m/home/gunee/anaconda3/envs/ai-hack-melbourne-2023/lib/python3.10/site-\u001b[0m \u001b]8;id=440942;file:///home/gunee/anaconda3/envs/ai-hack-melbourne-2023/lib/python3.10/warnings.py\u001b\\\u001b[2mwarnings.py\u001b[0m\u001b]8;;\u001b\\\u001b[2m:\u001b[0m\u001b]8;id=541816;file:///home/gunee/anaconda3/envs/ai-hack-melbourne-2023/lib/python3.10/warnings.py#109\u001b\\\u001b[2m109\u001b[0m\u001b]8;;\u001b\\\n",
       "\u001b[2;36m                    \u001b[0m         \u001b[35mpackages/lazy_loader/\u001b[0m\u001b[95m__init__.py\u001b[0m:\u001b[1;36m78\u001b[0m: KedroDeprecationWarning:          \u001b[2m               \u001b[0m\n",
       "\u001b[2;36m                    \u001b[0m         \u001b[32m'CSVDataSet'\u001b[0m has been renamed to \u001b[32m'CSVDataset'\u001b[0m, and the alias will be   \u001b[2m               \u001b[0m\n",
       "\u001b[2;36m                    \u001b[0m         removed in Kedro-Datasets \u001b[1;36m2.0\u001b[0m.\u001b[1;36m0\u001b[0m                                        \u001b[2m               \u001b[0m\n",
       "\u001b[2;36m                    \u001b[0m           attr = \u001b[1;35mgetattr\u001b[0m\u001b[1m(\u001b[0msubmod, name\u001b[1m)\u001b[0m                                         \u001b[2m               \u001b[0m\n",
       "\u001b[2;36m                    \u001b[0m                                                                                \u001b[2m               \u001b[0m\n"
      ]
     },
     "metadata": {},
     "output_type": "display_data"
    },
    {
     "data": {
      "text/html": [
       "<pre style=\"white-space:pre;overflow-x:auto;line-height:normal;font-family:Menlo,'DejaVu Sans Mono',consolas,'Courier New',monospace\"><span style=\"color: #7fbfbf; text-decoration-color: #7fbfbf\">                    </span><span style=\"color: #800000; text-decoration-color: #800000\">WARNING </span> <span style=\"color: #800080; text-decoration-color: #800080\">/home/gunee/anaconda3/envs/ai-hack-melbourne-2023/lib/python3.10/site-</span> <a href=\"file:///home/gunee/anaconda3/envs/ai-hack-melbourne-2023/lib/python3.10/warnings.py\" target=\"_blank\"><span style=\"color: #7f7f7f; text-decoration-color: #7f7f7f\">warnings.py</span></a><span style=\"color: #7f7f7f; text-decoration-color: #7f7f7f\">:</span><a href=\"file:///home/gunee/anaconda3/envs/ai-hack-melbourne-2023/lib/python3.10/warnings.py#109\" target=\"_blank\"><span style=\"color: #7f7f7f; text-decoration-color: #7f7f7f\">109</span></a>\n",
       "<span style=\"color: #7fbfbf; text-decoration-color: #7fbfbf\">                    </span>         <span style=\"color: #800080; text-decoration-color: #800080\">packages/lazy_loader/</span><span style=\"color: #ff00ff; text-decoration-color: #ff00ff\">__init__.py</span>:<span style=\"color: #008080; text-decoration-color: #008080; font-weight: bold\">78</span>: KedroDeprecationWarning:          <span style=\"color: #7f7f7f; text-decoration-color: #7f7f7f\">               </span>\n",
       "<span style=\"color: #7fbfbf; text-decoration-color: #7fbfbf\">                    </span>         <span style=\"color: #008000; text-decoration-color: #008000\">'JSONDataSet'</span> has been renamed to <span style=\"color: #008000; text-decoration-color: #008000\">'JSONDataset'</span>, and the alias will be <span style=\"color: #7f7f7f; text-decoration-color: #7f7f7f\">               </span>\n",
       "<span style=\"color: #7fbfbf; text-decoration-color: #7fbfbf\">                    </span>         removed in Kedro-Datasets <span style=\"color: #008080; text-decoration-color: #008080; font-weight: bold\">2.0</span>.<span style=\"color: #008080; text-decoration-color: #008080; font-weight: bold\">0</span>                                        <span style=\"color: #7f7f7f; text-decoration-color: #7f7f7f\">               </span>\n",
       "<span style=\"color: #7fbfbf; text-decoration-color: #7fbfbf\">                    </span>           attr = <span style=\"color: #800080; text-decoration-color: #800080; font-weight: bold\">getattr</span><span style=\"font-weight: bold\">(</span>submod, name<span style=\"font-weight: bold\">)</span>                                         <span style=\"color: #7f7f7f; text-decoration-color: #7f7f7f\">               </span>\n",
       "<span style=\"color: #7fbfbf; text-decoration-color: #7fbfbf\">                    </span>                                                                                <span style=\"color: #7f7f7f; text-decoration-color: #7f7f7f\">               </span>\n",
       "</pre>\n"
      ],
      "text/plain": [
       "\u001b[2;36m                   \u001b[0m\u001b[2;36m \u001b[0m\u001b[31mWARNING \u001b[0m \u001b[35m/home/gunee/anaconda3/envs/ai-hack-melbourne-2023/lib/python3.10/site-\u001b[0m \u001b]8;id=160280;file:///home/gunee/anaconda3/envs/ai-hack-melbourne-2023/lib/python3.10/warnings.py\u001b\\\u001b[2mwarnings.py\u001b[0m\u001b]8;;\u001b\\\u001b[2m:\u001b[0m\u001b]8;id=981505;file:///home/gunee/anaconda3/envs/ai-hack-melbourne-2023/lib/python3.10/warnings.py#109\u001b\\\u001b[2m109\u001b[0m\u001b]8;;\u001b\\\n",
       "\u001b[2;36m                    \u001b[0m         \u001b[35mpackages/lazy_loader/\u001b[0m\u001b[95m__init__.py\u001b[0m:\u001b[1;36m78\u001b[0m: KedroDeprecationWarning:          \u001b[2m               \u001b[0m\n",
       "\u001b[2;36m                    \u001b[0m         \u001b[32m'JSONDataSet'\u001b[0m has been renamed to \u001b[32m'JSONDataset'\u001b[0m, and the alias will be \u001b[2m               \u001b[0m\n",
       "\u001b[2;36m                    \u001b[0m         removed in Kedro-Datasets \u001b[1;36m2.0\u001b[0m.\u001b[1;36m0\u001b[0m                                        \u001b[2m               \u001b[0m\n",
       "\u001b[2;36m                    \u001b[0m           attr = \u001b[1;35mgetattr\u001b[0m\u001b[1m(\u001b[0msubmod, name\u001b[1m)\u001b[0m                                         \u001b[2m               \u001b[0m\n",
       "\u001b[2;36m                    \u001b[0m                                                                                \u001b[2m               \u001b[0m\n"
      ]
     },
     "metadata": {},
     "output_type": "display_data"
    },
    {
     "data": {
      "text/html": [
       "<pre style=\"white-space:pre;overflow-x:auto;line-height:normal;font-family:Menlo,'DejaVu Sans Mono',consolas,'Courier New',monospace\"><span style=\"color: #7fbfbf; text-decoration-color: #7fbfbf\">                    </span><span style=\"color: #000080; text-decoration-color: #000080\">INFO    </span> Kedro project Kaggle Housing Price Prediction                          <a href=\"file:///home/gunee/anaconda3/envs/ai-hack-melbourne-2023/lib/python3.10/site-packages/kedro/ipython/__init__.py\" target=\"_blank\"><span style=\"color: #7f7f7f; text-decoration-color: #7f7f7f\">__init__.py</span></a><span style=\"color: #7f7f7f; text-decoration-color: #7f7f7f\">:</span><a href=\"file:///home/gunee/anaconda3/envs/ai-hack-melbourne-2023/lib/python3.10/site-packages/kedro/ipython/__init__.py#108\" target=\"_blank\"><span style=\"color: #7f7f7f; text-decoration-color: #7f7f7f\">108</span></a>\n",
       "</pre>\n"
      ],
      "text/plain": [
       "\u001b[2;36m                   \u001b[0m\u001b[2;36m \u001b[0m\u001b[34mINFO    \u001b[0m Kedro project Kaggle Housing Price Prediction                          \u001b]8;id=384860;file:///home/gunee/anaconda3/envs/ai-hack-melbourne-2023/lib/python3.10/site-packages/kedro/ipython/__init__.py\u001b\\\u001b[2m__init__.py\u001b[0m\u001b]8;;\u001b\\\u001b[2m:\u001b[0m\u001b]8;id=798716;file:///home/gunee/anaconda3/envs/ai-hack-melbourne-2023/lib/python3.10/site-packages/kedro/ipython/__init__.py#108\u001b\\\u001b[2m108\u001b[0m\u001b]8;;\u001b\\\n"
      ]
     },
     "metadata": {},
     "output_type": "display_data"
    },
    {
     "data": {
      "text/html": [
       "<pre style=\"white-space:pre;overflow-x:auto;line-height:normal;font-family:Menlo,'DejaVu Sans Mono',consolas,'Courier New',monospace\"><span style=\"color: #7fbfbf; text-decoration-color: #7fbfbf\">                    </span><span style=\"color: #000080; text-decoration-color: #000080\">INFO    </span> Defined global variable <span style=\"color: #008000; text-decoration-color: #008000\">'context'</span>, <span style=\"color: #008000; text-decoration-color: #008000\">'session'</span>, <span style=\"color: #008000; text-decoration-color: #008000\">'catalog'</span> and            <a href=\"file:///home/gunee/anaconda3/envs/ai-hack-melbourne-2023/lib/python3.10/site-packages/kedro/ipython/__init__.py\" target=\"_blank\"><span style=\"color: #7f7f7f; text-decoration-color: #7f7f7f\">__init__.py</span></a><span style=\"color: #7f7f7f; text-decoration-color: #7f7f7f\">:</span><a href=\"file:///home/gunee/anaconda3/envs/ai-hack-melbourne-2023/lib/python3.10/site-packages/kedro/ipython/__init__.py#109\" target=\"_blank\"><span style=\"color: #7f7f7f; text-decoration-color: #7f7f7f\">109</span></a>\n",
       "<span style=\"color: #7fbfbf; text-decoration-color: #7fbfbf\">                    </span>         <span style=\"color: #008000; text-decoration-color: #008000\">'pipelines'</span>                                                            <span style=\"color: #7f7f7f; text-decoration-color: #7f7f7f\">               </span>\n",
       "</pre>\n"
      ],
      "text/plain": [
       "\u001b[2;36m                   \u001b[0m\u001b[2;36m \u001b[0m\u001b[34mINFO    \u001b[0m Defined global variable \u001b[32m'context'\u001b[0m, \u001b[32m'session'\u001b[0m, \u001b[32m'catalog'\u001b[0m and            \u001b]8;id=7227;file:///home/gunee/anaconda3/envs/ai-hack-melbourne-2023/lib/python3.10/site-packages/kedro/ipython/__init__.py\u001b\\\u001b[2m__init__.py\u001b[0m\u001b]8;;\u001b\\\u001b[2m:\u001b[0m\u001b]8;id=267518;file:///home/gunee/anaconda3/envs/ai-hack-melbourne-2023/lib/python3.10/site-packages/kedro/ipython/__init__.py#109\u001b\\\u001b[2m109\u001b[0m\u001b]8;;\u001b\\\n",
       "\u001b[2;36m                    \u001b[0m         \u001b[32m'pipelines'\u001b[0m                                                            \u001b[2m               \u001b[0m\n"
      ]
     },
     "metadata": {},
     "output_type": "display_data"
    },
    {
     "data": {
      "text/html": [
       "<pre style=\"white-space:pre;overflow-x:auto;line-height:normal;font-family:Menlo,'DejaVu Sans Mono',consolas,'Courier New',monospace\"><span style=\"color: #7fbfbf; text-decoration-color: #7fbfbf\">                    </span><span style=\"color: #000080; text-decoration-color: #000080\">INFO    </span> Registered line magic <span style=\"color: #008000; text-decoration-color: #008000\">'run_viz'</span>                                        <a href=\"file:///home/gunee/anaconda3/envs/ai-hack-melbourne-2023/lib/python3.10/site-packages/kedro/ipython/__init__.py\" target=\"_blank\"><span style=\"color: #7f7f7f; text-decoration-color: #7f7f7f\">__init__.py</span></a><span style=\"color: #7f7f7f; text-decoration-color: #7f7f7f\">:</span><a href=\"file:///home/gunee/anaconda3/envs/ai-hack-melbourne-2023/lib/python3.10/site-packages/kedro/ipython/__init__.py#115\" target=\"_blank\"><span style=\"color: #7f7f7f; text-decoration-color: #7f7f7f\">115</span></a>\n",
       "</pre>\n"
      ],
      "text/plain": [
       "\u001b[2;36m                   \u001b[0m\u001b[2;36m \u001b[0m\u001b[34mINFO    \u001b[0m Registered line magic \u001b[32m'run_viz'\u001b[0m                                        \u001b]8;id=418798;file:///home/gunee/anaconda3/envs/ai-hack-melbourne-2023/lib/python3.10/site-packages/kedro/ipython/__init__.py\u001b\\\u001b[2m__init__.py\u001b[0m\u001b]8;;\u001b\\\u001b[2m:\u001b[0m\u001b]8;id=629668;file:///home/gunee/anaconda3/envs/ai-hack-melbourne-2023/lib/python3.10/site-packages/kedro/ipython/__init__.py#115\u001b\\\u001b[2m115\u001b[0m\u001b]8;;\u001b\\\n"
      ]
     },
     "metadata": {},
     "output_type": "display_data"
    }
   ],
   "source": [
    "%reload_kedro\n",
    "import pandas as pd\n",
    "import seaborn as sns\n",
    "sns.set(style=\"whitegrid\")\n",
    "import matplotlib.pyplot as plt"
   ]
  },
  {
   "cell_type": "code",
   "execution_count": 2,
   "id": "1135ea6b-5e1c-481f-b5e1-26eb6f3bae02",
   "metadata": {
    "tags": []
   },
   "outputs": [
    {
     "data": {
      "text/html": [
       "<pre style=\"white-space:pre;overflow-x:auto;line-height:normal;font-family:Menlo,'DejaVu Sans Mono',consolas,'Courier New',monospace\"><span style=\"color: #7fbfbf; text-decoration-color: #7fbfbf\">                    </span><span style=\"color: #000080; text-decoration-color: #000080\">INFO    </span> Loading data from <span style=\"color: #008000; text-decoration-color: #008000\">'raw_train'</span> <span style=\"font-weight: bold\">(</span>CSVDataset<span style=\"font-weight: bold\">)</span><span style=\"color: #808000; text-decoration-color: #808000\">...</span>                      <a href=\"file:///home/gunee/anaconda3/envs/ai-hack-melbourne-2023/lib/python3.10/site-packages/kedro/io/data_catalog.py\" target=\"_blank\"><span style=\"color: #7f7f7f; text-decoration-color: #7f7f7f\">data_catalog.py</span></a><span style=\"color: #7f7f7f; text-decoration-color: #7f7f7f\">:</span><a href=\"file:///home/gunee/anaconda3/envs/ai-hack-melbourne-2023/lib/python3.10/site-packages/kedro/io/data_catalog.py#492\" target=\"_blank\"><span style=\"color: #7f7f7f; text-decoration-color: #7f7f7f\">492</span></a>\n",
       "</pre>\n"
      ],
      "text/plain": [
       "\u001b[2;36m                   \u001b[0m\u001b[2;36m \u001b[0m\u001b[34mINFO    \u001b[0m Loading data from \u001b[32m'raw_train'\u001b[0m \u001b[1m(\u001b[0mCSVDataset\u001b[1m)\u001b[0m\u001b[33m...\u001b[0m                      \u001b]8;id=147821;file:///home/gunee/anaconda3/envs/ai-hack-melbourne-2023/lib/python3.10/site-packages/kedro/io/data_catalog.py\u001b\\\u001b[2mdata_catalog.py\u001b[0m\u001b]8;;\u001b\\\u001b[2m:\u001b[0m\u001b]8;id=346447;file:///home/gunee/anaconda3/envs/ai-hack-melbourne-2023/lib/python3.10/site-packages/kedro/io/data_catalog.py#492\u001b\\\u001b[2m492\u001b[0m\u001b]8;;\u001b\\\n"
      ]
     },
     "metadata": {},
     "output_type": "display_data"
    },
    {
     "data": {
      "text/html": [
       "<pre style=\"white-space:pre;overflow-x:auto;line-height:normal;font-family:Menlo,'DejaVu Sans Mono',consolas,'Courier New',monospace\"><span style=\"color: #7fbfbf; text-decoration-color: #7fbfbf\">                    </span><span style=\"color: #000080; text-decoration-color: #000080\">INFO    </span> Loading data from <span style=\"color: #008000; text-decoration-color: #008000\">'data_dictionary'</span> <span style=\"font-weight: bold\">(</span>JSONDataset<span style=\"font-weight: bold\">)</span><span style=\"color: #808000; text-decoration-color: #808000\">...</span>               <a href=\"file:///home/gunee/anaconda3/envs/ai-hack-melbourne-2023/lib/python3.10/site-packages/kedro/io/data_catalog.py\" target=\"_blank\"><span style=\"color: #7f7f7f; text-decoration-color: #7f7f7f\">data_catalog.py</span></a><span style=\"color: #7f7f7f; text-decoration-color: #7f7f7f\">:</span><a href=\"file:///home/gunee/anaconda3/envs/ai-hack-melbourne-2023/lib/python3.10/site-packages/kedro/io/data_catalog.py#492\" target=\"_blank\"><span style=\"color: #7f7f7f; text-decoration-color: #7f7f7f\">492</span></a>\n",
       "</pre>\n"
      ],
      "text/plain": [
       "\u001b[2;36m                   \u001b[0m\u001b[2;36m \u001b[0m\u001b[34mINFO    \u001b[0m Loading data from \u001b[32m'data_dictionary'\u001b[0m \u001b[1m(\u001b[0mJSONDataset\u001b[1m)\u001b[0m\u001b[33m...\u001b[0m               \u001b]8;id=591742;file:///home/gunee/anaconda3/envs/ai-hack-melbourne-2023/lib/python3.10/site-packages/kedro/io/data_catalog.py\u001b\\\u001b[2mdata_catalog.py\u001b[0m\u001b]8;;\u001b\\\u001b[2m:\u001b[0m\u001b]8;id=425165;file:///home/gunee/anaconda3/envs/ai-hack-melbourne-2023/lib/python3.10/site-packages/kedro/io/data_catalog.py#492\u001b\\\u001b[2m492\u001b[0m\u001b]8;;\u001b\\\n"
      ]
     },
     "metadata": {},
     "output_type": "display_data"
    }
   ],
   "source": [
    "df = catalog.load(\"raw_train\")\n",
    "data_dict = catalog.load(\"data_dictionary\")"
   ]
  },
  {
   "cell_type": "markdown",
   "id": "62843718-fe6a-4294-abb4-5ffa58b00177",
   "metadata": {
    "tags": []
   },
   "source": [
    "# Attributes and their meanings\n",
    "\n",
    "**Dwelling and Structure Information**:\n",
    "- MSSubClass: Identifies the type of dwelling involved in the sale.\n",
    "- MSZoning: Identifies the general zoning classification of the sale.\n",
    "- LotFrontage: Linear feet of street connected to the property.\n",
    "- LotArea: Lot size in square feet.\n",
    "- Street: Type of road access to the property.\n",
    "- Alley: Type of alley access to the property.\n",
    "- LotShape: General shape of the property.\n",
    "- LandContour: Flatness of the property.\n",
    "- Utilities: Type of utilities available.\n",
    "- LotConfig: Lot configuration.\n",
    "- LandSlope: Slope of the property.\n",
    "- Neighborhood: Physical locations within Ames city limits.\n",
    "- Condition1: Proximity to various conditions.\n",
    "- Condition2: Proximity to various conditions (if more than one is present).\n",
    "- BldgType: Type of dwelling.\n",
    "- HouseStyle: Style of dwelling.\n",
    "- OverallQual: Rates the overall material and finish of the house.\n",
    "- OverallCond: Rates the overall condition of the house.\n",
    "- YearBuilt: Original construction date.\n",
    "- YearRemodAdd: Remodel date.\n",
    "- RoofStyle: Type of roof.\n",
    "- RoofMatl: Roof material.\n",
    "- Exterior1st: Exterior covering on the house.\n",
    "- Exterior2nd: Exterior covering on the house (if more than one material).\n",
    "- MasVnrType: Masonry veneer type.\n",
    "- MasVnrArea: Masonry veneer area.\n",
    "- ExterQual: Exterior material quality.\n",
    "- ExterCond: Exterior material condition.\n",
    "- Foundation: Type of foundation.\n",
    "- BsmtQual: Basement height quality.\n",
    "- BsmtCond: Basement general condition.\n",
    "- BsmtExposure: Basement wall exposure.\n",
    "- BsmtFinType1: Rating of basement finished area.\n",
    "- BsmtFinSF1: Type 1 finished square feet.\n",
    "- BsmtFinType2: Rating of basement finished area (if multiple types).\n",
    "- BsmtFinSF2: Type 2 finished square feet.\n",
    "- BsmtUnfSF: Unfinished square feet of basement area.\n",
    "- TotalBsmtSF: Total square feet of the basement area.\n",
    "- Heating: Type of heating.\n",
    "- HeatingQC: Heating quality and condition.\n",
    "- CentralAir: Central air conditioning.\n",
    "- Electrical: Electrical system.\n",
    "- 1stFlrSF: First Floor square feet.\n",
    "- 2ndFlrSF: Second-floor square feet.\n",
    "- LowQualFinSF: Low-quality finished square feet.\n",
    "- GrLivArea: Above-grade living area square feet.\n",
    "- BsmtFullBath: Basement full bathrooms.\n",
    "- BsmtHalfBath: Basement half bathrooms.\n",
    "- FullBath: Full bathrooms above grade.\n",
    "- HalfBath: Half baths above grade.\n",
    "- BedroomAbvGr: Bedrooms above grade.\n",
    "- KitchenAbvGr: Kitchens above grade.\n",
    "- KitchenQual: Kitchen quality.\n",
    "- TotRmsAbvGrd: Total rooms above grade (does not include bathrooms).\n",
    "- Functional: Home functionality.\n",
    "- Fireplaces: Number of fireplaces.\n",
    "- FireplaceQu: Fireplace quality.\n",
    "\n",
    "**Exterior Features and Outdoor Space**:\n",
    "- WoodDeckSF: Wood deck area in square feet.\n",
    "- OpenPorchSF: Open porch area in square feet.\n",
    "- EnclosedPorch: Enclosed porch area in square feet.\n",
    "- 3SsnPorch: Three-season porch area in square feet.\n",
    "- ScreenPorch: Screen porch area in square feet.\n",
    "- PoolArea: Pool area in square feet.\n",
    "- PoolQC: Pool quality.\n",
    "- Fence: Fence quality.\n",
    "- MiscFeature: Miscellaneous features not covered in other categories.\n",
    "- MiscVal: Value of miscellaneous features.\n",
    "\n",
    "**Garage Information**:\n",
    "- GarageType: Garage location.\n",
    "- GarageYrBlt: Year the garage was built.\n",
    "- GarageFinish: Interior finish of the garage.\n",
    "- GarageCars: Size of the garage in car capacity.\n",
    "- GarageArea: Size of the garage in square feet.\n",
    "- GarageQual: Garage quality.\n",
    "- GarageCond: Garage condition.\n",
    "\n",
    "**Sale Information**:\n",
    "- PavedDrive: Paved driveway.\n",
    "- MoSold: Month Sold.\n",
    "- YrSold: Year Sold.\n",
    "- SaleType: Type of sale.\n",
    "- SaleCondition: Condition of sale.\n",
    "- SalePrice: Sale price of the property."
   ]
  },
  {
   "cell_type": "markdown",
   "id": "299c652d-4c74-4c1f-86c2-c866d9fb6844",
   "metadata": {
    "tags": [],
    "toc-hr-collapsed": true
   },
   "source": [
    "# Null values"
   ]
  },
  {
   "cell_type": "code",
   "execution_count": 3,
   "id": "dc8f2b51-e3a4-441f-803b-ba0f955b526e",
   "metadata": {
    "tags": []
   },
   "outputs": [
    {
     "data": {
      "text/html": [
       "<pre style=\"white-space:pre;overflow-x:auto;line-height:normal;font-family:Menlo,'DejaVu Sans Mono',consolas,'Courier New',monospace\"></pre>\n"
      ],
      "text/plain": []
     },
     "metadata": {},
     "output_type": "display_data"
    },
    {
     "data": {
      "text/plain": [
       "\u001b[1m<\u001b[0m\u001b[1;95mAxes:\u001b[0m\u001b[39m \u001b[0m\u001b[1m>\u001b[0m"
      ]
     },
     "execution_count": 3,
     "metadata": {},
     "output_type": "execute_result"
    },
    {
     "data": {
      "text/html": [
       "<pre style=\"white-space:pre;overflow-x:auto;line-height:normal;font-family:Menlo,'DejaVu Sans Mono',consolas,'Courier New',monospace\"></pre>\n"
      ],
      "text/plain": []
     },
     "metadata": {},
     "output_type": "display_data"
    },
    {
     "data": {
      "image/png": "[encoded data removed]",
      "text/plain": [
       "\u001b[1m<\u001b[0m\u001b[1;95mFigure\u001b[0m\u001b[39m size 64\u001b[0m\u001b[1;36m0x480\u001b[0m\u001b[39m with \u001b[0m\u001b[1;36m2\u001b[0m\u001b[39m Axes\u001b[0m\u001b[1m>\u001b[0m"
      ]
     },
     "metadata": {},
     "output_type": "display_data"
    }
   ],
   "source": [
    "sns.heatmap(df.isna())"
   ]
  },
  {
   "cell_type": "code",
   "execution_count": 4,
   "id": "d26bbb37-96f6-4e62-ad69-53ca618af7c3",
   "metadata": {
    "tags": []
   },
   "outputs": [],
   "source": [
    "columns_with_nulls = df.columns[df.isnull().any()]\n",
    "\n",
    "df_with_nulls = df[columns_with_nulls]"
   ]
  },
  {
   "cell_type": "code",
   "execution_count": 5,
   "id": "498c48e4-9e36-42b4-b3db-01189c0e9659",
   "metadata": {},
   "outputs": [
    {
     "data": {
      "text/html": [
       "<pre style=\"white-space:pre;overflow-x:auto;line-height:normal;font-family:Menlo,'DejaVu Sans Mono',consolas,'Courier New',monospace\"></pre>\n"
      ],
      "text/plain": []
     },
     "metadata": {},
     "output_type": "display_data"
    },
    {
     "data": {
      "text/plain": [
       "\n",
       "\u001b[1;35mIndex\u001b[0m\u001b[1m(\u001b[0m\u001b[1m[\u001b[0m\u001b[32m'LotFrontage'\u001b[0m, \u001b[32m'Alley'\u001b[0m, \u001b[32m'MasVnrType'\u001b[0m, \u001b[32m'MasVnrArea'\u001b[0m, \u001b[32m'BsmtQual'\u001b[0m,\n",
       "       \u001b[32m'BsmtCond'\u001b[0m, \u001b[32m'BsmtExposure'\u001b[0m, \u001b[32m'BsmtFinType1'\u001b[0m, \u001b[32m'BsmtFinType2'\u001b[0m,\n",
       "       \u001b[32m'Electrical'\u001b[0m, \u001b[32m'FireplaceQu'\u001b[0m, \u001b[32m'GarageType'\u001b[0m, \u001b[32m'GarageYrBlt'\u001b[0m,\n",
       "       \u001b[32m'GarageFinish'\u001b[0m, \u001b[32m'GarageQual'\u001b[0m, \u001b[32m'GarageCond'\u001b[0m, \u001b[32m'PoolQC'\u001b[0m, \u001b[32m'Fence'\u001b[0m,\n",
       "       \u001b[32m'MiscFeature'\u001b[0m\u001b[1m]\u001b[0m,\n",
       "      \u001b[33mdtype\u001b[0m=\u001b[32m'object'\u001b[0m\u001b[1m)\u001b[0m"
      ]
     },
     "execution_count": 5,
     "metadata": {},
     "output_type": "execute_result"
    }
   ],
   "source": [
    "columns_with_nulls"
   ]
  },
  {
   "cell_type": "code",
   "execution_count": 6,
   "id": "dafbb595-ba98-4549-9b2c-d6cfb50c856a",
   "metadata": {},
   "outputs": [
    {
     "data": {
      "text/html": [
       "<pre style=\"white-space:pre;overflow-x:auto;line-height:normal;font-family:Menlo,'DejaVu Sans Mono',consolas,'Courier New',monospace\"><span style=\"color: #7fbfbf; text-decoration-color: #7fbfbf\">                    </span><span style=\"color: #800000; text-decoration-color: #800000\">WARNING </span> <span style=\"color: #800080; text-decoration-color: #800080\">/tmp/ipykernel_35025/</span><span style=\"color: #ff00ff; text-decoration-color: #ff00ff\">1455154588.py</span>:<span style=\"color: #008080; text-decoration-color: #008080; font-weight: bold\">6</span>: FutureWarning:                   <a href=\"file:///home/gunee/anaconda3/envs/ai-hack-melbourne-2023/lib/python3.10/warnings.py\" target=\"_blank\"><span style=\"color: #7f7f7f; text-decoration-color: #7f7f7f\">warnings.py</span></a><span style=\"color: #7f7f7f; text-decoration-color: #7f7f7f\">:</span><a href=\"file:///home/gunee/anaconda3/envs/ai-hack-melbourne-2023/lib/python3.10/warnings.py#109\" target=\"_blank\"><span style=\"color: #7f7f7f; text-decoration-color: #7f7f7f\">109</span></a>\n",
       "<span style=\"color: #7fbfbf; text-decoration-color: #7fbfbf\">                    </span>                                                                                <span style=\"color: #7f7f7f; text-decoration-color: #7f7f7f\">               </span>\n",
       "<span style=\"color: #7fbfbf; text-decoration-color: #7fbfbf\">                    </span>         Passing `palette` without assigning `hue` is deprecated and will be    <span style=\"color: #7f7f7f; text-decoration-color: #7f7f7f\">               </span>\n",
       "<span style=\"color: #7fbfbf; text-decoration-color: #7fbfbf\">                    </span>         removed in v0.<span style=\"color: #008080; text-decoration-color: #008080; font-weight: bold\">14.0</span>. Assign the `y` variable to `hue` and set           <span style=\"color: #7f7f7f; text-decoration-color: #7f7f7f\">               </span>\n",
       "<span style=\"color: #7fbfbf; text-decoration-color: #7fbfbf\">                    </span>         `<span style=\"color: #808000; text-decoration-color: #808000\">legend</span>=<span style=\"color: #ff0000; text-decoration-color: #ff0000; font-style: italic\">False</span>` for the same effect.                                    <span style=\"color: #7f7f7f; text-decoration-color: #7f7f7f\">               </span>\n",
       "<span style=\"color: #7fbfbf; text-decoration-color: #7fbfbf\">                    </span>                                                                                <span style=\"color: #7f7f7f; text-decoration-color: #7f7f7f\">               </span>\n",
       "<span style=\"color: #7fbfbf; text-decoration-color: #7fbfbf\">                    </span>           <span style=\"color: #800080; text-decoration-color: #800080; font-weight: bold\">sns.barplot</span><span style=\"font-weight: bold\">(</span><span style=\"color: #808000; text-decoration-color: #808000\">x</span>=<span style=\"color: #800080; text-decoration-color: #800080\">missing_percentage</span>.values, <span style=\"color: #808000; text-decoration-color: #808000\">y</span>=<span style=\"color: #800080; text-decoration-color: #800080\">missing_percentage</span>.index, <span style=\"color: #7f7f7f; text-decoration-color: #7f7f7f\">               </span>\n",
       "<span style=\"color: #7fbfbf; text-decoration-color: #7fbfbf\">                    </span>         <span style=\"color: #808000; text-decoration-color: #808000\">palette</span>=<span style=\"color: #008000; text-decoration-color: #008000\">\"Blues\"</span>, <span style=\"color: #808000; text-decoration-color: #808000\">orient</span>=<span style=\"color: #008000; text-decoration-color: #008000\">\"h\"</span>, <span style=\"color: #808000; text-decoration-color: #808000\">legend</span>=<span style=\"color: #ff0000; text-decoration-color: #ff0000; font-style: italic\">False</span><span style=\"font-weight: bold\">)</span>                             <span style=\"color: #7f7f7f; text-decoration-color: #7f7f7f\">               </span>\n",
       "<span style=\"color: #7fbfbf; text-decoration-color: #7fbfbf\">                    </span>                                                                                <span style=\"color: #7f7f7f; text-decoration-color: #7f7f7f\">               </span>\n",
       "</pre>\n"
      ],
      "text/plain": [
       "\u001b[2;36m                   \u001b[0m\u001b[2;36m \u001b[0m\u001b[31mWARNING \u001b[0m \u001b[35m/tmp/ipykernel_35025/\u001b[0m\u001b[95m1455154588.py\u001b[0m:\u001b[1;36m6\u001b[0m: FutureWarning:                   \u001b]8;id=89068;file:///home/gunee/anaconda3/envs/ai-hack-melbourne-2023/lib/python3.10/warnings.py\u001b\\\u001b[2mwarnings.py\u001b[0m\u001b]8;;\u001b\\\u001b[2m:\u001b[0m\u001b]8;id=131937;file:///home/gunee/anaconda3/envs/ai-hack-melbourne-2023/lib/python3.10/warnings.py#109\u001b\\\u001b[2m109\u001b[0m\u001b]8;;\u001b\\\n",
       "\u001b[2;36m                    \u001b[0m                                                                                \u001b[2m               \u001b[0m\n",
       "\u001b[2;36m                    \u001b[0m         Passing `palette` without assigning `hue` is deprecated and will be    \u001b[2m               \u001b[0m\n",
       "\u001b[2;36m                    \u001b[0m         removed in v0.\u001b[1;36m14.0\u001b[0m. Assign the `y` variable to `hue` and set           \u001b[2m               \u001b[0m\n",
       "\u001b[2;36m                    \u001b[0m         `\u001b[33mlegend\u001b[0m=\u001b[3;91mFalse\u001b[0m` for the same effect.                                    \u001b[2m               \u001b[0m\n",
       "\u001b[2;36m                    \u001b[0m                                                                                \u001b[2m               \u001b[0m\n",
       "\u001b[2;36m                    \u001b[0m           \u001b[1;35msns.barplot\u001b[0m\u001b[1m(\u001b[0m\u001b[33mx\u001b[0m=\u001b[35mmissing_percentage\u001b[0m.values, \u001b[33my\u001b[0m=\u001b[35mmissing_percentage\u001b[0m.index, \u001b[2m               \u001b[0m\n",
       "\u001b[2;36m                    \u001b[0m         \u001b[33mpalette\u001b[0m=\u001b[32m\"Blues\"\u001b[0m, \u001b[33morient\u001b[0m=\u001b[32m\"h\"\u001b[0m, \u001b[33mlegend\u001b[0m=\u001b[3;91mFalse\u001b[0m\u001b[1m)\u001b[0m                             \u001b[2m               \u001b[0m\n",
       "\u001b[2;36m                    \u001b[0m                                                                                \u001b[2m               \u001b[0m\n"
      ]
     },
     "metadata": {},
     "output_type": "display_data"
    },
    {
     "data": {
      "text/html": [
       "<pre style=\"white-space:pre;overflow-x:auto;line-height:normal;font-family:Menlo,'DejaVu Sans Mono',consolas,'Courier New',monospace\"></pre>\n"
      ],
      "text/plain": []
     },
     "metadata": {},
     "output_type": "display_data"
    },
    {
     "data": {
      "image/png": "[encoded data removed]",
      "text/plain": [
       "\u001b[1m<\u001b[0m\u001b[1;95mFigure\u001b[0m\u001b[39m size 120\u001b[0m\u001b[1;36m0x600\u001b[0m\u001b[39m with \u001b[0m\u001b[1;36m1\u001b[0m\u001b[39m Axes\u001b[0m\u001b[1m>\u001b[0m"
      ]
     },
     "metadata": {},
     "output_type": "display_data"
    }
   ],
   "source": [
    "missing_percentage = (df_with_nulls.isnull().sum() / len(df)) * 100\n",
    "\n",
    "missing_percentage = missing_percentage.sort_values()\n",
    "\n",
    "plt.figure(figsize=(12, 6))\n",
    "sns.barplot(x=missing_percentage.values, y=missing_percentage.index, palette=\"Blues\", orient=\"h\", legend=False)\n",
    "\n",
    "plt.xlabel('Percentage of Missing Values')\n",
    "plt.ylabel('Attributes')\n",
    "plt.title('Percentage of Missing Values by Attribute')\n",
    "\n",
    "plt.show()"
   ]
  },
  {
   "cell_type": "markdown",
   "id": "5feeaeac-b8e3-4bbf-8109-4b2fa9566c97",
   "metadata": {
    "tags": [],
    "toc-hr-collapsed": true
   },
   "source": [
    "## Descriptions of attributes with null values\n",
    "\n",
    "**LotFrontage**\n",
    "- **Description:** Linear feet of street connected to the property.\n",
    "- **Data Type:** Numeric (Continuous)\n",
    "\n",
    "**Alley**\n",
    "- **Description:** Type of alley access to the property.\n",
    "- **Data Type:** Categorical (Nominal)\n",
    "- **Categories:** 'Grvl' (Gravel), 'Pave' (Paved), 'NA' (No alley access)\n",
    "\n",
    "**MasVnrType**\n",
    "- **Description:** Masonry veneer type.\n",
    "- **Data Type:** Categorical (Nominal)\n",
    "- **Categories:** 'BrkCmn' (Brick Common), 'BrkFace' (Brick Face), 'CBlock' (Cinder Block), 'None' (None), 'Stone' (Stone)\n",
    "\n",
    "**MasVnrArea**\n",
    "- **Description:** Masonry veneer area in square feet.\n",
    "- **Data Type:** Numeric (Continuous)\n",
    "\n",
    "**BsmtQual**\n",
    "- **Description:** Evaluates the height of the basement.\n",
    "- **Data Type:** Categorical (Ordinal)\n",
    "- **Categories:** 'Ex' (Excellent), 'Gd' (Good), 'TA' (Typical), 'Fa' (Fair), 'Po' (Poor), 'NA' (No Basement)\n",
    "\n",
    "**BsmtCond**\n",
    "- **Description:** Evaluates the general condition of the basement.\n",
    "- **Data Type:** Categorical (Ordinal)\n",
    "- **Categories:** 'Ex' (Excellent), 'Gd' (Good), 'TA' (Typical), 'Fa' (Fair), 'Po' (Poor), 'NA' (No Basement)\n",
    "\n",
    "**BsmtExposure**\n",
    "- **Description:** Refers to walkout or garden level walls in the basement.\n",
    "- **Data Type:** Categorical (Ordinal)\n",
    "- **Categories:** 'Gd' (Good Exposure), 'Av' (Average Exposure), 'Mn' (Minimum Exposure), 'No' (No Exposure), 'NA' (No Basement)\n",
    "\n",
    "**BsmtFinType1**\n",
    "- **Description:** Rating of basement finished area.\n",
    "- **Data Type:** Categorical (Ordinal)\n",
    "- **Categories:** 'GLQ' (Good Living Quarters), 'ALQ' (Average Living Quarters), 'BLQ' (Below Average Living Quarters), 'Rec' (Average Rec Room), 'LwQ' (Low Quality), 'Unf' (Unfinished), 'NA' (No Basement)\n",
    "\n",
    "**BsmtFinType2**\n",
    "- **Description:** Rating of basement finished area (if multiple types).\n",
    "- **Data Type:** Categorical (Ordinal)\n",
    "- **Categories:** 'GLQ' (Good Living Quarters), 'ALQ' (Average Living Quarters), 'BLQ' (Below Average Living Quarters), 'Rec' (Average Rec Room), 'LwQ' (Low Quality), 'Unf' (Unfinished), 'NA' (No Basement)\n",
    "\n",
    "**Electrical**\n",
    "- **Description:** Electrical system.\n",
    "- **Data Type:** Categorical (Nominal)\n",
    "- **Categories:** 'SBrkr' (Standard Circuit Breakers & Romex), 'FuseA' (Fuse Box over 60 AMP), 'FuseF' (60 AMP Fuse Box and mostly Romex wiring), 'FuseP' (60 AMP Fuse Box and mostly knob & tube wiring), 'Mix' (Mixed)\n",
    "\n",
    "**FireplaceQu**\n",
    "- **Description:** Fireplace quality.\n",
    "- **Data Type:** Categorical (Ordinal)\n",
    "- **Categories:** 'Ex' (Excellent), 'Gd' (Good), 'TA' (Typical), 'Fa' (Fair), 'Po' (Poor), 'NA' (No Fireplace)\n",
    "\n",
    "**GarageType**\n",
    "- **Description:** Garage location.\n",
    "- **Data Type:** Categorical (Nominal)\n",
    "- **Categories:** '2Types' (More than one type of garage), 'Attchd' (Attached to home), 'Basment' (Basement Garage), 'BuiltIn' (Built-In), 'CarPort' (Car Port), 'Detchd' (Detached from home), 'NA' (No Garage)\n",
    "\n",
    "**GarageYrBlt**\n",
    "- **Description:** Year the garage was built.\n",
    "- **Data Type:** Numeric (Discrete)\n",
    "\n",
    "**GarageFinish**\n",
    "- **Description:** Interior finish of the garage.\n",
    "- **Data Type:** Categorical (Ordinal)\n",
    "- **Categories:** 'Fin' (Finished), 'RFn' (Rough Finished), 'Unf' (Unfinished), 'NA' (No Garage)\n",
    "\n",
    "**GarageQual**\n",
    "- **Description:** Garage quality.\n",
    "- **Data Type:** Categorical (Ordinal)\n",
    "- **Categories:** 'Ex' (Excellent), 'Gd' (Good), 'TA' (Typical), 'Fa' (Fair), 'Po' (Poor), 'NA' (No Garage)\n",
    "\n",
    "**GarageCond**\n",
    "- **Description:** Garage condition.\n",
    "- **Data Type:** Categorical (Ordinal)\n",
    "- **Categories:** 'Ex' (Excellent), 'Gd' (Good), 'TA' (Typical), 'Fa' (Fair), 'Po' (Poor), 'NA' (No Garage)\n",
    "\n",
    "**PoolQC**\n",
    "- **Description:** Pool quality.\n",
    "- **Data Type:** Categorical (Ordinal)\n",
    "- **Categories:** 'Ex' (Excellent), 'Gd' (Good), 'TA' (Typical), 'Fa' (Fair), 'NA' (No Pool)\n",
    "\n",
    "**Fence**\n",
    "- **Description:** Fence quality.\n",
    "- **Data Type:** Categorical (Ordinal)\n",
    "- **Categories:** 'GdPrv' (Good Privacy), 'MnPrv' (Minimum Privacy), 'GdWo' (Good Wood), 'MnWw' (Minimum Wood/Wire), 'NA' (No Fence)\n",
    "\n",
    "**MiscFeature**\n",
    "- **Description:** Miscellaneous feature not covered in other categories.\n",
    "- **Data Type:** Categorical (Nominal)\n",
    "- **Categories:** 'Elev' (Elevator), 'Gar2' (2nd Garage), 'Othr' (Other), 'Shed' (Shed), 'TenC' (Tennis Court), 'NA' (None)\n"
   ]
  },
  {
   "cell_type": "markdown",
   "id": "db42740c-216c-412e-8068-dab23744c1da",
   "metadata": {},
   "source": [
    "Create a dictionary of column names with null values to track them when dealing with null values."
   ]
  },
  {
   "cell_type": "code",
   "execution_count": 7,
   "id": "aa7cec16-6dd3-4500-9203-4708f5e623ef",
   "metadata": {
    "tags": []
   },
   "outputs": [],
   "source": [
    "missing_dict = missing_percentage.to_dict()"
   ]
  },
  {
   "cell_type": "code",
   "execution_count": 8,
   "id": "331691f0-08e3-41e9-9925-ba0ab0a9c91c",
   "metadata": {},
   "outputs": [
    {
     "name": "stdout",
     "output_type": "stream",
     "text": [
      "{'Electrical': 0.0684931506849315, 'MasVnrArea': 0.547945205479452, 'BsmtQual': 2.5342465753424657, 'BsmtCond': 2.5342465753424657, 'BsmtFinType1': 2.5342465753424657, 'BsmtExposure': 2.6027397260273974, 'BsmtFinType2': 2.6027397260273974, 'GarageCond': 5.5479452054794525, 'GarageQual': 5.5479452054794525, 'GarageFinish': 5.5479452054794525, 'GarageYrBlt': 5.5479452054794525, 'GarageType': 5.5479452054794525, 'LotFrontage': 17.73972602739726, 'FireplaceQu': 47.26027397260274, 'MasVnrType': 59.726027397260275, 'Fence': 80.75342465753424, 'Alley': 93.76712328767123, 'MiscFeature': 96.30136986301369, 'PoolQC': 99.52054794520548}\n"
     ]
    }
   ],
   "source": [
    "print(missing_dict)"
   ]
  },
  {
   "cell_type": "markdown",
   "id": "30e807a6-c3e1-4f71-b09e-db2bda2d20bc",
   "metadata": {},
   "source": [
    "## Removing null values\n",
    "### PoolQC\n",
    "\n",
    "Let's start by analysing the PoolQC attribute as it has the highest proportion of null values. The data dictionary shows that there are two attributes related to pools \n",
    "- PoolArea: Pool area in square feet\n",
    "- PoolQC: Pool quality.\n",
    "\n",
    "These attributes may be important in prediction of outlier price values since houses with private pools are traditionally considered as a luxury addition to the property."
   ]
  },
  {
   "cell_type": "code",
   "execution_count": 9,
   "id": "ff61fdc0-0b18-4305-83d3-e950900f8936",
   "metadata": {},
   "outputs": [
    {
     "name": "stdout",
     "output_type": "stream",
     "text": [
      "{'Description': 'Pool quality', 'Categories': {'Ex': 'Excellent', 'Gd': 'Good', 'TA': 'Average/Typical', 'Fa': 'Fair', 'NA': 'No Pool'}}\n"
     ]
    }
   ],
   "source": [
    "print(data_dict.get(\"PoolQC\"))"
   ]
  },
  {
   "cell_type": "code",
   "execution_count": 10,
   "id": "ab42c43b-399f-484a-9892-21e33ff82a51",
   "metadata": {},
   "outputs": [
    {
     "data": {
      "text/html": [
       "<pre style=\"white-space:pre;overflow-x:auto;line-height:normal;font-family:Menlo,'DejaVu Sans Mono',consolas,'Courier New',monospace\"></pre>\n"
      ],
      "text/plain": []
     },
     "metadata": {},
     "output_type": "display_data"
    },
    {
     "data": {
      "text/plain": [
       "\n",
       "count      \u001b[1;36m7\u001b[0m\n",
       "unique     \u001b[1;36m3\u001b[0m\n",
       "top       Gd\n",
       "freq       \u001b[1;36m3\u001b[0m\n",
       "Name: PoolQC, dtype: object"
      ]
     },
     "execution_count": 10,
     "metadata": {},
     "output_type": "execute_result"
    }
   ],
   "source": [
    "df[\"PoolQC\"].describe()"
   ]
  },
  {
   "cell_type": "code",
   "execution_count": 11,
   "id": "2aa426e3-7cf5-4178-8a03-c4120611f92c",
   "metadata": {},
   "outputs": [
    {
     "data": {
      "text/html": [
       "<pre style=\"white-space:pre;overflow-x:auto;line-height:normal;font-family:Menlo,'DejaVu Sans Mono',consolas,'Courier New',monospace\"></pre>\n"
      ],
      "text/plain": []
     },
     "metadata": {},
     "output_type": "display_data"
    },
    {
     "data": {
      "image/png": "[encoded data removed]",
      "text/plain": [
       "\u001b[1m<\u001b[0m\u001b[1;95mFigure\u001b[0m\u001b[39m size 64\u001b[0m\u001b[1;36m0x480\u001b[0m\u001b[39m with \u001b[0m\u001b[1;36m1\u001b[0m\u001b[39m Axes\u001b[0m\u001b[1m>\u001b[0m"
      ]
     },
     "metadata": {},
     "output_type": "display_data"
    }
   ],
   "source": [
    "sns.histplot(data=df, x=\"PoolQC\", kde=True)\n",
    "plt.title(\"Histogram of Pool Quality (PoolQC)\")\n",
    "plt.xlabel(\"Pool Quality\")\n",
    "plt.ylabel(\"Count\")\n",
    "plt.show()"
   ]
  },
  {
   "cell_type": "markdown",
   "id": "2afcc335-935b-4f48-8d77-62f65da5057b",
   "metadata": {},
   "source": [
    "This attribute only has 7 non-null values. Let's manually check these rows. "
   ]
  },
  {
   "cell_type": "code",
   "execution_count": 12,
   "id": "64050310-010f-42b6-9b62-38fdf81b5e98",
   "metadata": {},
   "outputs": [
    {
     "data": {
      "text/html": [
       "<pre style=\"white-space:pre;overflow-x:auto;line-height:normal;font-family:Menlo,'DejaVu Sans Mono',consolas,'Courier New',monospace\"></pre>\n"
      ],
      "text/plain": []
     },
     "metadata": {},
     "output_type": "display_data"
    },
    {
     "data": {
      "text/html": [
       "<div>\n",
       "<style scoped>\n",
       "    .dataframe tbody tr th:only-of-type {\n",
       "        vertical-align: middle;\n",
       "    }\n",
       "\n",
       "    .dataframe tbody tr th {\n",
       "        vertical-align: top;\n",
       "    }\n",
       "\n",
       "    .dataframe thead th {\n",
       "        text-align: right;\n",
       "    }\n",
       "</style>\n",
       "<table border=\"1\" class=\"dataframe\">\n",
       "  <thead>\n",
       "    <tr style=\"text-align: right;\">\n",
       "      <th></th>\n",
       "      <th>Id</th>\n",
       "      <th>MSSubClass</th>\n",
       "      <th>MSZoning</th>\n",
       "      <th>LotFrontage</th>\n",
       "      <th>LotArea</th>\n",
       "      <th>Street</th>\n",
       "      <th>Alley</th>\n",
       "      <th>LotShape</th>\n",
       "      <th>LandContour</th>\n",
       "      <th>Utilities</th>\n",
       "      <th>...</th>\n",
       "      <th>PoolArea</th>\n",
       "      <th>PoolQC</th>\n",
       "      <th>Fence</th>\n",
       "      <th>MiscFeature</th>\n",
       "      <th>MiscVal</th>\n",
       "      <th>MoSold</th>\n",
       "      <th>YrSold</th>\n",
       "      <th>SaleType</th>\n",
       "      <th>SaleCondition</th>\n",
       "      <th>SalePrice</th>\n",
       "    </tr>\n",
       "  </thead>\n",
       "  <tbody>\n",
       "    <tr>\n",
       "      <th>197</th>\n",
       "      <td>198</td>\n",
       "      <td>75</td>\n",
       "      <td>RL</td>\n",
       "      <td>174.0</td>\n",
       "      <td>25419</td>\n",
       "      <td>Pave</td>\n",
       "      <td>NaN</td>\n",
       "      <td>Reg</td>\n",
       "      <td>Lvl</td>\n",
       "      <td>AllPub</td>\n",
       "      <td>...</td>\n",
       "      <td>512</td>\n",
       "      <td>Ex</td>\n",
       "      <td>GdPrv</td>\n",
       "      <td>NaN</td>\n",
       "      <td>0</td>\n",
       "      <td>3</td>\n",
       "      <td>2006</td>\n",
       "      <td>WD</td>\n",
       "      <td>Abnorml</td>\n",
       "      <td>235000</td>\n",
       "    </tr>\n",
       "    <tr>\n",
       "      <th>810</th>\n",
       "      <td>811</td>\n",
       "      <td>20</td>\n",
       "      <td>RL</td>\n",
       "      <td>78.0</td>\n",
       "      <td>10140</td>\n",
       "      <td>Pave</td>\n",
       "      <td>NaN</td>\n",
       "      <td>Reg</td>\n",
       "      <td>Lvl</td>\n",
       "      <td>AllPub</td>\n",
       "      <td>...</td>\n",
       "      <td>648</td>\n",
       "      <td>Fa</td>\n",
       "      <td>GdPrv</td>\n",
       "      <td>NaN</td>\n",
       "      <td>0</td>\n",
       "      <td>1</td>\n",
       "      <td>2006</td>\n",
       "      <td>WD</td>\n",
       "      <td>Normal</td>\n",
       "      <td>181000</td>\n",
       "    </tr>\n",
       "    <tr>\n",
       "      <th>1170</th>\n",
       "      <td>1171</td>\n",
       "      <td>80</td>\n",
       "      <td>RL</td>\n",
       "      <td>76.0</td>\n",
       "      <td>9880</td>\n",
       "      <td>Pave</td>\n",
       "      <td>NaN</td>\n",
       "      <td>Reg</td>\n",
       "      <td>Lvl</td>\n",
       "      <td>AllPub</td>\n",
       "      <td>...</td>\n",
       "      <td>576</td>\n",
       "      <td>Gd</td>\n",
       "      <td>GdPrv</td>\n",
       "      <td>NaN</td>\n",
       "      <td>0</td>\n",
       "      <td>7</td>\n",
       "      <td>2008</td>\n",
       "      <td>WD</td>\n",
       "      <td>Normal</td>\n",
       "      <td>171000</td>\n",
       "    </tr>\n",
       "    <tr>\n",
       "      <th>1182</th>\n",
       "      <td>1183</td>\n",
       "      <td>60</td>\n",
       "      <td>RL</td>\n",
       "      <td>160.0</td>\n",
       "      <td>15623</td>\n",
       "      <td>Pave</td>\n",
       "      <td>NaN</td>\n",
       "      <td>IR1</td>\n",
       "      <td>Lvl</td>\n",
       "      <td>AllPub</td>\n",
       "      <td>...</td>\n",
       "      <td>555</td>\n",
       "      <td>Ex</td>\n",
       "      <td>MnPrv</td>\n",
       "      <td>NaN</td>\n",
       "      <td>0</td>\n",
       "      <td>7</td>\n",
       "      <td>2007</td>\n",
       "      <td>WD</td>\n",
       "      <td>Abnorml</td>\n",
       "      <td>745000</td>\n",
       "    </tr>\n",
       "    <tr>\n",
       "      <th>1298</th>\n",
       "      <td>1299</td>\n",
       "      <td>60</td>\n",
       "      <td>RL</td>\n",
       "      <td>313.0</td>\n",
       "      <td>63887</td>\n",
       "      <td>Pave</td>\n",
       "      <td>NaN</td>\n",
       "      <td>IR3</td>\n",
       "      <td>Bnk</td>\n",
       "      <td>AllPub</td>\n",
       "      <td>...</td>\n",
       "      <td>480</td>\n",
       "      <td>Gd</td>\n",
       "      <td>NaN</td>\n",
       "      <td>NaN</td>\n",
       "      <td>0</td>\n",
       "      <td>1</td>\n",
       "      <td>2008</td>\n",
       "      <td>New</td>\n",
       "      <td>Partial</td>\n",
       "      <td>160000</td>\n",
       "    </tr>\n",
       "    <tr>\n",
       "      <th>1386</th>\n",
       "      <td>1387</td>\n",
       "      <td>60</td>\n",
       "      <td>RL</td>\n",
       "      <td>80.0</td>\n",
       "      <td>16692</td>\n",
       "      <td>Pave</td>\n",
       "      <td>NaN</td>\n",
       "      <td>IR1</td>\n",
       "      <td>Lvl</td>\n",
       "      <td>AllPub</td>\n",
       "      <td>...</td>\n",
       "      <td>519</td>\n",
       "      <td>Fa</td>\n",
       "      <td>MnPrv</td>\n",
       "      <td>TenC</td>\n",
       "      <td>2000</td>\n",
       "      <td>7</td>\n",
       "      <td>2006</td>\n",
       "      <td>WD</td>\n",
       "      <td>Normal</td>\n",
       "      <td>250000</td>\n",
       "    </tr>\n",
       "    <tr>\n",
       "      <th>1423</th>\n",
       "      <td>1424</td>\n",
       "      <td>80</td>\n",
       "      <td>RL</td>\n",
       "      <td>NaN</td>\n",
       "      <td>19690</td>\n",
       "      <td>Pave</td>\n",
       "      <td>NaN</td>\n",
       "      <td>IR1</td>\n",
       "      <td>Lvl</td>\n",
       "      <td>AllPub</td>\n",
       "      <td>...</td>\n",
       "      <td>738</td>\n",
       "      <td>Gd</td>\n",
       "      <td>GdPrv</td>\n",
       "      <td>NaN</td>\n",
       "      <td>0</td>\n",
       "      <td>8</td>\n",
       "      <td>2006</td>\n",
       "      <td>WD</td>\n",
       "      <td>Alloca</td>\n",
       "      <td>274970</td>\n",
       "    </tr>\n",
       "  </tbody>\n",
       "</table>\n",
       "<p>7 rows × 81 columns</p>\n",
       "</div>"
      ],
      "text/plain": [
       "\n",
       "        Id  MSSubClass MSZoning  LotFrontage  LotArea Street Alley LotShape  \\\n",
       "\u001b[1;36m197\u001b[0m    \u001b[1;36m198\u001b[0m          \u001b[1;36m75\u001b[0m       RL        \u001b[1;36m174.0\u001b[0m    \u001b[1;36m25419\u001b[0m   Pave   NaN      Reg   \n",
       "\u001b[1;36m810\u001b[0m    \u001b[1;36m811\u001b[0m          \u001b[1;36m20\u001b[0m       RL         \u001b[1;36m78.0\u001b[0m    \u001b[1;36m10140\u001b[0m   Pave   NaN      Reg   \n",
       "\u001b[1;36m1170\u001b[0m  \u001b[1;36m1171\u001b[0m          \u001b[1;36m80\u001b[0m       RL         \u001b[1;36m76.0\u001b[0m     \u001b[1;36m9880\u001b[0m   Pave   NaN      Reg   \n",
       "\u001b[1;36m1182\u001b[0m  \u001b[1;36m1183\u001b[0m          \u001b[1;36m60\u001b[0m       RL        \u001b[1;36m160.0\u001b[0m    \u001b[1;36m15623\u001b[0m   Pave   NaN      IR1   \n",
       "\u001b[1;36m1298\u001b[0m  \u001b[1;36m1299\u001b[0m          \u001b[1;36m60\u001b[0m       RL        \u001b[1;36m313.0\u001b[0m    \u001b[1;36m63887\u001b[0m   Pave   NaN      IR3   \n",
       "\u001b[1;36m1386\u001b[0m  \u001b[1;36m1387\u001b[0m          \u001b[1;36m60\u001b[0m       RL         \u001b[1;36m80.0\u001b[0m    \u001b[1;36m16692\u001b[0m   Pave   NaN      IR1   \n",
       "\u001b[1;36m1423\u001b[0m  \u001b[1;36m1424\u001b[0m          \u001b[1;36m80\u001b[0m       RL          NaN    \u001b[1;36m19690\u001b[0m   Pave   NaN      IR1   \n",
       "\n",
       "     LandContour Utilities  \u001b[33m...\u001b[0m PoolArea PoolQC  Fence MiscFeature MiscVal  \\\n",
       "\u001b[1;36m197\u001b[0m          Lvl    AllPub  \u001b[33m...\u001b[0m      \u001b[1;36m512\u001b[0m     Ex  GdPrv         NaN       \u001b[1;36m0\u001b[0m   \n",
       "\u001b[1;36m810\u001b[0m          Lvl    AllPub  \u001b[33m...\u001b[0m      \u001b[1;36m648\u001b[0m     Fa  GdPrv         NaN       \u001b[1;36m0\u001b[0m   \n",
       "\u001b[1;36m1170\u001b[0m         Lvl    AllPub  \u001b[33m...\u001b[0m      \u001b[1;36m576\u001b[0m     Gd  GdPrv         NaN       \u001b[1;36m0\u001b[0m   \n",
       "\u001b[1;36m1182\u001b[0m         Lvl    AllPub  \u001b[33m...\u001b[0m      \u001b[1;36m555\u001b[0m     Ex  MnPrv         NaN       \u001b[1;36m0\u001b[0m   \n",
       "\u001b[1;36m1298\u001b[0m         Bnk    AllPub  \u001b[33m...\u001b[0m      \u001b[1;36m480\u001b[0m     Gd    NaN         NaN       \u001b[1;36m0\u001b[0m   \n",
       "\u001b[1;36m1386\u001b[0m         Lvl    AllPub  \u001b[33m...\u001b[0m      \u001b[1;36m519\u001b[0m     Fa  MnPrv        TenC    \u001b[1;36m2000\u001b[0m   \n",
       "\u001b[1;36m1423\u001b[0m         Lvl    AllPub  \u001b[33m...\u001b[0m      \u001b[1;36m738\u001b[0m     Gd  GdPrv         NaN       \u001b[1;36m0\u001b[0m   \n",
       "\n",
       "     MoSold YrSold  SaleType  SaleCondition  SalePrice  \n",
       "\u001b[1;36m197\u001b[0m       \u001b[1;36m3\u001b[0m   \u001b[1;36m2006\u001b[0m        WD        Abnorml     \u001b[1;36m235000\u001b[0m  \n",
       "\u001b[1;36m810\u001b[0m       \u001b[1;36m1\u001b[0m   \u001b[1;36m2006\u001b[0m        WD         Normal     \u001b[1;36m181000\u001b[0m  \n",
       "\u001b[1;36m1170\u001b[0m      \u001b[1;36m7\u001b[0m   \u001b[1;36m2008\u001b[0m        WD         Normal     \u001b[1;36m171000\u001b[0m  \n",
       "\u001b[1;36m1182\u001b[0m      \u001b[1;36m7\u001b[0m   \u001b[1;36m2007\u001b[0m        WD        Abnorml     \u001b[1;36m745000\u001b[0m  \n",
       "\u001b[1;36m1298\u001b[0m      \u001b[1;36m1\u001b[0m   \u001b[1;36m2008\u001b[0m       New        Partial     \u001b[1;36m160000\u001b[0m  \n",
       "\u001b[1;36m1386\u001b[0m      \u001b[1;36m7\u001b[0m   \u001b[1;36m2006\u001b[0m        WD         Normal     \u001b[1;36m250000\u001b[0m  \n",
       "\u001b[1;36m1423\u001b[0m      \u001b[1;36m8\u001b[0m   \u001b[1;36m2006\u001b[0m        WD         Alloca     \u001b[1;36m274970\u001b[0m  \n",
       "\n",
       "\u001b[1m[\u001b[0m\u001b[1;36m7\u001b[0m rows x \u001b[1;36m81\u001b[0m columns\u001b[1m]\u001b[0m"
      ]
     },
     "execution_count": 12,
     "metadata": {},
     "output_type": "execute_result"
    }
   ],
   "source": [
    "df[df[\"PoolQC\"].isna() == False]"
   ]
  },
  {
   "cell_type": "markdown",
   "id": "0aff4039-9745-41f1-917b-b89246ee803e",
   "metadata": {},
   "source": [
    "Check whether there are other data points where pool areas are zero and pool quality is not null. "
   ]
  },
  {
   "cell_type": "code",
   "execution_count": 13,
   "id": "569ff9bc-9b93-4b4a-94b1-70dbfd8d2a12",
   "metadata": {},
   "outputs": [
    {
     "name": "stdout",
     "output_type": "stream",
     "text": [
      "There are no data points where PoolArea is not zero and PoolQC is not null.\n"
     ]
    }
   ],
   "source": [
    "filtered_data = df[(df['PoolArea'] == 0) & (~df['PoolQC'].isnull())]\n",
    "\n",
    "# Check if there are any rows that meet the condition\n",
    "if not filtered_data.empty:\n",
    "    print(\"There are data points where PoolArea is not zero and PoolQC is not null.\")\n",
    "    print(filtered_data)\n",
    "else:\n",
    "    print(\"There are no data points where PoolArea is not zero and PoolQC is not null.\")\n"
   ]
  },
  {
   "cell_type": "code",
   "execution_count": 14,
   "id": "718c940c-691f-4522-a89d-7d7ef9a47f3d",
   "metadata": {
    "tags": []
   },
   "outputs": [
    {
     "data": {
      "text/html": [
       "<pre style=\"white-space:pre;overflow-x:auto;line-height:normal;font-family:Menlo,'DejaVu Sans Mono',consolas,'Courier New',monospace\"></pre>\n"
      ],
      "text/plain": []
     },
     "metadata": {},
     "output_type": "display_data"
    },
    {
     "data": {
      "text/plain": [
       "\n",
       "count    \u001b[1;36m1460.000000\u001b[0m\n",
       "mean        \u001b[1;36m2.758904\u001b[0m\n",
       "std        \u001b[1;36m40.177307\u001b[0m\n",
       "min         \u001b[1;36m0.000000\u001b[0m\n",
       "\u001b[1;36m25\u001b[0m%         \u001b[1;36m0.000000\u001b[0m\n",
       "\u001b[1;36m50\u001b[0m%         \u001b[1;36m0.000000\u001b[0m\n",
       "\u001b[1;36m75\u001b[0m%         \u001b[1;36m0.000000\u001b[0m\n",
       "max       \u001b[1;36m738.000000\u001b[0m\n",
       "Name: PoolArea, dtype: float64"
      ]
     },
     "execution_count": 14,
     "metadata": {},
     "output_type": "execute_result"
    }
   ],
   "source": [
    "df[\"PoolArea\"].describe()"
   ]
  },
  {
   "cell_type": "markdown",
   "id": "f3b0f5bd-d83f-4198-9397-9a3d05ec0474",
   "metadata": {},
   "source": [
    "The attribute description shows that attribute \"PoolArea\" has very few non-zero values due to low mean values and high standard deviation. Check how many non-zero values PoolArea attribute has."
   ]
  },
  {
   "cell_type": "code",
   "execution_count": 15,
   "id": "29b69f3a-4dfc-43ec-8157-d1a5e8ffcc52",
   "metadata": {
    "tags": []
   },
   "outputs": [
    {
     "name": "stdout",
     "output_type": "stream",
     "text": [
      "Number of non-zero values in PoolArea: 7\n"
     ]
    }
   ],
   "source": [
    "non_zero_pool_area_count = (df['PoolArea'] != 0).sum()\n",
    "print(\"Number of non-zero values in PoolArea:\", non_zero_pool_area_count)"
   ]
  },
  {
   "cell_type": "markdown",
   "id": "70908ef1-e997-4081-acc3-5d13e085f436",
   "metadata": {
    "tags": []
   },
   "source": [
    "It's now clear that the missing values in the attribute PoolQC mean 'No Pool'. Therefore we replace all null values with 'NA' as pointed in the data dictionary."
   ]
  },
  {
   "cell_type": "code",
   "execution_count": 16,
   "id": "3b2ccf2a-be32-4692-b5b2-152785fae47d",
   "metadata": {},
   "outputs": [],
   "source": [
    "df['PoolQC'].fillna('NA', inplace=True)"
   ]
  },
  {
   "cell_type": "code",
   "execution_count": 17,
   "id": "f87b4e46-581a-410d-b05c-c714814b424b",
   "metadata": {},
   "outputs": [
    {
     "data": {
      "text/html": [
       "<pre style=\"white-space:pre;overflow-x:auto;line-height:normal;font-family:Menlo,'DejaVu Sans Mono',consolas,'Courier New',monospace\"></pre>\n"
      ],
      "text/plain": []
     },
     "metadata": {},
     "output_type": "display_data"
    },
    {
     "data": {
      "text/plain": [
       "\n",
       "count      \u001b[1;36m1460\u001b[0m\n",
       "unique        \u001b[1;36m1\u001b[0m\n",
       "top       \u001b[3;91mFalse\u001b[0m\n",
       "freq       \u001b[1;36m1460\u001b[0m\n",
       "Name: PoolQC, dtype: object"
      ]
     },
     "execution_count": 17,
     "metadata": {},
     "output_type": "execute_result"
    }
   ],
   "source": [
    "df['PoolQC'].isna().describe()"
   ]
  },
  {
   "cell_type": "markdown",
   "id": "f24f7485-c967-49f6-bb65-c9eba4278c85",
   "metadata": {
    "tags": []
   },
   "source": [
    "Update the missing values dictionary"
   ]
  },
  {
   "cell_type": "code",
   "execution_count": 18,
   "id": "94f20e4c-9695-4c06-95b0-1a6439f92778",
   "metadata": {},
   "outputs": [
    {
     "name": "stdout",
     "output_type": "stream",
     "text": [
      "{'Electrical': 0.0684931506849315, 'MasVnrArea': 0.547945205479452, 'BsmtQual': 2.5342465753424657, 'BsmtCond': 2.5342465753424657, 'BsmtFinType1': 2.5342465753424657, 'BsmtExposure': 2.6027397260273974, 'BsmtFinType2': 2.6027397260273974, 'GarageCond': 5.5479452054794525, 'GarageQual': 5.5479452054794525, 'GarageFinish': 5.5479452054794525, 'GarageYrBlt': 5.5479452054794525, 'GarageType': 5.5479452054794525, 'LotFrontage': 17.73972602739726, 'FireplaceQu': 47.26027397260274, 'MasVnrType': 59.726027397260275, 'Fence': 80.75342465753424, 'Alley': 93.76712328767123, 'MiscFeature': 96.30136986301369}\n"
     ]
    }
   ],
   "source": [
    "missing_dict.pop(\"PoolQC\")\n",
    "print(missing_dict)"
   ]
  },
  {
   "cell_type": "markdown",
   "id": "5c0e82d2-6a6b-4c7c-bc76-54985935e1fc",
   "metadata": {},
   "source": [
    "### MiscFeature"
   ]
  },
  {
   "cell_type": "code",
   "execution_count": 19,
   "id": "55946df1-db72-49e7-8410-7657840e06fa",
   "metadata": {},
   "outputs": [
    {
     "data": {
      "text/html": [
       "<pre style=\"white-space:pre;overflow-x:auto;line-height:normal;font-family:Menlo,'DejaVu Sans Mono',consolas,'Courier New',monospace\"></pre>\n"
      ],
      "text/plain": []
     },
     "metadata": {},
     "output_type": "display_data"
    },
    {
     "data": {
      "text/plain": [
       "\n",
       "\u001b[1m{\u001b[0m\n",
       "    \u001b[32m'Description'\u001b[0m: \u001b[32m'Miscellaneous feature not covered in other categories'\u001b[0m,\n",
       "    \u001b[32m'Categories'\u001b[0m: \u001b[1m{\u001b[0m\n",
       "        \u001b[32m'Elev'\u001b[0m: \u001b[32m'Elevator'\u001b[0m,\n",
       "        \u001b[32m'Gar2'\u001b[0m: \u001b[32m'2nd Garage \u001b[0m\u001b[32m(\u001b[0m\u001b[32mif not described in garage section\u001b[0m\u001b[32m)\u001b[0m\u001b[32m'\u001b[0m,\n",
       "        \u001b[32m'Othr'\u001b[0m: \u001b[32m'Other'\u001b[0m,\n",
       "        \u001b[32m'Shed'\u001b[0m: \u001b[32m'Shed \u001b[0m\u001b[32m(\u001b[0m\u001b[32mover 100 SF\u001b[0m\u001b[32m)\u001b[0m\u001b[32m'\u001b[0m,\n",
       "        \u001b[32m'TenC'\u001b[0m: \u001b[32m'Tennis Court'\u001b[0m,\n",
       "        \u001b[32m'NA'\u001b[0m: \u001b[32m'None'\u001b[0m\n",
       "    \u001b[1m}\u001b[0m\n",
       "\u001b[1m}\u001b[0m"
      ]
     },
     "execution_count": 19,
     "metadata": {},
     "output_type": "execute_result"
    }
   ],
   "source": [
    "data_dict.get('MiscFeature')"
   ]
  },
  {
   "cell_type": "markdown",
   "id": "80da1f34-b64f-4228-ba09-73c1bf351ed1",
   "metadata": {},
   "source": [
    "The data dictionary shows that similarly to the PoolQC, MiscFeature contains luxury items that are not usual for homes. "
   ]
  },
  {
   "cell_type": "code",
   "execution_count": 20,
   "id": "5ce471a2-3787-4a3b-a7b7-cf4921d2eebc",
   "metadata": {},
   "outputs": [
    {
     "data": {
      "text/html": [
       "<pre style=\"white-space:pre;overflow-x:auto;line-height:normal;font-family:Menlo,'DejaVu Sans Mono',consolas,'Courier New',monospace\"></pre>\n"
      ],
      "text/plain": []
     },
     "metadata": {},
     "output_type": "display_data"
    },
    {
     "data": {
      "image/png": "[encoded data removed]",
      "text/plain": [
       "\u001b[1m<\u001b[0m\u001b[1;95mFigure\u001b[0m\u001b[39m size 64\u001b[0m\u001b[1;36m0x480\u001b[0m\u001b[39m with \u001b[0m\u001b[1;36m1\u001b[0m\u001b[39m Axes\u001b[0m\u001b[1m>\u001b[0m"
      ]
     },
     "metadata": {},
     "output_type": "display_data"
    }
   ],
   "source": [
    "sns.histplot(data=df, x=\"MiscFeature\", kde=True)\n",
    "plt.title(\"Histogram of MiscFeature\")\n",
    "plt.xlabel(\"MiscFeature\")\n",
    "plt.ylabel(\"Count\")\n",
    "plt.show()"
   ]
  },
  {
   "cell_type": "markdown",
   "id": "a1886485-1fdf-411e-b5e5-6155e436fe0f",
   "metadata": {},
   "source": [
    "The histogram of MiscFeature values counts show that the dataset has only few points with non-null values.\n",
    "Therefore, we replace the null values with 'NA'."
   ]
  },
  {
   "cell_type": "code",
   "execution_count": 21,
   "id": "b43a8b97-0241-4d23-ad6e-fc7bec547386",
   "metadata": {},
   "outputs": [
    {
     "name": "stdout",
     "output_type": "stream",
     "text": [
      "{'Electrical': 0.0684931506849315, 'MasVnrArea': 0.547945205479452, 'BsmtQual': 2.5342465753424657, 'BsmtCond': 2.5342465753424657, 'BsmtFinType1': 2.5342465753424657, 'BsmtExposure': 2.6027397260273974, 'BsmtFinType2': 2.6027397260273974, 'GarageCond': 5.5479452054794525, 'GarageQual': 5.5479452054794525, 'GarageFinish': 5.5479452054794525, 'GarageYrBlt': 5.5479452054794525, 'GarageType': 5.5479452054794525, 'LotFrontage': 17.73972602739726, 'FireplaceQu': 47.26027397260274, 'MasVnrType': 59.726027397260275, 'Fence': 80.75342465753424, 'Alley': 93.76712328767123}\n"
     ]
    }
   ],
   "source": [
    "df['MiscFeature'].fillna('NA', inplace=True)\n",
    "\n",
    "missing_dict.pop(\"MiscFeature\")\n",
    "print(missing_dict)"
   ]
  },
  {
   "cell_type": "markdown",
   "id": "78a0fcfb-53b7-48f0-88c2-5158879e90f2",
   "metadata": {},
   "source": [
    "### Alley"
   ]
  },
  {
   "cell_type": "code",
   "execution_count": 22,
   "id": "128bedd6-b0cf-42fb-8353-34a9789a4ef5",
   "metadata": {},
   "outputs": [
    {
     "data": {
      "text/html": [
       "<pre style=\"white-space:pre;overflow-x:auto;line-height:normal;font-family:Menlo,'DejaVu Sans Mono',consolas,'Courier New',monospace\"></pre>\n"
      ],
      "text/plain": []
     },
     "metadata": {},
     "output_type": "display_data"
    },
    {
     "data": {
      "text/plain": [
       "\n",
       "\u001b[1m{\u001b[0m\n",
       "    \u001b[32m'Description'\u001b[0m: \u001b[32m'Type of alley access to property'\u001b[0m,\n",
       "    \u001b[32m'Categories'\u001b[0m: \u001b[1m{\u001b[0m\u001b[32m'Grvl'\u001b[0m: \u001b[32m'Gravel'\u001b[0m, \u001b[32m'Pave'\u001b[0m: \u001b[32m'Paved'\u001b[0m, \u001b[32m'NA'\u001b[0m: \u001b[32m'No alley access'\u001b[0m\u001b[1m}\u001b[0m\n",
       "\u001b[1m}\u001b[0m"
      ]
     },
     "execution_count": 22,
     "metadata": {},
     "output_type": "execute_result"
    }
   ],
   "source": [
    "data_dict.get(\"Alley\")"
   ]
  },
  {
   "cell_type": "code",
   "execution_count": 23,
   "id": "ef7bd961-c226-4611-8c5f-b6d934d85375",
   "metadata": {},
   "outputs": [
    {
     "data": {
      "text/html": [
       "<pre style=\"white-space:pre;overflow-x:auto;line-height:normal;font-family:Menlo,'DejaVu Sans Mono',consolas,'Courier New',monospace\"></pre>\n"
      ],
      "text/plain": []
     },
     "metadata": {},
     "output_type": "display_data"
    },
    {
     "data": {
      "text/plain": [
       "\n",
       "Alley\n",
       "Grvl    \u001b[1;36m50\u001b[0m\n",
       "Pave    \u001b[1;36m41\u001b[0m\n",
       "Name: count, dtype: int64"
      ]
     },
     "execution_count": 23,
     "metadata": {},
     "output_type": "execute_result"
    }
   ],
   "source": [
    "df[\"Alley\"].value_counts()"
   ]
  },
  {
   "cell_type": "markdown",
   "id": "bcdfd3da-9afa-420a-9d0b-32d416c75d7a",
   "metadata": {},
   "source": [
    "The attribute alley follows the similar pattern as the two attributes above. Again we replace the null values with 'NA'."
   ]
  },
  {
   "cell_type": "code",
   "execution_count": 24,
   "id": "3a1de72d-554a-45c1-9290-fb1f67311290",
   "metadata": {},
   "outputs": [
    {
     "name": "stdout",
     "output_type": "stream",
     "text": [
      "{'Electrical': 0.0684931506849315, 'MasVnrArea': 0.547945205479452, 'BsmtQual': 2.5342465753424657, 'BsmtCond': 2.5342465753424657, 'BsmtFinType1': 2.5342465753424657, 'BsmtExposure': 2.6027397260273974, 'BsmtFinType2': 2.6027397260273974, 'GarageCond': 5.5479452054794525, 'GarageQual': 5.5479452054794525, 'GarageFinish': 5.5479452054794525, 'GarageYrBlt': 5.5479452054794525, 'GarageType': 5.5479452054794525, 'LotFrontage': 17.73972602739726, 'FireplaceQu': 47.26027397260274, 'MasVnrType': 59.726027397260275, 'Fence': 80.75342465753424}\n"
     ]
    }
   ],
   "source": [
    "df['Alley'].fillna('NA', inplace=True)\n",
    "\n",
    "missing_dict.pop(\"Alley\")\n",
    "print(missing_dict)"
   ]
  },
  {
   "cell_type": "markdown",
   "id": "d784ee32-e704-483b-9907-a32fc8fae473",
   "metadata": {},
   "source": [
    "It seems like the categorical values with null values in the dataset are simply missing the 'NA' values. Therefore, we follow the similar process without much comment until we face some anomaly."
   ]
  },
  {
   "cell_type": "markdown",
   "id": "c56651a0-3c70-4856-8513-d27227260e75",
   "metadata": {},
   "source": [
    "### Fence"
   ]
  },
  {
   "cell_type": "code",
   "execution_count": 25,
   "id": "00cff1ba-045b-44fb-a02b-79967fd26af6",
   "metadata": {},
   "outputs": [
    {
     "data": {
      "text/html": [
       "<pre style=\"white-space:pre;overflow-x:auto;line-height:normal;font-family:Menlo,'DejaVu Sans Mono',consolas,'Courier New',monospace\"></pre>\n"
      ],
      "text/plain": []
     },
     "metadata": {},
     "output_type": "display_data"
    },
    {
     "data": {
      "text/plain": [
       "\n",
       "\u001b[1m{\u001b[0m\n",
       "    \u001b[32m'Description'\u001b[0m: \u001b[32m'Fence quality'\u001b[0m,\n",
       "    \u001b[32m'Categories'\u001b[0m: \u001b[1m{\u001b[0m\n",
       "        \u001b[32m'GdPrv'\u001b[0m: \u001b[32m'Good Privacy'\u001b[0m,\n",
       "        \u001b[32m'MnPrv'\u001b[0m: \u001b[32m'Minimum Privacy'\u001b[0m,\n",
       "        \u001b[32m'GdWo'\u001b[0m: \u001b[32m'Good Wood'\u001b[0m,\n",
       "        \u001b[32m'MnWw'\u001b[0m: \u001b[32m'Minimum Wood/Wire'\u001b[0m,\n",
       "        \u001b[32m'NA'\u001b[0m: \u001b[32m'No Fence'\u001b[0m\n",
       "    \u001b[1m}\u001b[0m\n",
       "\u001b[1m}\u001b[0m"
      ]
     },
     "execution_count": 25,
     "metadata": {},
     "output_type": "execute_result"
    }
   ],
   "source": [
    "data_dict.get(\"Fence\")"
   ]
  },
  {
   "cell_type": "code",
   "execution_count": 26,
   "id": "ab110cd6-f64b-4b38-91ec-29b15bc5c8db",
   "metadata": {},
   "outputs": [
    {
     "data": {
      "text/html": [
       "<pre style=\"white-space:pre;overflow-x:auto;line-height:normal;font-family:Menlo,'DejaVu Sans Mono',consolas,'Courier New',monospace\"></pre>\n"
      ],
      "text/plain": []
     },
     "metadata": {},
     "output_type": "display_data"
    },
    {
     "data": {
      "text/plain": [
       "\n",
       "Fence\n",
       "MnPrv    \u001b[1;36m157\u001b[0m\n",
       "GdPrv     \u001b[1;36m59\u001b[0m\n",
       "GdWo      \u001b[1;36m54\u001b[0m\n",
       "MnWw      \u001b[1;36m11\u001b[0m\n",
       "Name: count, dtype: int64"
      ]
     },
     "execution_count": 26,
     "metadata": {},
     "output_type": "execute_result"
    }
   ],
   "source": [
    "df[\"Fence\"].value_counts()"
   ]
  },
  {
   "cell_type": "code",
   "execution_count": 27,
   "id": "53d1e27e-a37f-42b9-bf78-430ee9beb9e7",
   "metadata": {},
   "outputs": [
    {
     "name": "stdout",
     "output_type": "stream",
     "text": [
      "{'Electrical': 0.0684931506849315, 'MasVnrArea': 0.547945205479452, 'BsmtQual': 2.5342465753424657, 'BsmtCond': 2.5342465753424657, 'BsmtFinType1': 2.5342465753424657, 'BsmtExposure': 2.6027397260273974, 'BsmtFinType2': 2.6027397260273974, 'GarageCond': 5.5479452054794525, 'GarageQual': 5.5479452054794525, 'GarageFinish': 5.5479452054794525, 'GarageYrBlt': 5.5479452054794525, 'GarageType': 5.5479452054794525, 'LotFrontage': 17.73972602739726, 'FireplaceQu': 47.26027397260274, 'MasVnrType': 59.726027397260275}\n"
     ]
    }
   ],
   "source": [
    "df['Fence'].fillna('NA', inplace=True)\n",
    "\n",
    "missing_dict.pop(\"Fence\")\n",
    "print(missing_dict)"
   ]
  },
  {
   "cell_type": "markdown",
   "id": "70e6e1c9-eafe-49ca-98fe-b7c38dfd4218",
   "metadata": {
    "tags": [],
    "toc-hr-collapsed": true
   },
   "source": [
    "### MasVnrType\n",
    "\n",
    "Since the above pattern seem to repeat for null values, we try to automate it further "
   ]
  },
  {
   "cell_type": "code",
   "execution_count": 28,
   "id": "fc8e9ead-9e7d-4f0f-ad4e-dbabc80a17ab",
   "metadata": {},
   "outputs": [],
   "source": [
    "def check_null_values():\n",
    "    print(data_dict.get(name))\n",
    "    print()\n",
    "    print(\"Before filling the null values: \")\n",
    "    print()\n",
    "    print(df[name].value_counts())\n",
    "\n",
    "\n",
    "def fill_na_categ(placeholder):\n",
    "    df[name].fillna(placeholder, inplace=True)\n",
    "    \n",
    "    print(\"After filling the null values:\")\n",
    "    print()\n",
    "    print(df[name].value_counts())\n",
    "    print()\n",
    "    missing_dict.pop(name)\n",
    "    print(missing_dict)"
   ]
  },
  {
   "cell_type": "code",
   "execution_count": 29,
   "id": "7058b20e-b80a-462b-806f-8e051c934119",
   "metadata": {},
   "outputs": [
    {
     "name": "stdout",
     "output_type": "stream",
     "text": [
      "{'Description': 'Masonry veneer type', 'Categories': {'BrkCmn': 'Brick Common', 'BrkFace': 'Brick Face', 'CBlock': 'Cinder Block', 'None': 'None', 'Stone': 'Stone'}}\n",
      "\n",
      "Before filling the null values: \n",
      "\n",
      "MasVnrType\n",
      "BrkFace    445\n",
      "Stone      128\n",
      "BrkCmn      15\n",
      "Name: count, dtype: int64\n"
     ]
    }
   ],
   "source": [
    "name = 'MasVnrType'\n",
    "check_null_values()"
   ]
  },
  {
   "cell_type": "code",
   "execution_count": 30,
   "id": "dafd8aa2-9227-4234-91f9-343673360429",
   "metadata": {},
   "outputs": [
    {
     "name": "stdout",
     "output_type": "stream",
     "text": [
      "After filling the null values:\n",
      "\n",
      "MasVnrType\n",
      "None       872\n",
      "BrkFace    445\n",
      "Stone      128\n",
      "BrkCmn      15\n",
      "Name: count, dtype: int64\n",
      "\n",
      "{'Electrical': 0.0684931506849315, 'MasVnrArea': 0.547945205479452, 'BsmtQual': 2.5342465753424657, 'BsmtCond': 2.5342465753424657, 'BsmtFinType1': 2.5342465753424657, 'BsmtExposure': 2.6027397260273974, 'BsmtFinType2': 2.6027397260273974, 'GarageCond': 5.5479452054794525, 'GarageQual': 5.5479452054794525, 'GarageFinish': 5.5479452054794525, 'GarageYrBlt': 5.5479452054794525, 'GarageType': 5.5479452054794525, 'LotFrontage': 17.73972602739726, 'FireplaceQu': 47.26027397260274}\n"
     ]
    }
   ],
   "source": [
    "fill_na_categ('None')"
   ]
  },
  {
   "cell_type": "markdown",
   "id": "7b603bc6-7967-439f-9b79-4575a997c1db",
   "metadata": {
    "tags": []
   },
   "source": [
    "### MasVnrArea"
   ]
  },
  {
   "cell_type": "code",
   "execution_count": 31,
   "id": "512e23c4-5356-4a09-8144-d52310fb6372",
   "metadata": {},
   "outputs": [
    {
     "data": {
      "text/html": [
       "<pre style=\"white-space:pre;overflow-x:auto;line-height:normal;font-family:Menlo,'DejaVu Sans Mono',consolas,'Courier New',monospace\"></pre>\n"
      ],
      "text/plain": []
     },
     "metadata": {},
     "output_type": "display_data"
    },
    {
     "data": {
      "text/plain": [
       "\u001b[1m{\u001b[0m\u001b[32m'Description'\u001b[0m: \u001b[32m'Masonry veneer area in square feet'\u001b[0m\u001b[1m}\u001b[0m"
      ]
     },
     "execution_count": 31,
     "metadata": {},
     "output_type": "execute_result"
    }
   ],
   "source": [
    "name = \"MasVnrArea\"\n",
    "data_dict.get(name)"
   ]
  },
  {
   "cell_type": "code",
   "execution_count": 32,
   "id": "ff3b2d93-8d3f-4698-a60b-259663bdce0f",
   "metadata": {},
   "outputs": [
    {
     "name": "stdout",
     "output_type": "stream",
     "text": [
      "True    8\n",
      "Name: count, dtype: int64\n"
     ]
    }
   ],
   "source": [
    "attributes_with_missing_values = ['MasVnrArea', 'MasVnrType']\n",
    "\n",
    "# Create a new DataFrame with only the rows where at least one of the specified attributes has a missing value\n",
    "subset_df = df[df[attributes_with_missing_values].isnull().any(axis=1)]\n",
    "\n",
    "# Check if all rows with missing values for the specified attributes are the same\n",
    "are_rows_same = subset_df.duplicated(subset=attributes_with_missing_values, keep=False)\n",
    "\n",
    "print(are_rows_same.value_counts())"
   ]
  },
  {
   "cell_type": "code",
   "execution_count": 33,
   "id": "50b04e33-41e9-4ad3-b794-86ee222021eb",
   "metadata": {},
   "outputs": [
    {
     "name": "stdout",
     "output_type": "stream",
     "text": [
      "After filling the null values:\n",
      "\n",
      "MasVnrArea\n",
      "0.0      869\n",
      "180.0      8\n",
      "72.0       8\n",
      "108.0      8\n",
      "120.0      7\n",
      "        ... \n",
      "562.0      1\n",
      "89.0       1\n",
      "921.0      1\n",
      "762.0      1\n",
      "119.0      1\n",
      "Name: count, Length: 327, dtype: int64\n",
      "\n",
      "{'Electrical': 0.0684931506849315, 'BsmtQual': 2.5342465753424657, 'BsmtCond': 2.5342465753424657, 'BsmtFinType1': 2.5342465753424657, 'BsmtExposure': 2.6027397260273974, 'BsmtFinType2': 2.6027397260273974, 'GarageCond': 5.5479452054794525, 'GarageQual': 5.5479452054794525, 'GarageFinish': 5.5479452054794525, 'GarageYrBlt': 5.5479452054794525, 'GarageType': 5.5479452054794525, 'LotFrontage': 17.73972602739726, 'FireplaceQu': 47.26027397260274}\n"
     ]
    }
   ],
   "source": [
    "fill_na_categ(0)"
   ]
  },
  {
   "cell_type": "markdown",
   "id": "060f235c-5da9-45c9-9186-244515d9593a",
   "metadata": {
    "tags": []
   },
   "source": [
    "### FireplaceQu"
   ]
  },
  {
   "cell_type": "code",
   "execution_count": 34,
   "id": "3ef02e4f-8af6-4f2b-91dc-4ff9e3ce4713",
   "metadata": {},
   "outputs": [
    {
     "name": "stdout",
     "output_type": "stream",
     "text": [
      "{'Description': 'Fireplace quality', 'Categories': {'Ex': 'Excellent - Exceptional Masonry Fireplace', 'Gd': 'Good - Masonry Fireplace in main level', 'TA': 'Average - Prefabricated Fireplace in main living area or Masonry Fireplace in basement', 'Fa': 'Fair - Prefabricated Fireplace in basement', 'Po': 'Poor - Ben Franklin Stove', 'NA': 'No Fireplace'}}\n",
      "\n",
      "Before filling the null values: \n",
      "\n",
      "FireplaceQu\n",
      "Gd    380\n",
      "TA    313\n",
      "Fa     33\n",
      "Ex     24\n",
      "Po     20\n",
      "Name: count, dtype: int64\n"
     ]
    }
   ],
   "source": [
    "name = \"FireplaceQu\"\n",
    "check_null_values()"
   ]
  },
  {
   "cell_type": "code",
   "execution_count": 35,
   "id": "f2810520-9262-438a-bfdd-5f8b969b6ee6",
   "metadata": {},
   "outputs": [
    {
     "name": "stdout",
     "output_type": "stream",
     "text": [
      "After filling the null values:\n",
      "\n",
      "FireplaceQu\n",
      "NA    690\n",
      "Gd    380\n",
      "TA    313\n",
      "Fa     33\n",
      "Ex     24\n",
      "Po     20\n",
      "Name: count, dtype: int64\n",
      "\n",
      "{'Electrical': 0.0684931506849315, 'BsmtQual': 2.5342465753424657, 'BsmtCond': 2.5342465753424657, 'BsmtFinType1': 2.5342465753424657, 'BsmtExposure': 2.6027397260273974, 'BsmtFinType2': 2.6027397260273974, 'GarageCond': 5.5479452054794525, 'GarageQual': 5.5479452054794525, 'GarageFinish': 5.5479452054794525, 'GarageYrBlt': 5.5479452054794525, 'GarageType': 5.5479452054794525, 'LotFrontage': 17.73972602739726}\n"
     ]
    }
   ],
   "source": [
    "fill_na_categ('NA')"
   ]
  },
  {
   "cell_type": "code",
   "execution_count": null,
   "id": "ef75dee7-28de-4f03-af68-7b276197f809",
   "metadata": {},
   "outputs": [],
   "source": []
  },
  {
   "cell_type": "markdown",
   "id": "8f92c736-df55-4f8f-b412-ecacdc22024d",
   "metadata": {},
   "source": [
    "### Garage Attributes\n",
    "\n",
    "The missing value percentage values show that the dataset has several attributes related to 'garage' that have the same missing value proportions. Let's test if these missing values are all in the same rows"
   ]
  },
  {
   "cell_type": "code",
   "execution_count": 36,
   "id": "b6214d11-be09-4710-84a2-cc8bb8e2a9b3",
   "metadata": {},
   "outputs": [
    {
     "name": "stdout",
     "output_type": "stream",
     "text": [
      "True    81\n",
      "Name: count, dtype: int64\n"
     ]
    }
   ],
   "source": [
    "attributes_with_missing_values = ['GarageCond', 'GarageQual', 'GarageFinish', 'GarageYrBlt', 'GarageType']\n",
    "\n",
    "# Create a new DataFrame with only the rows where at least one of the specified attributes has a missing value\n",
    "subset_df = df[df[attributes_with_missing_values].isnull().any(axis=1)]\n",
    "\n",
    "# Check if all rows with missing values for the specified attributes are the same\n",
    "are_rows_same = subset_df.duplicated(subset=attributes_with_missing_values, keep=False)\n",
    "\n",
    "print(are_rows_same.value_counts())"
   ]
  },
  {
   "cell_type": "markdown",
   "id": "deaa3a31-da9c-41e1-8335-4851c624d1f1",
   "metadata": {},
   "source": [
    "The results show that all missing values of these attributes are in the same rows. In order words, there are no discrepancies within the null values of different attributes."
   ]
  },
  {
   "cell_type": "markdown",
   "id": "25cb6071-0226-48fd-9eaa-4f312487ab90",
   "metadata": {
    "tags": []
   },
   "source": [
    "#### GarageYrBlt"
   ]
  },
  {
   "cell_type": "code",
   "execution_count": 37,
   "id": "d37d285a-e990-4170-96db-7371f60930c0",
   "metadata": {
    "tags": []
   },
   "outputs": [
    {
     "data": {
      "text/html": [
       "<pre style=\"white-space:pre;overflow-x:auto;line-height:normal;font-family:Menlo,'DejaVu Sans Mono',consolas,'Courier New',monospace\"></pre>\n"
      ],
      "text/plain": []
     },
     "metadata": {},
     "output_type": "display_data"
    },
    {
     "data": {
      "text/plain": [
       "\u001b[1m{\u001b[0m\u001b[32m'Description'\u001b[0m: \u001b[32m'Year garage was built'\u001b[0m\u001b[1m}\u001b[0m"
      ]
     },
     "execution_count": 37,
     "metadata": {},
     "output_type": "execute_result"
    }
   ],
   "source": [
    "data_dict.get('GarageYrBlt')"
   ]
  },
  {
   "cell_type": "code",
   "execution_count": 38,
   "id": "32a9ead1-e698-4db4-9fc6-628a2ab1eb24",
   "metadata": {
    "tags": []
   },
   "outputs": [
    {
     "data": {
      "text/html": [
       "<pre style=\"white-space:pre;overflow-x:auto;line-height:normal;font-family:Menlo,'DejaVu Sans Mono',consolas,'Courier New',monospace\"></pre>\n"
      ],
      "text/plain": []
     },
     "metadata": {},
     "output_type": "display_data"
    },
    {
     "data": {
      "text/plain": [
       "\n",
       "count    \u001b[1;36m1379.000000\u001b[0m\n",
       "mean     \u001b[1;36m1978.506164\u001b[0m\n",
       "std        \u001b[1;36m24.689725\u001b[0m\n",
       "min      \u001b[1;36m1900.000000\u001b[0m\n",
       "\u001b[1;36m25\u001b[0m%      \u001b[1;36m1961.000000\u001b[0m\n",
       "\u001b[1;36m50\u001b[0m%      \u001b[1;36m1980.000000\u001b[0m\n",
       "\u001b[1;36m75\u001b[0m%      \u001b[1;36m2002.000000\u001b[0m\n",
       "max      \u001b[1;36m2010.000000\u001b[0m\n",
       "Name: GarageYrBlt, dtype: float64"
      ]
     },
     "execution_count": 38,
     "metadata": {},
     "output_type": "execute_result"
    }
   ],
   "source": [
    "df['GarageYrBlt'].describe()"
   ]
  },
  {
   "cell_type": "code",
   "execution_count": 39,
   "id": "ac450ffe-2944-4bf7-aa91-635126e186ed",
   "metadata": {},
   "outputs": [
    {
     "data": {
      "text/html": [
       "<pre style=\"white-space:pre;overflow-x:auto;line-height:normal;font-family:Menlo,'DejaVu Sans Mono',consolas,'Courier New',monospace\"></pre>\n"
      ],
      "text/plain": []
     },
     "metadata": {},
     "output_type": "display_data"
    },
    {
     "data": {
      "text/plain": [
       "\u001b[1;36m81\u001b[0m"
      ]
     },
     "execution_count": 39,
     "metadata": {},
     "output_type": "execute_result"
    }
   ],
   "source": [
    "df['GarageYrBlt'].isna().sum()"
   ]
  },
  {
   "cell_type": "code",
   "execution_count": 40,
   "id": "b7fac9c6-912c-4c8f-8dd6-8834fac8a518",
   "metadata": {},
   "outputs": [
    {
     "name": "stdout",
     "output_type": "stream",
     "text": [
      "After filling the null values:\n",
      "\n",
      "GarageYrBlt\n",
      "0.0       81\n",
      "2005.0    65\n",
      "2006.0    59\n",
      "2004.0    53\n",
      "2003.0    50\n",
      "          ..\n",
      "1927.0     1\n",
      "1900.0     1\n",
      "1906.0     1\n",
      "1908.0     1\n",
      "1933.0     1\n",
      "Name: count, Length: 98, dtype: int64\n",
      "\n",
      "{'Electrical': 0.0684931506849315, 'BsmtQual': 2.5342465753424657, 'BsmtCond': 2.5342465753424657, 'BsmtFinType1': 2.5342465753424657, 'BsmtExposure': 2.6027397260273974, 'BsmtFinType2': 2.6027397260273974, 'GarageCond': 5.5479452054794525, 'GarageQual': 5.5479452054794525, 'GarageFinish': 5.5479452054794525, 'GarageType': 5.5479452054794525, 'LotFrontage': 17.73972602739726}\n"
     ]
    }
   ],
   "source": [
    "name = 'GarageYrBlt'\n",
    "fill_na_categ(0)"
   ]
  },
  {
   "cell_type": "markdown",
   "id": "ba940588-1b75-4f9f-8ee0-32299765f824",
   "metadata": {},
   "source": [
    "#### GarageType"
   ]
  },
  {
   "cell_type": "code",
   "execution_count": 41,
   "id": "ea71c559-23e4-47cf-86c6-e8a8dce2dcf8",
   "metadata": {},
   "outputs": [
    {
     "name": "stdout",
     "output_type": "stream",
     "text": [
      "{'Description': 'Garage location', 'Categories': {'2Types': 'More than one type of garage', 'Attchd': 'Attached to home', 'Basment': 'Basement Garage', 'BuiltIn': 'Built-In (Garage part of house - typically has room above garage)', 'CarPort': 'Car Port', 'Detchd': 'Detached from home', 'NA': 'No Garage'}}\n",
      "\n",
      "Before filling the null values: \n",
      "\n",
      "GarageType\n",
      "Attchd     870\n",
      "Detchd     387\n",
      "BuiltIn     88\n",
      "Basment     19\n",
      "CarPort      9\n",
      "2Types       6\n",
      "Name: count, dtype: int64\n"
     ]
    }
   ],
   "source": [
    "name = \"GarageType\"\n",
    "check_null_values()"
   ]
  },
  {
   "cell_type": "code",
   "execution_count": 42,
   "id": "09e1ca70-01fa-4996-9648-ed762ea277e0",
   "metadata": {},
   "outputs": [
    {
     "name": "stdout",
     "output_type": "stream",
     "text": [
      "After filling the null values:\n",
      "\n",
      "GarageType\n",
      "Attchd     870\n",
      "Detchd     387\n",
      "BuiltIn     88\n",
      "NA          81\n",
      "Basment     19\n",
      "CarPort      9\n",
      "2Types       6\n",
      "Name: count, dtype: int64\n",
      "\n",
      "{'Electrical': 0.0684931506849315, 'BsmtQual': 2.5342465753424657, 'BsmtCond': 2.5342465753424657, 'BsmtFinType1': 2.5342465753424657, 'BsmtExposure': 2.6027397260273974, 'BsmtFinType2': 2.6027397260273974, 'GarageCond': 5.5479452054794525, 'GarageQual': 5.5479452054794525, 'GarageFinish': 5.5479452054794525, 'LotFrontage': 17.73972602739726}\n"
     ]
    }
   ],
   "source": [
    "fill_na_categ('NA')"
   ]
  },
  {
   "cell_type": "markdown",
   "id": "dde100cc-dc5c-48a3-921f-bdbf92bad24d",
   "metadata": {},
   "source": [
    "#### GarageFinish"
   ]
  },
  {
   "cell_type": "code",
   "execution_count": 43,
   "id": "d68f7e70-23ff-41e8-9958-9bf6a5a5a8dd",
   "metadata": {},
   "outputs": [
    {
     "name": "stdout",
     "output_type": "stream",
     "text": [
      "{'Description': 'Interior finish of the garage', 'Categories': {'Fin': 'Finished', 'RFn': 'Rough Finished\\t', 'Unf': 'Unfinished', 'NA': 'No Garage'}}\n",
      "\n",
      "Before filling the null values: \n",
      "\n",
      "GarageFinish\n",
      "Unf    605\n",
      "RFn    422\n",
      "Fin    352\n",
      "Name: count, dtype: int64\n"
     ]
    }
   ],
   "source": [
    "name = \"GarageFinish\"\n",
    "check_null_values()"
   ]
  },
  {
   "cell_type": "code",
   "execution_count": 44,
   "id": "39d054f8-eaa8-41b6-b0e3-49ac5a7fe00e",
   "metadata": {},
   "outputs": [
    {
     "name": "stdout",
     "output_type": "stream",
     "text": [
      "After filling the null values:\n",
      "\n",
      "GarageFinish\n",
      "Unf    605\n",
      "RFn    422\n",
      "Fin    352\n",
      "NA      81\n",
      "Name: count, dtype: int64\n",
      "\n",
      "{'Electrical': 0.0684931506849315, 'BsmtQual': 2.5342465753424657, 'BsmtCond': 2.5342465753424657, 'BsmtFinType1': 2.5342465753424657, 'BsmtExposure': 2.6027397260273974, 'BsmtFinType2': 2.6027397260273974, 'GarageCond': 5.5479452054794525, 'GarageQual': 5.5479452054794525, 'LotFrontage': 17.73972602739726}\n"
     ]
    }
   ],
   "source": [
    "fill_na_categ('NA')"
   ]
  },
  {
   "cell_type": "markdown",
   "id": "dafdb799-4ffe-46bd-bad7-28ade37a3b4b",
   "metadata": {},
   "source": [
    "#### GarageQual"
   ]
  },
  {
   "cell_type": "code",
   "execution_count": 45,
   "id": "1860dd4c-e835-46fa-9eed-1a4b8a179903",
   "metadata": {},
   "outputs": [
    {
     "name": "stdout",
     "output_type": "stream",
     "text": [
      "{'Description': 'Garage quality', 'Categories': {'Ex': 'Excellent', 'Gd': 'Good', 'TA': 'Typical/Average', 'Fa': 'Fair', 'Po': 'Poor', 'NA': 'No Garage'}}\n",
      "\n",
      "Before filling the null values: \n",
      "\n",
      "GarageQual\n",
      "TA    1311\n",
      "Fa      48\n",
      "Gd      14\n",
      "Ex       3\n",
      "Po       3\n",
      "Name: count, dtype: int64\n"
     ]
    }
   ],
   "source": [
    "name = \"GarageQual\"\n",
    "check_null_values()"
   ]
  },
  {
   "cell_type": "code",
   "execution_count": 46,
   "id": "20345b88-5d0d-4637-904c-27781f8e4f31",
   "metadata": {},
   "outputs": [
    {
     "name": "stdout",
     "output_type": "stream",
     "text": [
      "After filling the null values:\n",
      "\n",
      "GarageQual\n",
      "TA    1311\n",
      "NA      81\n",
      "Fa      48\n",
      "Gd      14\n",
      "Ex       3\n",
      "Po       3\n",
      "Name: count, dtype: int64\n",
      "\n",
      "{'Electrical': 0.0684931506849315, 'BsmtQual': 2.5342465753424657, 'BsmtCond': 2.5342465753424657, 'BsmtFinType1': 2.5342465753424657, 'BsmtExposure': 2.6027397260273974, 'BsmtFinType2': 2.6027397260273974, 'GarageCond': 5.5479452054794525, 'LotFrontage': 17.73972602739726}\n"
     ]
    }
   ],
   "source": [
    "fill_na_categ('NA')"
   ]
  },
  {
   "cell_type": "markdown",
   "id": "d5c8dc28-d43a-47b8-8bdd-468fb483a835",
   "metadata": {},
   "source": [
    "#### GarageCond"
   ]
  },
  {
   "cell_type": "code",
   "execution_count": 47,
   "id": "fbaad0cf-3b31-4b3e-8571-5d07d9676809",
   "metadata": {},
   "outputs": [
    {
     "name": "stdout",
     "output_type": "stream",
     "text": [
      "{'Description': 'Garage condition', 'Categories': {'Ex': 'Excellent', 'Gd': 'Good', 'TA': 'Typical/Average', 'Fa': 'Fair', 'Po': 'Poor', 'NA': 'No Garage'}}\n",
      "\n",
      "Before filling the null values: \n",
      "\n",
      "GarageCond\n",
      "TA    1326\n",
      "Fa      35\n",
      "Gd       9\n",
      "Po       7\n",
      "Ex       2\n",
      "Name: count, dtype: int64\n"
     ]
    }
   ],
   "source": [
    "name = \"GarageCond\"\n",
    "check_null_values()"
   ]
  },
  {
   "cell_type": "code",
   "execution_count": 48,
   "id": "8aed72e4-f29e-44fe-8332-b556721d1b4d",
   "metadata": {},
   "outputs": [
    {
     "name": "stdout",
     "output_type": "stream",
     "text": [
      "After filling the null values:\n",
      "\n",
      "GarageCond\n",
      "TA    1326\n",
      "NA      81\n",
      "Fa      35\n",
      "Gd       9\n",
      "Po       7\n",
      "Ex       2\n",
      "Name: count, dtype: int64\n",
      "\n",
      "{'Electrical': 0.0684931506849315, 'BsmtQual': 2.5342465753424657, 'BsmtCond': 2.5342465753424657, 'BsmtFinType1': 2.5342465753424657, 'BsmtExposure': 2.6027397260273974, 'BsmtFinType2': 2.6027397260273974, 'LotFrontage': 17.73972602739726}\n"
     ]
    }
   ],
   "source": [
    "fill_na_categ('NA')"
   ]
  },
  {
   "cell_type": "markdown",
   "id": "80643f3e-079a-4535-b18f-f1e9786ba0d0",
   "metadata": {},
   "source": [
    "### Basement attributes\n",
    "\n",
    "Similarly to the 'Garage' attributes, let's do a fast check on 'Basement' attributes"
   ]
  },
  {
   "cell_type": "code",
   "execution_count": 49,
   "id": "b3f70d9b-54cc-4c32-a360-ea15bbbef215",
   "metadata": {
    "tags": []
   },
   "outputs": [
    {
     "name": "stdout",
     "output_type": "stream",
     "text": [
      "True     37\n",
      "False     2\n",
      "Name: count, dtype: int64\n"
     ]
    }
   ],
   "source": [
    "attributes_with_missing_values = ['BsmtQual', 'BsmtCond', 'BsmtFinType1', 'BsmtExposure', 'BsmtFinType2']\n",
    "\n",
    "# Create a new DataFrame with only the rows where at least one of the specified attributes has a missing value\n",
    "subset_df = df[df[attributes_with_missing_values].isnull().any(axis=1)]\n",
    "\n",
    "# Check if all rows with missing values for the specified attributes are the same\n",
    "are_rows_same = subset_df.duplicated(subset=attributes_with_missing_values, keep=False)\n",
    "\n",
    "print(are_rows_same.value_counts())"
   ]
  },
  {
   "cell_type": "markdown",
   "id": "32875192-70a8-40aa-8c66-9cc77376c109",
   "metadata": {
    "tags": []
   },
   "source": [
    "We have found some anomaly here"
   ]
  },
  {
   "cell_type": "code",
   "execution_count": 50,
   "id": "b29103cf-beb2-4d32-a243-f34787dcd8cc",
   "metadata": {},
   "outputs": [
    {
     "data": {
      "text/html": [
       "<pre style=\"white-space:pre;overflow-x:auto;line-height:normal;font-family:Menlo,'DejaVu Sans Mono',consolas,'Courier New',monospace\"></pre>\n"
      ],
      "text/plain": []
     },
     "metadata": {},
     "output_type": "display_data"
    },
    {
     "data": {
      "text/html": [
       "<div>\n",
       "<style scoped>\n",
       "    .dataframe tbody tr th:only-of-type {\n",
       "        vertical-align: middle;\n",
       "    }\n",
       "\n",
       "    .dataframe tbody tr th {\n",
       "        vertical-align: top;\n",
       "    }\n",
       "\n",
       "    .dataframe thead th {\n",
       "        text-align: right;\n",
       "    }\n",
       "</style>\n",
       "<table border=\"1\" class=\"dataframe\">\n",
       "  <thead>\n",
       "    <tr style=\"text-align: right;\">\n",
       "      <th></th>\n",
       "      <th>BsmtQual</th>\n",
       "      <th>BsmtCond</th>\n",
       "      <th>BsmtFinType1</th>\n",
       "      <th>BsmtExposure</th>\n",
       "      <th>BsmtFinType2</th>\n",
       "    </tr>\n",
       "  </thead>\n",
       "  <tbody>\n",
       "    <tr>\n",
       "      <th>332</th>\n",
       "      <td>Gd</td>\n",
       "      <td>TA</td>\n",
       "      <td>GLQ</td>\n",
       "      <td>No</td>\n",
       "      <td>NaN</td>\n",
       "    </tr>\n",
       "    <tr>\n",
       "      <th>948</th>\n",
       "      <td>Gd</td>\n",
       "      <td>TA</td>\n",
       "      <td>Unf</td>\n",
       "      <td>NaN</td>\n",
       "      <td>Unf</td>\n",
       "    </tr>\n",
       "  </tbody>\n",
       "</table>\n",
       "</div>"
      ],
      "text/plain": [
       "\n",
       "    BsmtQual BsmtCond BsmtFinType1 BsmtExposure BsmtFinType2\n",
       "\u001b[1;36m332\u001b[0m       Gd       TA          GLQ           No          NaN\n",
       "\u001b[1;36m948\u001b[0m       Gd       TA          Unf          NaN          Unf"
      ]
     },
     "execution_count": 50,
     "metadata": {},
     "output_type": "execute_result"
    }
   ],
   "source": [
    "different_rows = subset_df[~are_rows_same]\n",
    "\n",
    "different_rows[attributes_with_missing_values].head()"
   ]
  },
  {
   "cell_type": "markdown",
   "id": "d9948617-2df5-4cf0-a1d0-e18337e7658e",
   "metadata": {},
   "source": [
    "These row show some null values for attribute BsmtExposure and BsmtFinType2. Let's look at the data dictionary for these values.\n",
    "\n",
    "For the row 332 the values of other attributes suggest that the BsmtFinType2 value should be 'GLQ', same as BsmtFinType1.\n",
    "\n",
    "BsmtExposure should be 'No' in the row 948. "
   ]
  },
  {
   "cell_type": "code",
   "execution_count": 51,
   "id": "64a86213-9d8c-4e6a-9ae0-4c2f2ccac7fb",
   "metadata": {},
   "outputs": [],
   "source": [
    "df.loc[332, 'BsmtFinType2'] = 'GLQ'\n",
    "df.loc[948, 'BsmtExposure'] = 'No'"
   ]
  },
  {
   "cell_type": "markdown",
   "id": "34460014-3018-4f52-8ea5-badf972b03db",
   "metadata": {},
   "source": [
    "#### BsmtFinType2 "
   ]
  },
  {
   "cell_type": "code",
   "execution_count": 52,
   "id": "61059834-8217-4690-a70c-a1a2af5c7212",
   "metadata": {},
   "outputs": [
    {
     "name": "stdout",
     "output_type": "stream",
     "text": [
      "{'Description': 'Rating of basement finished area (if multiple types)', 'Categories': {'GLQ': 'Good Living Quarters', 'ALQ': 'Average Living Quarters', 'BLQ': 'Below Average Living Quarters\\t', 'Rec': 'Average Rec Room', 'LwQ': 'Low Quality', 'Unf': 'Unfinshed', 'NA': 'No Basement'}}\n",
      "\n",
      "Before filling the null values: \n",
      "\n",
      "BsmtFinType2\n",
      "Unf    1256\n",
      "Rec      54\n",
      "LwQ      46\n",
      "BLQ      33\n",
      "ALQ      19\n",
      "GLQ      15\n",
      "Name: count, dtype: int64\n"
     ]
    }
   ],
   "source": [
    "name = 'BsmtFinType2'\n",
    "check_null_values()"
   ]
  },
  {
   "cell_type": "code",
   "execution_count": 53,
   "id": "85b7357f-51c7-4613-847d-dc38e53b0a38",
   "metadata": {},
   "outputs": [
    {
     "name": "stdout",
     "output_type": "stream",
     "text": [
      "After filling the null values:\n",
      "\n",
      "BsmtFinType2\n",
      "Unf    1256\n",
      "Rec      54\n",
      "LwQ      46\n",
      "NA       37\n",
      "BLQ      33\n",
      "ALQ      19\n",
      "GLQ      15\n",
      "Name: count, dtype: int64\n",
      "\n",
      "{'Electrical': 0.0684931506849315, 'BsmtQual': 2.5342465753424657, 'BsmtCond': 2.5342465753424657, 'BsmtFinType1': 2.5342465753424657, 'BsmtExposure': 2.6027397260273974, 'LotFrontage': 17.73972602739726}\n"
     ]
    }
   ],
   "source": [
    "fill_na_categ('NA')"
   ]
  },
  {
   "cell_type": "markdown",
   "id": "53f4aa09-9e26-4b53-b782-5d912b2b5d85",
   "metadata": {},
   "source": [
    "#### BsmtExposure"
   ]
  },
  {
   "cell_type": "code",
   "execution_count": 54,
   "id": "c0cd7fcf-b73c-42dc-868e-3c3bed95888e",
   "metadata": {},
   "outputs": [
    {
     "name": "stdout",
     "output_type": "stream",
     "text": [
      "{'Description': 'Refers to walkout or garden level walls', 'Categories': {'Gd': 'Good Exposure', 'Av': 'Average Exposure (split levels or foyers typically score average or above)\\t', 'Mn': 'Mimimum Exposure', 'No': 'No Exposure', 'NA': 'No Basement'}}\n",
      "\n",
      "Before filling the null values: \n",
      "\n",
      "BsmtExposure\n",
      "No    954\n",
      "Av    221\n",
      "Gd    134\n",
      "Mn    114\n",
      "Name: count, dtype: int64\n"
     ]
    }
   ],
   "source": [
    "name = 'BsmtExposure'\n",
    "check_null_values()"
   ]
  },
  {
   "cell_type": "code",
   "execution_count": 55,
   "id": "53b870bb-8adf-474f-8956-3fa425889d14",
   "metadata": {},
   "outputs": [
    {
     "name": "stdout",
     "output_type": "stream",
     "text": [
      "After filling the null values:\n",
      "\n",
      "BsmtExposure\n",
      "No    954\n",
      "Av    221\n",
      "Gd    134\n",
      "Mn    114\n",
      "NA     37\n",
      "Name: count, dtype: int64\n",
      "\n",
      "{'Electrical': 0.0684931506849315, 'BsmtQual': 2.5342465753424657, 'BsmtCond': 2.5342465753424657, 'BsmtFinType1': 2.5342465753424657, 'LotFrontage': 17.73972602739726}\n"
     ]
    }
   ],
   "source": [
    "fill_na_categ('NA')"
   ]
  },
  {
   "cell_type": "markdown",
   "id": "aa5112c6-372b-4069-be0e-83c74806d4f9",
   "metadata": {
    "tags": []
   },
   "source": [
    "#### BsmtFinType1"
   ]
  },
  {
   "cell_type": "code",
   "execution_count": 56,
   "id": "a07a7858-5ac7-44c2-8191-8ede1163accb",
   "metadata": {},
   "outputs": [
    {
     "name": "stdout",
     "output_type": "stream",
     "text": [
      "{'Description': 'Rating of basement finished area', 'Categories': {'GLQ': 'Good Living Quarters', 'ALQ': 'Average Living Quarters', 'BLQ': 'Below Average Living Quarters\\t', 'Rec': 'Average Rec Room', 'LwQ': 'Low Quality', 'Unf': 'Unfinshed', 'NA': 'No Basement'}}\n",
      "\n",
      "Before filling the null values: \n",
      "\n",
      "BsmtFinType1\n",
      "Unf    430\n",
      "GLQ    418\n",
      "ALQ    220\n",
      "BLQ    148\n",
      "Rec    133\n",
      "LwQ     74\n",
      "Name: count, dtype: int64\n"
     ]
    }
   ],
   "source": [
    "name = 'BsmtFinType1'\n",
    "check_null_values()"
   ]
  },
  {
   "cell_type": "code",
   "execution_count": 57,
   "id": "04dc6763-0bd1-4dba-ae20-784e0b0592f4",
   "metadata": {},
   "outputs": [
    {
     "name": "stdout",
     "output_type": "stream",
     "text": [
      "After filling the null values:\n",
      "\n",
      "BsmtFinType1\n",
      "Unf    430\n",
      "GLQ    418\n",
      "ALQ    220\n",
      "BLQ    148\n",
      "Rec    133\n",
      "LwQ     74\n",
      "NA      37\n",
      "Name: count, dtype: int64\n",
      "\n",
      "{'Electrical': 0.0684931506849315, 'BsmtQual': 2.5342465753424657, 'BsmtCond': 2.5342465753424657, 'LotFrontage': 17.73972602739726}\n"
     ]
    }
   ],
   "source": [
    "fill_na_categ('NA')"
   ]
  },
  {
   "cell_type": "markdown",
   "id": "56649040-c7ce-4fd5-ba62-4cf0f9b73bc0",
   "metadata": {},
   "source": [
    "#### BsmtCond"
   ]
  },
  {
   "cell_type": "code",
   "execution_count": 58,
   "id": "e6225c34-52b6-4866-ae43-63ec4fe40467",
   "metadata": {},
   "outputs": [
    {
     "name": "stdout",
     "output_type": "stream",
     "text": [
      "{'Description': 'Evaluates the general condition of the basement', 'Categories': {'Ex': 'Excellent', 'Gd': 'Good', 'TA': 'Typical - slight dampness allowed', 'Fa': 'Fair - dampness or some cracking or settling', 'Po': 'Poor - Severe cracking, settling, or wetness', 'NA': 'No Basement'}}\n",
      "\n",
      "Before filling the null values: \n",
      "\n",
      "BsmtCond\n",
      "TA    1311\n",
      "Gd      65\n",
      "Fa      45\n",
      "Po       2\n",
      "Name: count, dtype: int64\n"
     ]
    }
   ],
   "source": [
    "name = 'BsmtCond'\n",
    "check_null_values()"
   ]
  },
  {
   "cell_type": "code",
   "execution_count": 59,
   "id": "9e81b41c-5b63-4d2b-b8c2-57a0615882dc",
   "metadata": {},
   "outputs": [
    {
     "name": "stdout",
     "output_type": "stream",
     "text": [
      "After filling the null values:\n",
      "\n",
      "BsmtCond\n",
      "TA    1311\n",
      "Gd      65\n",
      "Fa      45\n",
      "NA      37\n",
      "Po       2\n",
      "Name: count, dtype: int64\n",
      "\n",
      "{'Electrical': 0.0684931506849315, 'BsmtQual': 2.5342465753424657, 'LotFrontage': 17.73972602739726}\n"
     ]
    }
   ],
   "source": [
    "fill_na_categ('NA')"
   ]
  },
  {
   "cell_type": "markdown",
   "id": "c50607a4-79b5-4e06-9f3e-b1cdeab29080",
   "metadata": {},
   "source": [
    "#### BsmtQual"
   ]
  },
  {
   "cell_type": "code",
   "execution_count": 60,
   "id": "05475860-8a19-4db4-a4cc-247151994fe9",
   "metadata": {},
   "outputs": [
    {
     "name": "stdout",
     "output_type": "stream",
     "text": [
      "{'Description': 'Evaluates the height of the basement', 'Categories': {'Ex': 'Excellent (100+ inches)\\t', 'Gd': 'Good (90-99 inches)', 'TA': 'Typical (80-89 inches)', 'Fa': 'Fair (70-79 inches)', 'Po': 'Poor (<70 inches', 'NA': 'No Basement'}}\n",
      "\n",
      "Before filling the null values: \n",
      "\n",
      "BsmtQual\n",
      "TA    649\n",
      "Gd    618\n",
      "Ex    121\n",
      "Fa     35\n",
      "Name: count, dtype: int64\n"
     ]
    }
   ],
   "source": [
    "name = 'BsmtQual'\n",
    "check_null_values()"
   ]
  },
  {
   "cell_type": "code",
   "execution_count": 61,
   "id": "f65f379d-beb2-4d58-8a4f-de5d5b850658",
   "metadata": {},
   "outputs": [
    {
     "name": "stdout",
     "output_type": "stream",
     "text": [
      "After filling the null values:\n",
      "\n",
      "BsmtQual\n",
      "TA    649\n",
      "Gd    618\n",
      "Ex    121\n",
      "NA     37\n",
      "Fa     35\n",
      "Name: count, dtype: int64\n",
      "\n",
      "{'Electrical': 0.0684931506849315, 'LotFrontage': 17.73972602739726}\n"
     ]
    }
   ],
   "source": [
    "fill_na_categ('NA')"
   ]
  },
  {
   "cell_type": "markdown",
   "id": "d081d544-32f2-4477-ae67-762e87ce63f4",
   "metadata": {},
   "source": [
    "### Electrical"
   ]
  },
  {
   "cell_type": "code",
   "execution_count": 62,
   "id": "617a6289-d054-4678-8e17-37abcbe897a4",
   "metadata": {},
   "outputs": [
    {
     "name": "stdout",
     "output_type": "stream",
     "text": [
      "{'Description': 'Electrical system', 'Categories': {'SBrkr': 'Standard Circuit Breakers & Romex', 'FuseA': 'Fuse Box over 60 AMP and all Romex wiring (Average)\\t', 'FuseF': '60 AMP Fuse Box and mostly Romex wiring (Fair)', 'FuseP': '60 AMP Fuse Box and mostly knob & tube wiring (poor)', 'Mix': 'Mixed'}}\n",
      "\n",
      "Before filling the null values: \n",
      "\n",
      "Electrical\n",
      "SBrkr    1334\n",
      "FuseA      94\n",
      "FuseF      27\n",
      "FuseP       3\n",
      "Mix         1\n",
      "Name: count, dtype: int64\n"
     ]
    }
   ],
   "source": [
    "name = 'Electrical'\n",
    "check_null_values()"
   ]
  },
  {
   "cell_type": "code",
   "execution_count": 63,
   "id": "294756ba-deb8-4a3a-a2c9-d9619d9d0c15",
   "metadata": {},
   "outputs": [
    {
     "data": {
      "text/html": [
       "<pre style=\"white-space:pre;overflow-x:auto;line-height:normal;font-family:Menlo,'DejaVu Sans Mono',consolas,'Courier New',monospace\"></pre>\n"
      ],
      "text/plain": []
     },
     "metadata": {},
     "output_type": "display_data"
    },
    {
     "data": {
      "text/plain": [
       "\u001b[1m{\u001b[0m\u001b[32m'Electrical'\u001b[0m: \u001b[1;36m0.0684931506849315\u001b[0m, \u001b[32m'LotFrontage'\u001b[0m: \u001b[1;36m17.73972602739726\u001b[0m\u001b[1m}\u001b[0m"
      ]
     },
     "execution_count": 63,
     "metadata": {},
     "output_type": "execute_result"
    }
   ],
   "source": [
    "missing_dict"
   ]
  },
  {
   "cell_type": "code",
   "execution_count": 64,
   "id": "797cdc54-43b6-4074-b243-dda6b2f92a6a",
   "metadata": {},
   "outputs": [
    {
     "data": {
      "text/html": [
       "<pre style=\"white-space:pre;overflow-x:auto;line-height:normal;font-family:Menlo,'DejaVu Sans Mono',consolas,'Courier New',monospace\"></pre>\n"
      ],
      "text/plain": []
     },
     "metadata": {},
     "output_type": "display_data"
    },
    {
     "data": {
      "text/plain": [
       "\u001b[1;36m1\u001b[0m"
      ]
     },
     "execution_count": 64,
     "metadata": {},
     "output_type": "execute_result"
    }
   ],
   "source": [
    "df['Electrical'].isna().sum()"
   ]
  },
  {
   "cell_type": "code",
   "execution_count": 65,
   "id": "63d14cd4-4b2f-4df3-9cd0-2b620f76287f",
   "metadata": {},
   "outputs": [
    {
     "name": "stdout",
     "output_type": "stream",
     "text": [
      "After filling the null values:\n",
      "\n",
      "Electrical\n",
      "SBrkr    1335\n",
      "FuseA      94\n",
      "FuseF      27\n",
      "FuseP       3\n",
      "Mix         1\n",
      "Name: count, dtype: int64\n",
      "\n",
      "{'LotFrontage': 17.73972602739726}\n"
     ]
    }
   ],
   "source": [
    "fill_na_categ('SBrkr')"
   ]
  },
  {
   "cell_type": "markdown",
   "id": "861c0a24-ac2d-4f6a-b10f-e55bbc52a0c6",
   "metadata": {},
   "source": [
    "### LotFrontage"
   ]
  },
  {
   "cell_type": "code",
   "execution_count": 66,
   "id": "797e576c-f455-4548-9c36-ca7e04a7b9b0",
   "metadata": {},
   "outputs": [
    {
     "data": {
      "text/html": [
       "<pre style=\"white-space:pre;overflow-x:auto;line-height:normal;font-family:Menlo,'DejaVu Sans Mono',consolas,'Courier New',monospace\"></pre>\n"
      ],
      "text/plain": []
     },
     "metadata": {},
     "output_type": "display_data"
    },
    {
     "data": {
      "text/plain": [
       "\u001b[1m{\u001b[0m\u001b[32m'Description'\u001b[0m: \u001b[32m'Linear feet of street connected to property'\u001b[0m\u001b[1m}\u001b[0m"
      ]
     },
     "execution_count": 66,
     "metadata": {},
     "output_type": "execute_result"
    }
   ],
   "source": [
    "name = \"LotFrontage\"\n",
    "data_dict.get(name)"
   ]
  },
  {
   "cell_type": "code",
   "execution_count": 67,
   "id": "4d5415ce-5126-417b-805a-ee473959f68d",
   "metadata": {},
   "outputs": [
    {
     "data": {
      "text/html": [
       "<pre style=\"white-space:pre;overflow-x:auto;line-height:normal;font-family:Menlo,'DejaVu Sans Mono',consolas,'Courier New',monospace\"></pre>\n"
      ],
      "text/plain": []
     },
     "metadata": {},
     "output_type": "display_data"
    },
    {
     "data": {
      "text/plain": [
       "\n",
       "count    \u001b[1;36m1201.000000\u001b[0m\n",
       "mean       \u001b[1;36m70.049958\u001b[0m\n",
       "std        \u001b[1;36m24.284752\u001b[0m\n",
       "min        \u001b[1;36m21.000000\u001b[0m\n",
       "\u001b[1;36m25\u001b[0m%        \u001b[1;36m59.000000\u001b[0m\n",
       "\u001b[1;36m50\u001b[0m%        \u001b[1;36m69.000000\u001b[0m\n",
       "\u001b[1;36m75\u001b[0m%        \u001b[1;36m80.000000\u001b[0m\n",
       "max       \u001b[1;36m313.000000\u001b[0m\n",
       "Name: LotFrontage, dtype: float64"
      ]
     },
     "execution_count": 67,
     "metadata": {},
     "output_type": "execute_result"
    }
   ],
   "source": [
    "df[name].describe()"
   ]
  },
  {
   "cell_type": "code",
   "execution_count": 68,
   "id": "6f54e1e4-596c-45e4-8769-ca1b2e4f17f9",
   "metadata": {
    "tags": []
   },
   "outputs": [
    {
     "name": "stdout",
     "output_type": "stream",
     "text": [
      "After filling the null values:\n",
      "\n",
      "LotFrontage\n",
      "0.0      259\n",
      "60.0     143\n",
      "70.0      70\n",
      "80.0      69\n",
      "50.0      57\n",
      "        ... \n",
      "137.0      1\n",
      "38.0       1\n",
      "33.0       1\n",
      "150.0      1\n",
      "46.0       1\n",
      "Name: count, Length: 111, dtype: int64\n",
      "\n",
      "{}\n"
     ]
    }
   ],
   "source": [
    "fill_na_categ(0)"
   ]
  },
  {
   "cell_type": "code",
   "execution_count": 69,
   "id": "7dfd016c-c0a4-4cdb-8aaa-aebd6a83fffb",
   "metadata": {},
   "outputs": [
    {
     "data": {
      "text/html": [
       "<pre style=\"white-space:pre;overflow-x:auto;line-height:normal;font-family:Menlo,'DejaVu Sans Mono',consolas,'Courier New',monospace\"></pre>\n"
      ],
      "text/plain": []
     },
     "metadata": {},
     "output_type": "display_data"
    },
    {
     "data": {
      "text/plain": [
       "\n",
       "\u001b[1;35mIndex\u001b[0m\u001b[1m(\u001b[0m\u001b[1m[\u001b[0m\u001b[32m'MSZoning'\u001b[0m, \u001b[32m'Street'\u001b[0m, \u001b[32m'Alley'\u001b[0m, \u001b[32m'LotShape'\u001b[0m, \u001b[32m'LandContour'\u001b[0m, \u001b[32m'Utilities'\u001b[0m,\n",
       "       \u001b[32m'LotConfig'\u001b[0m, \u001b[32m'LandSlope'\u001b[0m, \u001b[32m'Neighborhood'\u001b[0m, \u001b[32m'Condition1'\u001b[0m, \u001b[32m'Condition2'\u001b[0m,\n",
       "       \u001b[32m'BldgType'\u001b[0m, \u001b[32m'HouseStyle'\u001b[0m, \u001b[32m'RoofStyle'\u001b[0m, \u001b[32m'RoofMatl'\u001b[0m, \u001b[32m'Exterior1st'\u001b[0m,\n",
       "       \u001b[32m'Exterior2nd'\u001b[0m, \u001b[32m'MasVnrType'\u001b[0m, \u001b[32m'ExterQual'\u001b[0m, \u001b[32m'ExterCond'\u001b[0m, \u001b[32m'Foundation'\u001b[0m,\n",
       "       \u001b[32m'BsmtQual'\u001b[0m, \u001b[32m'BsmtCond'\u001b[0m, \u001b[32m'BsmtExposure'\u001b[0m, \u001b[32m'BsmtFinType1'\u001b[0m, \u001b[32m'BsmtFinType2'\u001b[0m,\n",
       "       \u001b[32m'Heating'\u001b[0m, \u001b[32m'HeatingQC'\u001b[0m, \u001b[32m'CentralAir'\u001b[0m, \u001b[32m'Electrical'\u001b[0m, \u001b[32m'KitchenQual'\u001b[0m,\n",
       "       \u001b[32m'Functional'\u001b[0m, \u001b[32m'FireplaceQu'\u001b[0m, \u001b[32m'GarageType'\u001b[0m, \u001b[32m'GarageFinish'\u001b[0m, \u001b[32m'GarageQual'\u001b[0m,\n",
       "       \u001b[32m'GarageCond'\u001b[0m, \u001b[32m'PavedDrive'\u001b[0m, \u001b[32m'PoolQC'\u001b[0m, \u001b[32m'Fence'\u001b[0m, \u001b[32m'MiscFeature'\u001b[0m,\n",
       "       \u001b[32m'SaleType'\u001b[0m, \u001b[32m'SaleCondition'\u001b[0m\u001b[1m]\u001b[0m,\n",
       "      \u001b[33mdtype\u001b[0m=\u001b[32m'object'\u001b[0m\u001b[1m)\u001b[0m"
      ]
     },
     "execution_count": 69,
     "metadata": {},
     "output_type": "execute_result"
    }
   ],
   "source": [
    "# Select attributes with 'object' data type\n",
    "object_columns = df.select_dtypes(include='object').columns\n",
    "\n",
    "# Create a list of numeric attributes\n",
    "other_attr = [col for col in df.columns if col not in object_columns]\n",
    "\n",
    "object_columns"
   ]
  },
  {
   "cell_type": "code",
   "execution_count": 70,
   "id": "e628a2c8-3ea8-4554-bf27-7f0b0286816a",
   "metadata": {},
   "outputs": [
    {
     "data": {
      "text/html": [
       "<pre style=\"white-space:pre;overflow-x:auto;line-height:normal;font-family:Menlo,'DejaVu Sans Mono',consolas,'Courier New',monospace\"></pre>\n"
      ],
      "text/plain": []
     },
     "metadata": {},
     "output_type": "display_data"
    },
    {
     "data": {
      "text/plain": [
       "\n",
       "\u001b[1m[\u001b[0m\n",
       "    \u001b[32m'Id'\u001b[0m,\n",
       "    \u001b[32m'MSSubClass'\u001b[0m,\n",
       "    \u001b[32m'LotFrontage'\u001b[0m,\n",
       "    \u001b[32m'LotArea'\u001b[0m,\n",
       "    \u001b[32m'OverallQual'\u001b[0m,\n",
       "    \u001b[32m'OverallCond'\u001b[0m,\n",
       "    \u001b[32m'YearBuilt'\u001b[0m,\n",
       "    \u001b[32m'YearRemodAdd'\u001b[0m,\n",
       "    \u001b[32m'MasVnrArea'\u001b[0m,\n",
       "    \u001b[32m'BsmtFinSF1'\u001b[0m,\n",
       "    \u001b[32m'BsmtFinSF2'\u001b[0m,\n",
       "    \u001b[32m'BsmtUnfSF'\u001b[0m,\n",
       "    \u001b[32m'TotalBsmtSF'\u001b[0m,\n",
       "    \u001b[32m'1stFlrSF'\u001b[0m,\n",
       "    \u001b[32m'2ndFlrSF'\u001b[0m,\n",
       "    \u001b[32m'LowQualFinSF'\u001b[0m,\n",
       "    \u001b[32m'GrLivArea'\u001b[0m,\n",
       "    \u001b[32m'BsmtFullBath'\u001b[0m,\n",
       "    \u001b[32m'BsmtHalfBath'\u001b[0m,\n",
       "    \u001b[32m'FullBath'\u001b[0m,\n",
       "    \u001b[32m'HalfBath'\u001b[0m,\n",
       "    \u001b[32m'BedroomAbvGr'\u001b[0m,\n",
       "    \u001b[32m'KitchenAbvGr'\u001b[0m,\n",
       "    \u001b[32m'TotRmsAbvGrd'\u001b[0m,\n",
       "    \u001b[32m'Fireplaces'\u001b[0m,\n",
       "    \u001b[32m'GarageYrBlt'\u001b[0m,\n",
       "    \u001b[32m'GarageCars'\u001b[0m,\n",
       "    \u001b[32m'GarageArea'\u001b[0m,\n",
       "    \u001b[32m'WoodDeckSF'\u001b[0m,\n",
       "    \u001b[32m'OpenPorchSF'\u001b[0m,\n",
       "    \u001b[32m'EnclosedPorch'\u001b[0m,\n",
       "    \u001b[32m'3SsnPorch'\u001b[0m,\n",
       "    \u001b[32m'ScreenPorch'\u001b[0m,\n",
       "    \u001b[32m'PoolArea'\u001b[0m,\n",
       "    \u001b[32m'MiscVal'\u001b[0m,\n",
       "    \u001b[32m'MoSold'\u001b[0m,\n",
       "    \u001b[32m'YrSold'\u001b[0m,\n",
       "    \u001b[32m'SalePrice'\u001b[0m\n",
       "\u001b[1m]\u001b[0m"
      ]
     },
     "execution_count": 70,
     "metadata": {},
     "output_type": "execute_result"
    }
   ],
   "source": [
    "other_attr"
   ]
  },
  {
   "cell_type": "markdown",
   "id": "2f0578f6-1e07-45a7-bdab-927924512e3e",
   "metadata": {
    "tags": []
   },
   "source": [
    "# Encoding categorical values"
   ]
  },
  {
   "cell_type": "markdown",
   "id": "6ccf61a4-9ed0-4222-a84b-0c7015f96cfc",
   "metadata": {},
   "source": [
    "## Ordinal attributes\n",
    "\n",
    "Let's start by selecting attributes that describe condition or quality of an entity. "
   ]
  },
  {
   "cell_type": "code",
   "execution_count": 71,
   "id": "470f2cfd-99cd-4d30-b375-756d5da6ebb5",
   "metadata": {},
   "outputs": [],
   "source": [
    "ordinal_attr = ['PoolQC', 'GarageQual', 'FireplaceQu', 'KitchenQual', 'HeatingQC', 'BsmtCond', 'GarageCond', 'ExterCond', 'BsmtQual', 'ExterQual']\n",
    "\n",
    "# Remove ordinal attributes from the columns with object dtype\n",
    "object_columns = [attr for attr in object_columns if attr not in ordinal_attr]"
   ]
  },
  {
   "cell_type": "markdown",
   "id": "7709a4c3-211c-4746-b11d-b022123d0104",
   "metadata": {},
   "source": [
    "Now, we need to encode them one by one by looking at their value definitions in the data dictionary"
   ]
  },
  {
   "cell_type": "code",
   "execution_count": 72,
   "id": "0853f10d-3139-41b4-ac6e-49fec99fe3ad",
   "metadata": {
    "tags": []
   },
   "outputs": [],
   "source": [
    "def get_ordinal_values(name):\n",
    "    print(\"Attribute: \" + name)\n",
    "    print(data_dict.get(name))\n",
    "    \n",
    "    # Ket reversed keys\n",
    "    categ = list(reversed(data_dict[name]['Categories'].keys()))\n",
    "    print(\"Reversed list of keys from the data dictionary: \")\n",
    "    print(categ)\n",
    "    print()"
   ]
  },
  {
   "cell_type": "code",
   "execution_count": 73,
   "id": "4a078328-572b-4f8d-9a24-09ba1bc44946",
   "metadata": {
    "tags": []
   },
   "outputs": [
    {
     "name": "stdout",
     "output_type": "stream",
     "text": [
      "Attribute: PoolQC\n",
      "{'Description': 'Pool quality', 'Categories': {'Ex': 'Excellent', 'Gd': 'Good', 'TA': 'Average/Typical', 'Fa': 'Fair', 'NA': 'No Pool'}}\n",
      "Reversed list of keys from the data dictionary: \n",
      "['NA', 'Fa', 'TA', 'Gd', 'Ex']\n",
      "\n",
      "Attribute: GarageQual\n",
      "{'Description': 'Garage quality', 'Categories': {'Ex': 'Excellent', 'Gd': 'Good', 'TA': 'Typical/Average', 'Fa': 'Fair', 'Po': 'Poor', 'NA': 'No Garage'}}\n",
      "Reversed list of keys from the data dictionary: \n",
      "['NA', 'Po', 'Fa', 'TA', 'Gd', 'Ex']\n",
      "\n",
      "Attribute: FireplaceQu\n",
      "{'Description': 'Fireplace quality', 'Categories': {'Ex': 'Excellent - Exceptional Masonry Fireplace', 'Gd': 'Good - Masonry Fireplace in main level', 'TA': 'Average - Prefabricated Fireplace in main living area or Masonry Fireplace in basement', 'Fa': 'Fair - Prefabricated Fireplace in basement', 'Po': 'Poor - Ben Franklin Stove', 'NA': 'No Fireplace'}}\n",
      "Reversed list of keys from the data dictionary: \n",
      "['NA', 'Po', 'Fa', 'TA', 'Gd', 'Ex']\n",
      "\n",
      "Attribute: KitchenQual\n",
      "{'Description': 'Kitchen quality', 'Categories': {'Ex': 'Excellent', 'Gd': 'Good', 'TA': 'Typical/Average', 'Fa': 'Fair', 'Po': 'Poor'}}\n",
      "Reversed list of keys from the data dictionary: \n",
      "['Po', 'Fa', 'TA', 'Gd', 'Ex']\n",
      "\n",
      "Attribute: HeatingQC\n",
      "{'Description': 'Heating quality and condition', 'Categories': {'Ex': 'Excellent', 'Gd': 'Good', 'TA': 'Average/Typical', 'Fa': 'Fair', 'Po': 'Poor'}}\n",
      "Reversed list of keys from the data dictionary: \n",
      "['Po', 'Fa', 'TA', 'Gd', 'Ex']\n",
      "\n",
      "Attribute: BsmtCond\n",
      "{'Description': 'Evaluates the general condition of the basement', 'Categories': {'Ex': 'Excellent', 'Gd': 'Good', 'TA': 'Typical - slight dampness allowed', 'Fa': 'Fair - dampness or some cracking or settling', 'Po': 'Poor - Severe cracking, settling, or wetness', 'NA': 'No Basement'}}\n",
      "Reversed list of keys from the data dictionary: \n",
      "['NA', 'Po', 'Fa', 'TA', 'Gd', 'Ex']\n",
      "\n",
      "Attribute: GarageCond\n",
      "{'Description': 'Garage condition', 'Categories': {'Ex': 'Excellent', 'Gd': 'Good', 'TA': 'Typical/Average', 'Fa': 'Fair', 'Po': 'Poor', 'NA': 'No Garage'}}\n",
      "Reversed list of keys from the data dictionary: \n",
      "['NA', 'Po', 'Fa', 'TA', 'Gd', 'Ex']\n",
      "\n",
      "Attribute: ExterCond\n",
      "{'Description': 'Evaluates the present condition of the material on the exterior', 'Categories': {'Ex': 'Excellent', 'Gd': 'Good', 'TA': 'Average/Typical', 'Fa': 'Fair', 'Po': 'Poor'}}\n",
      "Reversed list of keys from the data dictionary: \n",
      "['Po', 'Fa', 'TA', 'Gd', 'Ex']\n",
      "\n",
      "Attribute: BsmtQual\n",
      "{'Description': 'Evaluates the height of the basement', 'Categories': {'Ex': 'Excellent (100+ inches)\\t', 'Gd': 'Good (90-99 inches)', 'TA': 'Typical (80-89 inches)', 'Fa': 'Fair (70-79 inches)', 'Po': 'Poor (<70 inches', 'NA': 'No Basement'}}\n",
      "Reversed list of keys from the data dictionary: \n",
      "['NA', 'Po', 'Fa', 'TA', 'Gd', 'Ex']\n",
      "\n",
      "Attribute: ExterQual\n",
      "{'Description': 'Evaluates the quality of the material on the exterior', 'Categories': {'Ex': 'Excellent', 'Gd': 'Good', 'TA': 'Average/Typical', 'Fa': 'Fair', 'Po': 'Poor'}}\n",
      "Reversed list of keys from the data dictionary: \n",
      "['Po', 'Fa', 'TA', 'Gd', 'Ex']\n",
      "\n"
     ]
    }
   ],
   "source": [
    "for name in ordinal_attr:\n",
    "    get_ordinal_values(name)"
   ]
  },
  {
   "cell_type": "markdown",
   "id": "21d82781-aa1a-4bf9-868d-3b098728723c",
   "metadata": {},
   "source": [
    "It looks like all ordinal values may have the same values. Therefore, we can encode them ordinally using the same rule"
   ]
  },
  {
   "cell_type": "code",
   "execution_count": 74,
   "id": "64b7cda1-9327-4cef-9c14-5fb54350c759",
   "metadata": {},
   "outputs": [],
   "source": [
    "def encode(name, mapping):\n",
    "    print(\"Attribute name: \" + name)\n",
    "\n",
    "    categ = ['NA', 'Po', 'Fa', 'TA', 'Gd', 'Ex']\n",
    "\n",
    "    present_categ = list(df[name].unique())\n",
    "    print(\"Unordered values in the attribute\")\n",
    "    print(present_categ)\n",
    "\n",
    "    categ = [val for val in categ if val in present_categ]\n",
    "    print(\"Ordered values that are present in the attribute: \")\n",
    "    print(categ)\n",
    "\n",
    "    # Before encoding\n",
    "    print(df[name].value_counts())\n",
    "\n",
    "    df[name] = df[name].map(mapping)\n",
    "    \n",
    "    # After encoding\n",
    "    print(df[name].value_counts())"
   ]
  },
  {
   "cell_type": "markdown",
   "id": "c2ecb158-4c2a-42a4-91e1-1d3454a481ee",
   "metadata": {},
   "source": [
    "Now we encode all ordinal categories and manually check their correctness"
   ]
  },
  {
   "cell_type": "code",
   "execution_count": 75,
   "id": "290b75f0-14c1-4db1-93ae-5a68635b7dc7",
   "metadata": {
    "tags": []
   },
   "outputs": [
    {
     "name": "stdout",
     "output_type": "stream",
     "text": [
      "Attribute name: PoolQC\n",
      "Unordered values in the attribute\n",
      "['NA', 'Ex', 'Fa', 'Gd']\n",
      "Ordered values that are present in the attribute: \n",
      "['NA', 'Fa', 'Gd', 'Ex']\n",
      "PoolQC\n",
      "NA    1453\n",
      "Gd       3\n",
      "Ex       2\n",
      "Fa       2\n",
      "Name: count, dtype: int64\n",
      "PoolQC\n",
      "0    1453\n",
      "4       3\n",
      "5       2\n",
      "2       2\n",
      "Name: count, dtype: int64\n",
      "Attribute name: GarageQual\n",
      "Unordered values in the attribute\n",
      "['TA', 'Fa', 'Gd', 'NA', 'Ex', 'Po']\n",
      "Ordered values that are present in the attribute: \n",
      "['NA', 'Po', 'Fa', 'TA', 'Gd', 'Ex']\n",
      "GarageQual\n",
      "TA    1311\n",
      "NA      81\n",
      "Fa      48\n",
      "Gd      14\n",
      "Ex       3\n",
      "Po       3\n",
      "Name: count, dtype: int64\n",
      "GarageQual\n",
      "3    1311\n",
      "0      81\n",
      "2      48\n",
      "4      14\n",
      "5       3\n",
      "1       3\n",
      "Name: count, dtype: int64\n",
      "Attribute name: FireplaceQu\n",
      "Unordered values in the attribute\n",
      "['NA', 'TA', 'Gd', 'Fa', 'Ex', 'Po']\n",
      "Ordered values that are present in the attribute: \n",
      "['NA', 'Po', 'Fa', 'TA', 'Gd', 'Ex']\n",
      "FireplaceQu\n",
      "NA    690\n",
      "Gd    380\n",
      "TA    313\n",
      "Fa     33\n",
      "Ex     24\n",
      "Po     20\n",
      "Name: count, dtype: int64\n",
      "FireplaceQu\n",
      "0    690\n",
      "4    380\n",
      "3    313\n",
      "2     33\n",
      "5     24\n",
      "1     20\n",
      "Name: count, dtype: int64\n",
      "Attribute name: KitchenQual\n",
      "Unordered values in the attribute\n",
      "['Gd', 'TA', 'Ex', 'Fa']\n",
      "Ordered values that are present in the attribute: \n",
      "['Fa', 'TA', 'Gd', 'Ex']\n",
      "KitchenQual\n",
      "TA    735\n",
      "Gd    586\n",
      "Ex    100\n",
      "Fa     39\n",
      "Name: count, dtype: int64\n",
      "KitchenQual\n",
      "3    735\n",
      "4    586\n",
      "5    100\n",
      "2     39\n",
      "Name: count, dtype: int64\n",
      "Attribute name: HeatingQC\n",
      "Unordered values in the attribute\n",
      "['Ex', 'Gd', 'TA', 'Fa', 'Po']\n",
      "Ordered values that are present in the attribute: \n",
      "['Po', 'Fa', 'TA', 'Gd', 'Ex']\n",
      "HeatingQC\n",
      "Ex    741\n",
      "TA    428\n",
      "Gd    241\n",
      "Fa     49\n",
      "Po      1\n",
      "Name: count, dtype: int64\n",
      "HeatingQC\n",
      "5    741\n",
      "3    428\n",
      "4    241\n",
      "2     49\n",
      "1      1\n",
      "Name: count, dtype: int64\n",
      "Attribute name: BsmtCond\n",
      "Unordered values in the attribute\n",
      "['TA', 'Gd', 'NA', 'Fa', 'Po']\n",
      "Ordered values that are present in the attribute: \n",
      "['NA', 'Po', 'Fa', 'TA', 'Gd']\n",
      "BsmtCond\n",
      "TA    1311\n",
      "Gd      65\n",
      "Fa      45\n",
      "NA      37\n",
      "Po       2\n",
      "Name: count, dtype: int64\n",
      "BsmtCond\n",
      "3    1311\n",
      "4      65\n",
      "2      45\n",
      "0      37\n",
      "1       2\n",
      "Name: count, dtype: int64\n",
      "Attribute name: GarageCond\n",
      "Unordered values in the attribute\n",
      "['TA', 'Fa', 'NA', 'Gd', 'Po', 'Ex']\n",
      "Ordered values that are present in the attribute: \n",
      "['NA', 'Po', 'Fa', 'TA', 'Gd', 'Ex']\n",
      "GarageCond\n",
      "TA    1326\n",
      "NA      81\n",
      "Fa      35\n",
      "Gd       9\n",
      "Po       7\n",
      "Ex       2\n",
      "Name: count, dtype: int64\n",
      "GarageCond\n",
      "3    1326\n",
      "0      81\n",
      "2      35\n",
      "4       9\n",
      "1       7\n",
      "5       2\n",
      "Name: count, dtype: int64\n",
      "Attribute name: ExterCond\n",
      "Unordered values in the attribute\n",
      "['TA', 'Gd', 'Fa', 'Po', 'Ex']\n",
      "Ordered values that are present in the attribute: \n",
      "['Po', 'Fa', 'TA', 'Gd', 'Ex']\n",
      "ExterCond\n",
      "TA    1282\n",
      "Gd     146\n",
      "Fa      28\n",
      "Ex       3\n",
      "Po       1\n",
      "Name: count, dtype: int64\n",
      "ExterCond\n",
      "3    1282\n",
      "4     146\n",
      "2      28\n",
      "5       3\n",
      "1       1\n",
      "Name: count, dtype: int64\n",
      "Attribute name: BsmtQual\n",
      "Unordered values in the attribute\n",
      "['Gd', 'TA', 'Ex', 'NA', 'Fa']\n",
      "Ordered values that are present in the attribute: \n",
      "['NA', 'Fa', 'TA', 'Gd', 'Ex']\n",
      "BsmtQual\n",
      "TA    649\n",
      "Gd    618\n",
      "Ex    121\n",
      "NA     37\n",
      "Fa     35\n",
      "Name: count, dtype: int64\n",
      "BsmtQual\n",
      "3    649\n",
      "4    618\n",
      "5    121\n",
      "0     37\n",
      "2     35\n",
      "Name: count, dtype: int64\n",
      "Attribute name: ExterQual\n",
      "Unordered values in the attribute\n",
      "['Gd', 'TA', 'Ex', 'Fa']\n",
      "Ordered values that are present in the attribute: \n",
      "['Fa', 'TA', 'Gd', 'Ex']\n",
      "ExterQual\n",
      "TA    906\n",
      "Gd    488\n",
      "Ex     52\n",
      "Fa     14\n",
      "Name: count, dtype: int64\n",
      "ExterQual\n",
      "3    906\n",
      "4    488\n",
      "5     52\n",
      "2     14\n",
      "Name: count, dtype: int64\n"
     ]
    }
   ],
   "source": [
    "mapping = {\n",
    "            'NA': 0,\n",
    "            'Po': 1,\n",
    "            'Fa': 2,\n",
    "            'TA': 3,\n",
    "            'Gd': 4,\n",
    "            'Ex': 5\n",
    "        }\n",
    "\n",
    "for name in ordinal_attr:\n",
    "    encode(name, mapping)"
   ]
  },
  {
   "cell_type": "code",
   "execution_count": 76,
   "id": "11a28848-56da-4e39-8e00-128d5ccd7ce0",
   "metadata": {},
   "outputs": [
    {
     "name": "stdout",
     "output_type": "stream",
     "text": [
      "<class 'pandas.core.frame.DataFrame'>\n",
      "RangeIndex: 1460 entries, 0 to 1459\n",
      "Data columns (total 10 columns):\n",
      " #   Column       Non-Null Count  Dtype\n",
      "---  ------       --------------  -----\n",
      " 0   PoolQC       1460 non-null   int64\n",
      " 1   GarageQual   1460 non-null   int64\n",
      " 2   FireplaceQu  1460 non-null   int64\n",
      " 3   KitchenQual  1460 non-null   int64\n",
      " 4   HeatingQC    1460 non-null   int64\n",
      " 5   BsmtCond     1460 non-null   int64\n",
      " 6   GarageCond   1460 non-null   int64\n",
      " 7   ExterCond    1460 non-null   int64\n",
      " 8   BsmtQual     1460 non-null   int64\n",
      " 9   ExterQual    1460 non-null   int64\n",
      "dtypes: int64(10)\n",
      "memory usage: 114.2 KB\n"
     ]
    }
   ],
   "source": [
    "df[ordinal_attr].info()"
   ]
  },
  {
   "cell_type": "markdown",
   "id": "e069df47-1ff1-46c4-960a-80a42b5c909b",
   "metadata": {
    "tags": []
   },
   "source": [
    "Let's manually look through the rest of the columns with object dtype"
   ]
  },
  {
   "cell_type": "code",
   "execution_count": 77,
   "id": "aa41e8d7-269f-4667-b58e-ac357fc0890f",
   "metadata": {},
   "outputs": [
    {
     "name": "stdout",
     "output_type": "stream",
     "text": [
      "MSZoning\n",
      "Identifies the general zoning classification of the sale.\n",
      "dict_keys(['A', 'C', 'FV', 'I', 'RH', 'RL', 'RP', 'RM'])\n",
      "\n",
      "Street\n",
      "Type of road access to property\n",
      "dict_keys(['Grvl', 'Pave'])\n",
      "\n",
      "Alley\n",
      "Type of alley access to property\n",
      "dict_keys(['Grvl', 'Pave', 'NA'])\n",
      "\n",
      "LotShape\n",
      "General shape of property\n",
      "dict_keys(['Reg', 'IR1', 'IR2', 'IR3'])\n",
      "\n",
      "LandContour\n",
      "Flatness of the property\n",
      "dict_keys(['Lvl', 'Bnk', 'HLS', 'Low'])\n",
      "\n",
      "Utilities\n",
      "Type of utilities available\n",
      "dict_keys(['AllPub', 'NoSewr', 'NoSeWa', 'ELO'])\n",
      "\n",
      "LotConfig\n",
      "Lot configuration\n",
      "dict_keys(['Inside', 'Corner', 'CulDSac', 'FR2', 'FR3'])\n",
      "\n",
      "LandSlope\n",
      "Slope of property\n",
      "dict_keys(['Gtl', 'Mod', 'Sev'])\n",
      "\n",
      "Neighborhood\n",
      "Physical locations within Ames city limits\n",
      "dict_keys(['Blmngtn', 'Blueste', 'BrDale', 'BrkSide', 'ClearCr', 'CollgCr', 'Crawfor', 'Edwards', 'Gilbert', 'IDOTRR', 'MeadowV', 'Mitchel', 'Names', 'NoRidge', 'NPkVill', 'NridgHt', 'NWAmes', 'OldTown', 'SWISU', 'Sawyer', 'SawyerW', 'Somerst', 'StoneBr', 'Timber', 'Veenker'])\n",
      "\n",
      "Condition1\n",
      "Proximity to various conditions\n",
      "dict_keys(['Artery', 'Feedr', 'Norm', 'RRNn', 'RRAn', 'PosN', 'PosA', 'RRNe', 'RRAe'])\n",
      "\n",
      "Condition2\n",
      "Proximity to various conditions (if more than one is present)\n",
      "dict_keys(['Artery', 'Feedr', 'Norm', 'RRNn', 'RRAn', 'PosN', 'PosA', 'RRNe', 'RRAe'])\n",
      "\n",
      "BldgType\n",
      "Type of dwelling\n",
      "dict_keys(['1Fam', '2FmCon', 'Duplx', 'TwnhsE', 'TwnhsI'])\n",
      "\n",
      "HouseStyle\n",
      "Style of dwelling\n",
      "dict_keys(['1Story', '1.5Fin', '1.5Unf', '2Story', '2.5Fin', '2.5Unf', 'SFoyer', 'SLvl'])\n",
      "\n",
      "RoofStyle\n",
      "Type of roof\n",
      "dict_keys(['Flat', 'Gable', 'Gambrel', 'Hip', 'Mansard', 'Shed'])\n",
      "\n",
      "RoofMatl\n",
      "Roof material\n",
      "dict_keys(['ClyTile', 'CompShg', 'Membran', 'Metal', 'Roll', 'Tar&Grv', 'WdShake', 'WdShngl'])\n",
      "\n",
      "Exterior1st\n",
      "Exterior covering on house\n",
      "dict_keys(['AsbShng', 'AsphShn', 'BrkComm', 'BrkFace', 'CBlock', 'CemntBd', 'HdBoard', 'ImStucc', 'MetalSd', 'Other', 'Plywood', 'PreCast', 'Stone', 'Stucco', 'VinylSd', 'Wd', 'WdShing'])\n",
      "\n",
      "Exterior2nd\n",
      "Exterior covering on house (if more than one material)\n",
      "dict_keys(['AsbShng', 'AsphShn', 'BrkComm', 'BrkFace', 'CBlock', 'CemntBd', 'HdBoard', 'ImStucc', 'MetalSd', 'Other', 'Plywood', 'PreCast', 'Stone', 'Stucco', 'VinylSd', 'Wd', 'WdShing'])\n",
      "\n",
      "MasVnrType\n",
      "Masonry veneer type\n",
      "dict_keys(['BrkCmn', 'BrkFace', 'CBlock', 'None', 'Stone'])\n",
      "\n",
      "Foundation\n",
      "Type of foundation\n",
      "dict_keys(['BrkTil', 'CBlock', 'PConc', 'Slab', 'Stone', 'Wood'])\n",
      "\n",
      "BsmtExposure\n",
      "Refers to walkout or garden level walls\n",
      "dict_keys(['Gd', 'Av', 'Mn', 'No', 'NA'])\n",
      "\n",
      "BsmtFinType1\n",
      "Rating of basement finished area\n",
      "dict_keys(['GLQ', 'ALQ', 'BLQ', 'Rec', 'LwQ', 'Unf', 'NA'])\n",
      "\n",
      "BsmtFinType2\n",
      "Rating of basement finished area (if multiple types)\n",
      "dict_keys(['GLQ', 'ALQ', 'BLQ', 'Rec', 'LwQ', 'Unf', 'NA'])\n",
      "\n",
      "Heating\n",
      "Type of heating\n",
      "dict_keys(['Floor', 'GasA', 'GasW', 'Grav', 'OthW', 'Wall'])\n",
      "\n",
      "CentralAir\n",
      "Central air conditioning\n",
      "dict_keys(['N', 'Y'])\n",
      "\n",
      "Electrical\n",
      "Electrical system\n",
      "dict_keys(['SBrkr', 'FuseA', 'FuseF', 'FuseP', 'Mix'])\n",
      "\n",
      "Functional\n",
      "Home functionality (Assume typical unless deductions are warranted)\n",
      "dict_keys(['Typ', 'Min1', 'Min2', 'Mod', 'Maj1', 'Maj2', 'Sev', 'Sal'])\n",
      "\n",
      "GarageType\n",
      "Garage location\n",
      "dict_keys(['2Types', 'Attchd', 'Basment', 'BuiltIn', 'CarPort', 'Detchd', 'NA'])\n",
      "\n",
      "GarageFinish\n",
      "Interior finish of the garage\n",
      "dict_keys(['Fin', 'RFn', 'Unf', 'NA'])\n",
      "\n",
      "PavedDrive\n",
      "Paved driveway\n",
      "dict_keys(['Y', 'P', 'N'])\n",
      "\n",
      "Fence\n",
      "Fence quality\n",
      "dict_keys(['GdPrv', 'MnPrv', 'GdWo', 'MnWw', 'NA'])\n",
      "\n",
      "MiscFeature\n",
      "Miscellaneous feature not covered in other categories\n",
      "dict_keys(['Elev', 'Gar2', 'Othr', 'Shed', 'TenC', 'NA'])\n",
      "\n",
      "SaleType\n",
      "Type of sale\n",
      "dict_keys(['WD', 'CWD', 'VWD', 'New', 'COD', 'Con', 'ConLw', 'ConLI', 'ConLD', 'Oth'])\n",
      "\n",
      "SaleCondition\n",
      "Condition of sale\n",
      "dict_keys(['Normal', 'Abnorml', 'AdjLand', 'Alloca', 'Family', 'Partial'])\n",
      "\n"
     ]
    }
   ],
   "source": [
    "for name in object_columns:\n",
    "    print(name)\n",
    "    print(data_dict[name]['Description'])\n",
    "    print(data_dict[name]['Categories'].keys())\n",
    "    print()"
   ]
  },
  {
   "cell_type": "markdown",
   "id": "1bbdec18-4c93-4144-ac9e-ee17cc2db3cd",
   "metadata": {},
   "source": [
    "It looks like some values here need custom mapping"
   ]
  },
  {
   "cell_type": "markdown",
   "id": "f6513096-158b-441c-9cda-8d69cea83343",
   "metadata": {},
   "source": [
    "## Custom mapping\n",
    "#### CentralAir"
   ]
  },
  {
   "cell_type": "code",
   "execution_count": 78,
   "id": "9214c151-8d32-42df-ac5b-a5afad2ab31b",
   "metadata": {
    "tags": []
   },
   "outputs": [
    {
     "name": "stdout",
     "output_type": "stream",
     "text": [
      "{'Description': 'Central air conditioning', 'Categories': {'N': 'No', 'Y': 'Yes'}}\n",
      "Attribute name: CentralAir\n",
      "Unordered values in the attribute\n",
      "['Y', 'N']\n",
      "Ordered values that are present in the attribute: \n",
      "[]\n",
      "CentralAir\n",
      "Y    1365\n",
      "N      95\n",
      "Name: count, dtype: int64\n",
      "CentralAir\n",
      "1    1365\n",
      "0      95\n",
      "Name: count, dtype: int64\n"
     ]
    }
   ],
   "source": [
    "name = 'CentralAir'\n",
    "\n",
    "print(data_dict.get(name))\n",
    "mapping = {'N' : 0, 'Y': 1}\n",
    "encode(name, mapping)\n",
    "\n",
    "object_columns.remove(name)"
   ]
  },
  {
   "cell_type": "code",
   "execution_count": 79,
   "id": "4bbf19f4-4aaf-4a48-8e51-1fd554b88e67",
   "metadata": {},
   "outputs": [],
   "source": [
    "binary_attr = [name]"
   ]
  },
  {
   "cell_type": "markdown",
   "id": "60792ff0-ccdd-48d3-974c-b5a09aa6d2f5",
   "metadata": {},
   "source": [
    "#### PavedDrive"
   ]
  },
  {
   "cell_type": "code",
   "execution_count": 80,
   "id": "1c4bc24d-4e53-4517-bbae-5d8069904d2e",
   "metadata": {},
   "outputs": [
    {
     "name": "stdout",
     "output_type": "stream",
     "text": [
      "{'Description': 'Paved driveway', 'Categories': {'Y': 'Paved ', 'P': 'Partial Pavement', 'N': 'Dirt/Gravel'}}\n",
      "Attribute name: PavedDrive\n",
      "Unordered values in the attribute\n",
      "['Y', 'N', 'P']\n",
      "Ordered values that are present in the attribute: \n",
      "[]\n",
      "PavedDrive\n",
      "Y    1340\n",
      "N      90\n",
      "P      30\n",
      "Name: count, dtype: int64\n",
      "PavedDrive\n",
      "2    1340\n",
      "0      90\n",
      "1      30\n",
      "Name: count, dtype: int64\n"
     ]
    }
   ],
   "source": [
    "name = 'PavedDrive'\n",
    "\n",
    "print(data_dict.get(name))\n",
    "\n",
    "mapping = {'N' : 0, 'P':1, 'Y': 2}\n",
    "encode(name, mapping)\n",
    "\n",
    "object_columns.remove(name)"
   ]
  },
  {
   "cell_type": "code",
   "execution_count": 81,
   "id": "b9464169-28f5-40eb-a838-026f56d02d62",
   "metadata": {},
   "outputs": [],
   "source": [
    "# We need to add more ordinal features identified during the custom mapping process.\n",
    "ordinal_attr.append(name)"
   ]
  },
  {
   "cell_type": "markdown",
   "id": "78003907-f9f7-4b49-9186-a7530b718d1b",
   "metadata": {
    "tags": []
   },
   "source": [
    "#### Fence"
   ]
  },
  {
   "cell_type": "code",
   "execution_count": 82,
   "id": "504c88a3-389f-45f2-a8a8-2371aac70ee2",
   "metadata": {},
   "outputs": [
    {
     "name": "stdout",
     "output_type": "stream",
     "text": [
      "{'Description': 'Fence quality', 'Categories': {'GdPrv': 'Good Privacy', 'MnPrv': 'Minimum Privacy', 'GdWo': 'Good Wood', 'MnWw': 'Minimum Wood/Wire', 'NA': 'No Fence'}}\n"
     ]
    }
   ],
   "source": [
    "name = 'Fence'\n",
    "\n",
    "print(data_dict.get(name))"
   ]
  },
  {
   "cell_type": "code",
   "execution_count": 83,
   "id": "3950277a-b33d-4dbb-8856-1faba668a433",
   "metadata": {},
   "outputs": [
    {
     "name": "stdout",
     "output_type": "stream",
     "text": [
      "Attribute name: Fence\n",
      "Unordered values in the attribute\n",
      "['NA', 'MnPrv', 'GdWo', 'GdPrv', 'MnWw']\n",
      "Ordered values that are present in the attribute: \n",
      "['NA']\n",
      "Fence\n",
      "NA       1179\n",
      "MnPrv     157\n",
      "GdPrv      59\n",
      "GdWo       54\n",
      "MnWw       11\n",
      "Name: count, dtype: int64\n",
      "Fence\n",
      "0    1179\n",
      "3     157\n",
      "4      59\n",
      "2      54\n",
      "1      11\n",
      "Name: count, dtype: int64\n"
     ]
    }
   ],
   "source": [
    "mapping = {'NA' : 0, 'MnWw':1, 'GdWo': 2, 'MnPrv':3, 'GdPrv':4}\n",
    "encode(name, mapping)\n",
    "\n",
    "object_columns.remove(name)"
   ]
  },
  {
   "cell_type": "code",
   "execution_count": 84,
   "id": "43d97070-2a06-4987-8d17-3023a07e763e",
   "metadata": {},
   "outputs": [],
   "source": [
    "ordinal_attr.append(name)"
   ]
  },
  {
   "cell_type": "markdown",
   "id": "07caa32b-bee4-4334-9d10-ddcedea9b1e5",
   "metadata": {},
   "source": [
    "#### Alley"
   ]
  },
  {
   "cell_type": "code",
   "execution_count": 85,
   "id": "5b4b09e6-d2b0-4612-8ea3-45ad3c621980",
   "metadata": {},
   "outputs": [
    {
     "name": "stdout",
     "output_type": "stream",
     "text": [
      "{'Description': 'Type of alley access to property', 'Categories': {'Grvl': 'Gravel', 'Pave': 'Paved', 'NA': 'No alley access'}}\n"
     ]
    }
   ],
   "source": [
    "name = 'Alley'\n",
    "\n",
    "print(data_dict.get(name))"
   ]
  },
  {
   "cell_type": "code",
   "execution_count": 86,
   "id": "4d0b29f0-05bb-4bc1-87a5-f9b96c107731",
   "metadata": {
    "tags": []
   },
   "outputs": [
    {
     "name": "stdout",
     "output_type": "stream",
     "text": [
      "Attribute name: Alley\n",
      "Unordered values in the attribute\n",
      "['NA', 'Grvl', 'Pave']\n",
      "Ordered values that are present in the attribute: \n",
      "['NA']\n",
      "Alley\n",
      "NA      1369\n",
      "Grvl      50\n",
      "Pave      41\n",
      "Name: count, dtype: int64\n",
      "Alley\n",
      "0    1369\n",
      "1      50\n",
      "2      41\n",
      "Name: count, dtype: int64\n"
     ]
    }
   ],
   "source": [
    "mapping = {'NA' : 0, 'Grvl':1, 'Pave': 2}\n",
    "encode(name, mapping)\n",
    "\n",
    "object_columns.remove(name)"
   ]
  },
  {
   "cell_type": "code",
   "execution_count": 87,
   "id": "6cb2a8fb-c8c1-4102-8d67-bd7757c4a2d4",
   "metadata": {},
   "outputs": [],
   "source": [
    "ordinal_attr.append(name)"
   ]
  },
  {
   "cell_type": "markdown",
   "id": "5269ea43-d437-41b6-abcd-a52d68165897",
   "metadata": {},
   "source": [
    "#### Street"
   ]
  },
  {
   "cell_type": "code",
   "execution_count": 88,
   "id": "44e2973b-fe45-4114-b38f-e597200aa788",
   "metadata": {},
   "outputs": [
    {
     "name": "stdout",
     "output_type": "stream",
     "text": [
      "{'Description': 'Type of road access to property', 'Categories': {'Grvl': 'Gravel\\t', 'Pave': 'Paved'}}\n"
     ]
    }
   ],
   "source": [
    "name = 'Street'\n",
    "\n",
    "print(data_dict.get(name))"
   ]
  },
  {
   "cell_type": "code",
   "execution_count": 89,
   "id": "d492d79a-aaa3-4cf8-bece-ffceac800d42",
   "metadata": {},
   "outputs": [
    {
     "name": "stdout",
     "output_type": "stream",
     "text": [
      "Attribute name: Street\n",
      "Unordered values in the attribute\n",
      "['Pave', 'Grvl']\n",
      "Ordered values that are present in the attribute: \n",
      "[]\n",
      "Street\n",
      "Pave    1454\n",
      "Grvl       6\n",
      "Name: count, dtype: int64\n",
      "Street\n",
      "2    1454\n",
      "1       6\n",
      "Name: count, dtype: int64\n"
     ]
    }
   ],
   "source": [
    "mapping = {'Grvl':1, 'Pave': 2}\n",
    "encode(name, mapping)\n",
    "\n",
    "object_columns.remove(name)"
   ]
  },
  {
   "cell_type": "code",
   "execution_count": 90,
   "id": "c010ce0e-e46c-43ae-9fcd-72022da39403",
   "metadata": {},
   "outputs": [],
   "source": [
    "ordinal_attr.append(name)"
   ]
  },
  {
   "cell_type": "markdown",
   "id": "6c8b6ef4-fbef-427c-b6da-e1f849dc42c6",
   "metadata": {},
   "source": [
    "#### LandSlope"
   ]
  },
  {
   "cell_type": "code",
   "execution_count": 91,
   "id": "49ecd837-1a2f-43df-8591-c13c4777c9ac",
   "metadata": {},
   "outputs": [
    {
     "name": "stdout",
     "output_type": "stream",
     "text": [
      "{'Description': 'Slope of property', 'Categories': {'Gtl': 'Gentle slope', 'Mod': 'Moderate Slope\\t', 'Sev': 'Severe Slope'}}\n"
     ]
    }
   ],
   "source": [
    "name = 'LandSlope'\n",
    "\n",
    "print(data_dict.get(name))"
   ]
  },
  {
   "cell_type": "code",
   "execution_count": 92,
   "id": "45e7c271-8cd5-40f8-a4e2-3ae5a9dcbaaf",
   "metadata": {},
   "outputs": [
    {
     "name": "stdout",
     "output_type": "stream",
     "text": [
      "Attribute name: LandSlope\n",
      "Unordered values in the attribute\n",
      "['Gtl', 'Mod', 'Sev']\n",
      "Ordered values that are present in the attribute: \n",
      "[]\n",
      "LandSlope\n",
      "Gtl    1382\n",
      "Mod      65\n",
      "Sev      13\n",
      "Name: count, dtype: int64\n",
      "LandSlope\n",
      "3    1382\n",
      "2      65\n",
      "1      13\n",
      "Name: count, dtype: int64\n"
     ]
    }
   ],
   "source": [
    "mapping = {'Sev':1, 'Mod': 2, 'Gtl': 3}\n",
    "encode(name, mapping)\n",
    "\n",
    "object_columns.remove(name)"
   ]
  },
  {
   "cell_type": "code",
   "execution_count": 93,
   "id": "3b5b7dce-3de3-457e-98f5-eee635749a42",
   "metadata": {},
   "outputs": [],
   "source": [
    "ordinal_attr.append(name)"
   ]
  },
  {
   "cell_type": "markdown",
   "id": "4286e3fe-8eb0-4f8f-992d-2f046ae97143",
   "metadata": {},
   "source": [
    "#### Utilities"
   ]
  },
  {
   "cell_type": "code",
   "execution_count": 94,
   "id": "b4fb1fa4-5523-4478-bf15-d54c12167fb4",
   "metadata": {},
   "outputs": [
    {
     "name": "stdout",
     "output_type": "stream",
     "text": [
      "{'Description': 'Type of utilities available', 'Categories': {'AllPub': 'All public Utilities (E,G,W,& S)\\t', 'NoSewr': 'Electricity, Gas, and Water (Septic Tank)', 'NoSeWa': 'Electricity and Gas Only', 'ELO': 'Electricity only\\t'}}\n"
     ]
    }
   ],
   "source": [
    "name = 'Utilities'\n",
    "\n",
    "print(data_dict.get(name))"
   ]
  },
  {
   "cell_type": "code",
   "execution_count": 95,
   "id": "b857c36d-7567-42a7-bd6c-350d785c5902",
   "metadata": {},
   "outputs": [
    {
     "name": "stdout",
     "output_type": "stream",
     "text": [
      "Attribute name: Utilities\n",
      "Unordered values in the attribute\n",
      "['AllPub', 'NoSeWa']\n",
      "Ordered values that are present in the attribute: \n",
      "[]\n",
      "Utilities\n",
      "AllPub    1459\n",
      "NoSeWa       1\n",
      "Name: count, dtype: int64\n",
      "Utilities\n",
      "4    1459\n",
      "2       1\n",
      "Name: count, dtype: int64\n"
     ]
    }
   ],
   "source": [
    "mapping = {'ELO':1, 'NoSeWa': 2, 'NoSewr': 3, 'AllPub': 4}\n",
    "encode(name, mapping)\n",
    "\n",
    "object_columns.remove(name)"
   ]
  },
  {
   "cell_type": "code",
   "execution_count": 96,
   "id": "7a865c72-37af-4a62-aa1e-c1ba03ecd1f4",
   "metadata": {},
   "outputs": [],
   "source": [
    "ordinal_attr.append(name)"
   ]
  },
  {
   "cell_type": "markdown",
   "id": "6df532d1-7018-4d9a-bcf1-e687068f730a",
   "metadata": {},
   "source": [
    "#### BsmtExposure"
   ]
  },
  {
   "cell_type": "code",
   "execution_count": 97,
   "id": "d0537451-433c-4e67-9b96-81bfcc2729e2",
   "metadata": {},
   "outputs": [
    {
     "name": "stdout",
     "output_type": "stream",
     "text": [
      "{'Description': 'Refers to walkout or garden level walls', 'Categories': {'Gd': 'Good Exposure', 'Av': 'Average Exposure (split levels or foyers typically score average or above)\\t', 'Mn': 'Mimimum Exposure', 'No': 'No Exposure', 'NA': 'No Basement'}}\n"
     ]
    }
   ],
   "source": [
    "name = 'BsmtExposure'\n",
    "\n",
    "print(data_dict.get(name))"
   ]
  },
  {
   "cell_type": "code",
   "execution_count": 98,
   "id": "0c89a2ce-6b3f-4c8e-a77a-2ce4895d2604",
   "metadata": {
    "tags": []
   },
   "outputs": [
    {
     "name": "stdout",
     "output_type": "stream",
     "text": [
      "Attribute name: BsmtExposure\n",
      "Unordered values in the attribute\n",
      "['No', 'Gd', 'Mn', 'Av', 'NA']\n",
      "Ordered values that are present in the attribute: \n",
      "['NA', 'Gd']\n",
      "BsmtExposure\n",
      "No    954\n",
      "Av    221\n",
      "Gd    134\n",
      "Mn    114\n",
      "NA     37\n",
      "Name: count, dtype: int64\n",
      "BsmtExposure\n",
      "1    954\n",
      "3    221\n",
      "4    134\n",
      "2    114\n",
      "0     37\n",
      "Name: count, dtype: int64\n"
     ]
    }
   ],
   "source": [
    "mapping = {'NA':0, 'No': 1, 'Mn': 2, 'Av': 3, 'Gd': 4}\n",
    "encode(name, mapping)\n",
    "\n",
    "object_columns.remove(name)"
   ]
  },
  {
   "cell_type": "code",
   "execution_count": 99,
   "id": "ed299820-475d-49a2-adfa-0b911e019b67",
   "metadata": {},
   "outputs": [],
   "source": [
    "ordinal_attr.append(name)"
   ]
  },
  {
   "cell_type": "markdown",
   "id": "788c2628-45f0-49a0-be48-3d4fe716261d",
   "metadata": {},
   "source": [
    "#### Functional"
   ]
  },
  {
   "cell_type": "code",
   "execution_count": 100,
   "id": "62dff56a-24d9-4a7e-a441-434976d4dcc4",
   "metadata": {
    "tags": []
   },
   "outputs": [
    {
     "name": "stdout",
     "output_type": "stream",
     "text": [
      "{'Description': 'Home functionality (Assume typical unless deductions are warranted)', 'Categories': {'Typ': 'Typical Functionality', 'Min1': 'Minor Deductions 1', 'Min2': 'Minor Deductions 2', 'Mod': 'Moderate Deductions', 'Maj1': 'Major Deductions 1', 'Maj2': 'Major Deductions 2', 'Sev': 'Severely Damaged', 'Sal': 'Salvage only'}}\n"
     ]
    }
   ],
   "source": [
    "name = 'Functional'\n",
    "\n",
    "print(data_dict.get(name))"
   ]
  },
  {
   "cell_type": "code",
   "execution_count": 101,
   "id": "ae1b4d07-e371-485e-9f45-a04bbbc80f97",
   "metadata": {},
   "outputs": [
    {
     "name": "stdout",
     "output_type": "stream",
     "text": [
      "Attribute name: Functional\n",
      "Unordered values in the attribute\n",
      "['Typ', 'Min1', 'Maj1', 'Min2', 'Mod', 'Maj2', 'Sev']\n",
      "Ordered values that are present in the attribute: \n",
      "[]\n",
      "Functional\n",
      "Typ     1360\n",
      "Min2      34\n",
      "Min1      31\n",
      "Mod       15\n",
      "Maj1      14\n",
      "Maj2       5\n",
      "Sev        1\n",
      "Name: count, dtype: int64\n",
      "Functional\n",
      "7    1360\n",
      "5      34\n",
      "6      31\n",
      "4      15\n",
      "3      14\n",
      "2       5\n",
      "1       1\n",
      "Name: count, dtype: int64\n"
     ]
    }
   ],
   "source": [
    "mapping = {\n",
    "    'Typ': 7,\n",
    "    'Min1': 6,\n",
    "    'Min2': 5,\n",
    "    'Mod': 4,\n",
    "    'Maj1': 3,\n",
    "    'Maj2': 2,\n",
    "    'Sev': 1,\n",
    "    'Sal': 0\n",
    "}\n",
    "\n",
    "encode(name, mapping)\n",
    "\n",
    "object_columns.remove(name)"
   ]
  },
  {
   "cell_type": "code",
   "execution_count": 102,
   "id": "b610e2c8-0993-494f-827d-4655665430e4",
   "metadata": {},
   "outputs": [],
   "source": [
    "ordinal_attr.append(name)"
   ]
  },
  {
   "cell_type": "markdown",
   "id": "2d84e988-f830-4f72-89ec-750b34d5a8e3",
   "metadata": {},
   "source": [
    "#### GarageFinish"
   ]
  },
  {
   "cell_type": "code",
   "execution_count": 103,
   "id": "b301959a-cab3-4191-8a9d-35b4dea1968a",
   "metadata": {},
   "outputs": [
    {
     "name": "stdout",
     "output_type": "stream",
     "text": [
      "{'Description': 'Interior finish of the garage', 'Categories': {'Fin': 'Finished', 'RFn': 'Rough Finished\\t', 'Unf': 'Unfinished', 'NA': 'No Garage'}}\n"
     ]
    }
   ],
   "source": [
    "name = 'GarageFinish'\n",
    "print(data_dict.get(name))"
   ]
  },
  {
   "cell_type": "code",
   "execution_count": 104,
   "id": "870e4b25-e964-4783-a092-5655731a77d5",
   "metadata": {},
   "outputs": [
    {
     "name": "stdout",
     "output_type": "stream",
     "text": [
      "Attribute name: GarageFinish\n",
      "Unordered values in the attribute\n",
      "['RFn', 'Unf', 'Fin', 'NA']\n",
      "Ordered values that are present in the attribute: \n",
      "['NA']\n",
      "GarageFinish\n",
      "Unf    605\n",
      "RFn    422\n",
      "Fin    352\n",
      "NA      81\n",
      "Name: count, dtype: int64\n",
      "GarageFinish\n",
      "1    605\n",
      "2    422\n",
      "3    352\n",
      "0     81\n",
      "Name: count, dtype: int64\n"
     ]
    }
   ],
   "source": [
    "mapping = {\n",
    "    'Fin': 3,\n",
    "    'RFn': 2,\n",
    "    'Unf': 1,\n",
    "    'NA': 0\n",
    "}\n",
    "\n",
    "encode(name, mapping)\n",
    "\n",
    "object_columns.remove(name)"
   ]
  },
  {
   "cell_type": "code",
   "execution_count": 105,
   "id": "05db1238-778a-4c35-9474-b123f96a70e3",
   "metadata": {},
   "outputs": [],
   "source": [
    "ordinal_attr.append(name)"
   ]
  },
  {
   "cell_type": "code",
   "execution_count": 106,
   "id": "462d0c4d-493b-4e94-bc88-a5fd712b1f62",
   "metadata": {},
   "outputs": [
    {
     "name": "stdout",
     "output_type": "stream",
     "text": [
      "MSZoning\n",
      "Identifies the general zoning classification of the sale.\n",
      "dict_keys(['A', 'C', 'FV', 'I', 'RH', 'RL', 'RP', 'RM'])\n",
      "\n",
      "LotShape\n",
      "General shape of property\n",
      "dict_keys(['Reg', 'IR1', 'IR2', 'IR3'])\n",
      "\n",
      "LandContour\n",
      "Flatness of the property\n",
      "dict_keys(['Lvl', 'Bnk', 'HLS', 'Low'])\n",
      "\n",
      "LotConfig\n",
      "Lot configuration\n",
      "dict_keys(['Inside', 'Corner', 'CulDSac', 'FR2', 'FR3'])\n",
      "\n",
      "Neighborhood\n",
      "Physical locations within Ames city limits\n",
      "dict_keys(['Blmngtn', 'Blueste', 'BrDale', 'BrkSide', 'ClearCr', 'CollgCr', 'Crawfor', 'Edwards', 'Gilbert', 'IDOTRR', 'MeadowV', 'Mitchel', 'Names', 'NoRidge', 'NPkVill', 'NridgHt', 'NWAmes', 'OldTown', 'SWISU', 'Sawyer', 'SawyerW', 'Somerst', 'StoneBr', 'Timber', 'Veenker'])\n",
      "\n",
      "Condition1\n",
      "Proximity to various conditions\n",
      "dict_keys(['Artery', 'Feedr', 'Norm', 'RRNn', 'RRAn', 'PosN', 'PosA', 'RRNe', 'RRAe'])\n",
      "\n",
      "Condition2\n",
      "Proximity to various conditions (if more than one is present)\n",
      "dict_keys(['Artery', 'Feedr', 'Norm', 'RRNn', 'RRAn', 'PosN', 'PosA', 'RRNe', 'RRAe'])\n",
      "\n",
      "BldgType\n",
      "Type of dwelling\n",
      "dict_keys(['1Fam', '2FmCon', 'Duplx', 'TwnhsE', 'TwnhsI'])\n",
      "\n",
      "HouseStyle\n",
      "Style of dwelling\n",
      "dict_keys(['1Story', '1.5Fin', '1.5Unf', '2Story', '2.5Fin', '2.5Unf', 'SFoyer', 'SLvl'])\n",
      "\n",
      "RoofStyle\n",
      "Type of roof\n",
      "dict_keys(['Flat', 'Gable', 'Gambrel', 'Hip', 'Mansard', 'Shed'])\n",
      "\n",
      "RoofMatl\n",
      "Roof material\n",
      "dict_keys(['ClyTile', 'CompShg', 'Membran', 'Metal', 'Roll', 'Tar&Grv', 'WdShake', 'WdShngl'])\n",
      "\n",
      "Exterior1st\n",
      "Exterior covering on house\n",
      "dict_keys(['AsbShng', 'AsphShn', 'BrkComm', 'BrkFace', 'CBlock', 'CemntBd', 'HdBoard', 'ImStucc', 'MetalSd', 'Other', 'Plywood', 'PreCast', 'Stone', 'Stucco', 'VinylSd', 'Wd', 'WdShing'])\n",
      "\n",
      "Exterior2nd\n",
      "Exterior covering on house (if more than one material)\n",
      "dict_keys(['AsbShng', 'AsphShn', 'BrkComm', 'BrkFace', 'CBlock', 'CemntBd', 'HdBoard', 'ImStucc', 'MetalSd', 'Other', 'Plywood', 'PreCast', 'Stone', 'Stucco', 'VinylSd', 'Wd', 'WdShing'])\n",
      "\n",
      "MasVnrType\n",
      "Masonry veneer type\n",
      "dict_keys(['BrkCmn', 'BrkFace', 'CBlock', 'None', 'Stone'])\n",
      "\n",
      "Foundation\n",
      "Type of foundation\n",
      "dict_keys(['BrkTil', 'CBlock', 'PConc', 'Slab', 'Stone', 'Wood'])\n",
      "\n",
      "BsmtFinType1\n",
      "Rating of basement finished area\n",
      "dict_keys(['GLQ', 'ALQ', 'BLQ', 'Rec', 'LwQ', 'Unf', 'NA'])\n",
      "\n",
      "BsmtFinType2\n",
      "Rating of basement finished area (if multiple types)\n",
      "dict_keys(['GLQ', 'ALQ', 'BLQ', 'Rec', 'LwQ', 'Unf', 'NA'])\n",
      "\n",
      "Heating\n",
      "Type of heating\n",
      "dict_keys(['Floor', 'GasA', 'GasW', 'Grav', 'OthW', 'Wall'])\n",
      "\n",
      "Electrical\n",
      "Electrical system\n",
      "dict_keys(['SBrkr', 'FuseA', 'FuseF', 'FuseP', 'Mix'])\n",
      "\n",
      "GarageType\n",
      "Garage location\n",
      "dict_keys(['2Types', 'Attchd', 'Basment', 'BuiltIn', 'CarPort', 'Detchd', 'NA'])\n",
      "\n",
      "MiscFeature\n",
      "Miscellaneous feature not covered in other categories\n",
      "dict_keys(['Elev', 'Gar2', 'Othr', 'Shed', 'TenC', 'NA'])\n",
      "\n",
      "SaleType\n",
      "Type of sale\n",
      "dict_keys(['WD', 'CWD', 'VWD', 'New', 'COD', 'Con', 'ConLw', 'ConLI', 'ConLD', 'Oth'])\n",
      "\n",
      "SaleCondition\n",
      "Condition of sale\n",
      "dict_keys(['Normal', 'Abnorml', 'AdjLand', 'Alloca', 'Family', 'Partial'])\n",
      "\n"
     ]
    }
   ],
   "source": [
    "for name in object_columns:\n",
    "    print(name)\n",
    "    print(data_dict[name]['Description'])\n",
    "    print(data_dict[name]['Categories'].keys())\n",
    "    print()"
   ]
  },
  {
   "cell_type": "markdown",
   "id": "7215d8a9-3923-4f53-9c63-7ce41c70af87",
   "metadata": {},
   "source": [
    "## Nominal Attributes\n",
    "The rest of the attributes looks like nominal attributes. When encoding them, we can face a model interpreting these values as ordinal.\n",
    "\n",
    "To prevent models from misinterpreting binary-encoded values as ordinal, you can:\n",
    "\n",
    "- Use models that are specifically designed to handle categorical data: Algorithms like decision trees, random forests, and gradient boosting machines can work well with binary-encoded categorical features and do not impose ordinal assumptions.\n",
    "\n",
    "- Use proper encoding methods: If you're concerned about ordinal misinterpretation, consider using one-hot encoding or dummy encoding instead of binary encoding. These methods create separate binary columns for each category, explicitly indicating the presence or absence of each category, which eliminates any potential ordinal assumptions.\n",
    "\n",
    "- Feature selection and evaluation: When working with binary encoding, carefully evaluate the performance of your model to ensure that it's not making erroneous assumptions about the ordinal nature of the data. You can use techniques like feature importance analysis to understand how the binary-encoded features are affecting the model's predictions.\n",
    "\n",
    "For now, let's use the Label Encoder for now to avoid high dimensionality"
   ]
  },
  {
   "cell_type": "code",
   "execution_count": 107,
   "id": "00dd8a45-5c9d-475c-a59c-0499d84bda2c",
   "metadata": {},
   "outputs": [],
   "source": [
    "#pip install category-encoders"
   ]
  },
  {
   "cell_type": "code",
   "execution_count": 108,
   "id": "9be69c6d-1bae-427b-b98f-4b45c1bbc903",
   "metadata": {},
   "outputs": [],
   "source": [
    "from sklearn.preprocessing import LabelEncoder\n",
    "\n",
    "# Put the rest of the attributes\n",
    "nominal_attr = object_columns\n",
    "\n",
    "for attr in nominal_attr:\n",
    "\n",
    "    label_encoder = LabelEncoder()\n",
    "\n",
    "    df[attr] = label_encoder.fit_transform(df[attr])"
   ]
  },
  {
   "cell_type": "code",
   "execution_count": 109,
   "id": "4dba020f-2cab-4167-83d9-e1f01f8fb944",
   "metadata": {},
   "outputs": [
    {
     "name": "stdout",
     "output_type": "stream",
     "text": [
      "<class 'pandas.core.frame.DataFrame'>\n",
      "RangeIndex: 1460 entries, 0 to 1459\n",
      "Data columns (total 81 columns):\n",
      " #   Column         Non-Null Count  Dtype  \n",
      "---  ------         --------------  -----  \n",
      " 0   Id             1460 non-null   int64  \n",
      " 1   MSSubClass     1460 non-null   int64  \n",
      " 2   MSZoning       1460 non-null   int64  \n",
      " 3   LotFrontage    1460 non-null   float64\n",
      " 4   LotArea        1460 non-null   int64  \n",
      " 5   Street         1460 non-null   int64  \n",
      " 6   Alley          1460 non-null   int64  \n",
      " 7   LotShape       1460 non-null   int64  \n",
      " 8   LandContour    1460 non-null   int64  \n",
      " 9   Utilities      1460 non-null   int64  \n",
      " 10  LotConfig      1460 non-null   int64  \n",
      " 11  LandSlope      1460 non-null   int64  \n",
      " 12  Neighborhood   1460 non-null   int64  \n",
      " 13  Condition1     1460 non-null   int64  \n",
      " 14  Condition2     1460 non-null   int64  \n",
      " 15  BldgType       1460 non-null   int64  \n",
      " 16  HouseStyle     1460 non-null   int64  \n",
      " 17  OverallQual    1460 non-null   int64  \n",
      " 18  OverallCond    1460 non-null   int64  \n",
      " 19  YearBuilt      1460 non-null   int64  \n",
      " 20  YearRemodAdd   1460 non-null   int64  \n",
      " 21  RoofStyle      1460 non-null   int64  \n",
      " 22  RoofMatl       1460 non-null   int64  \n",
      " 23  Exterior1st    1460 non-null   int64  \n",
      " 24  Exterior2nd    1460 non-null   int64  \n",
      " 25  MasVnrType     1460 non-null   int64  \n",
      " 26  MasVnrArea     1460 non-null   float64\n",
      " 27  ExterQual      1460 non-null   int64  \n",
      " 28  ExterCond      1460 non-null   int64  \n",
      " 29  Foundation     1460 non-null   int64  \n",
      " 30  BsmtQual       1460 non-null   int64  \n",
      " 31  BsmtCond       1460 non-null   int64  \n",
      " 32  BsmtExposure   1460 non-null   int64  \n",
      " 33  BsmtFinType1   1460 non-null   int64  \n",
      " 34  BsmtFinSF1     1460 non-null   int64  \n",
      " 35  BsmtFinType2   1460 non-null   int64  \n",
      " 36  BsmtFinSF2     1460 non-null   int64  \n",
      " 37  BsmtUnfSF      1460 non-null   int64  \n",
      " 38  TotalBsmtSF    1460 non-null   int64  \n",
      " 39  Heating        1460 non-null   int64  \n",
      " 40  HeatingQC      1460 non-null   int64  \n",
      " 41  CentralAir     1460 non-null   int64  \n",
      " 42  Electrical     1460 non-null   int64  \n",
      " 43  1stFlrSF       1460 non-null   int64  \n",
      " 44  2ndFlrSF       1460 non-null   int64  \n",
      " 45  LowQualFinSF   1460 non-null   int64  \n",
      " 46  GrLivArea      1460 non-null   int64  \n",
      " 47  BsmtFullBath   1460 non-null   int64  \n",
      " 48  BsmtHalfBath   1460 non-null   int64  \n",
      " 49  FullBath       1460 non-null   int64  \n",
      " 50  HalfBath       1460 non-null   int64  \n",
      " 51  BedroomAbvGr   1460 non-null   int64  \n",
      " 52  KitchenAbvGr   1460 non-null   int64  \n",
      " 53  KitchenQual    1460 non-null   int64  \n",
      " 54  TotRmsAbvGrd   1460 non-null   int64  \n",
      " 55  Functional     1460 non-null   int64  \n",
      " 56  Fireplaces     1460 non-null   int64  \n",
      " 57  FireplaceQu    1460 non-null   int64  \n",
      " 58  GarageType     1460 non-null   int64  \n",
      " 59  GarageYrBlt    1460 non-null   float64\n",
      " 60  GarageFinish   1460 non-null   int64  \n",
      " 61  GarageCars     1460 non-null   int64  \n",
      " 62  GarageArea     1460 non-null   int64  \n",
      " 63  GarageQual     1460 non-null   int64  \n",
      " 64  GarageCond     1460 non-null   int64  \n",
      " 65  PavedDrive     1460 non-null   int64  \n",
      " 66  WoodDeckSF     1460 non-null   int64  \n",
      " 67  OpenPorchSF    1460 non-null   int64  \n",
      " 68  EnclosedPorch  1460 non-null   int64  \n",
      " 69  3SsnPorch      1460 non-null   int64  \n",
      " 70  ScreenPorch    1460 non-null   int64  \n",
      " 71  PoolArea       1460 non-null   int64  \n",
      " 72  PoolQC         1460 non-null   int64  \n",
      " 73  Fence          1460 non-null   int64  \n",
      " 74  MiscFeature    1460 non-null   int64  \n",
      " 75  MiscVal        1460 non-null   int64  \n",
      " 76  MoSold         1460 non-null   int64  \n",
      " 77  YrSold         1460 non-null   int64  \n",
      " 78  SaleType       1460 non-null   int64  \n",
      " 79  SaleCondition  1460 non-null   int64  \n",
      " 80  SalePrice      1460 non-null   int64  \n",
      "dtypes: float64(3), int64(78)\n",
      "memory usage: 924.0 KB\n"
     ]
    }
   ],
   "source": [
    "df.info()"
   ]
  },
  {
   "cell_type": "markdown",
   "id": "e1453ec1-9415-4465-a284-66ebae685cde",
   "metadata": {},
   "source": [
    "# Attribute category dictionary\n",
    "After encoding all categorical features as integer values, it is important to keep track of the categories during feature engineering. Therefore, we create a dictionary of categories and feature names in each category."
   ]
  },
  {
   "cell_type": "code",
   "execution_count": 110,
   "id": "4ca863c0-2ca8-4da0-b6b8-57b992a9ef83",
   "metadata": {},
   "outputs": [
    {
     "data": {
      "text/html": [
       "<pre style=\"white-space:pre;overflow-x:auto;line-height:normal;font-family:Menlo,'DejaVu Sans Mono',consolas,'Courier New',monospace\"></pre>\n"
      ],
      "text/plain": []
     },
     "metadata": {},
     "output_type": "display_data"
    },
    {
     "data": {
      "text/plain": [
       "\n",
       "\u001b[1m[\u001b[0m\n",
       "    \u001b[32m'PoolQC'\u001b[0m,\n",
       "    \u001b[32m'GarageQual'\u001b[0m,\n",
       "    \u001b[32m'FireplaceQu'\u001b[0m,\n",
       "    \u001b[32m'KitchenQual'\u001b[0m,\n",
       "    \u001b[32m'HeatingQC'\u001b[0m,\n",
       "    \u001b[32m'BsmtCond'\u001b[0m,\n",
       "    \u001b[32m'GarageCond'\u001b[0m,\n",
       "    \u001b[32m'ExterCond'\u001b[0m,\n",
       "    \u001b[32m'BsmtQual'\u001b[0m,\n",
       "    \u001b[32m'ExterQual'\u001b[0m,\n",
       "    \u001b[32m'PavedDrive'\u001b[0m,\n",
       "    \u001b[32m'Fence'\u001b[0m,\n",
       "    \u001b[32m'Alley'\u001b[0m,\n",
       "    \u001b[32m'Street'\u001b[0m,\n",
       "    \u001b[32m'LandSlope'\u001b[0m,\n",
       "    \u001b[32m'Utilities'\u001b[0m,\n",
       "    \u001b[32m'BsmtExposure'\u001b[0m,\n",
       "    \u001b[32m'Functional'\u001b[0m,\n",
       "    \u001b[32m'GarageFinish'\u001b[0m\n",
       "\u001b[1m]\u001b[0m"
      ]
     },
     "execution_count": 110,
     "metadata": {},
     "output_type": "execute_result"
    }
   ],
   "source": [
    "ordinal_attr"
   ]
  },
  {
   "cell_type": "code",
   "execution_count": 111,
   "id": "73ee66a4-825f-4d79-a8ee-d123aa4b6784",
   "metadata": {},
   "outputs": [
    {
     "data": {
      "text/html": [
       "<pre style=\"white-space:pre;overflow-x:auto;line-height:normal;font-family:Menlo,'DejaVu Sans Mono',consolas,'Courier New',monospace\"></pre>\n"
      ],
      "text/plain": []
     },
     "metadata": {},
     "output_type": "display_data"
    },
    {
     "data": {
      "text/plain": [
       "\u001b[1m[\u001b[0m\u001b[32m'CentralAir'\u001b[0m\u001b[1m]\u001b[0m"
      ]
     },
     "execution_count": 111,
     "metadata": {},
     "output_type": "execute_result"
    }
   ],
   "source": [
    "binary_attr"
   ]
  },
  {
   "cell_type": "code",
   "execution_count": 112,
   "id": "f6bf95e4-c729-4528-bdfc-0173d7c56f79",
   "metadata": {},
   "outputs": [
    {
     "data": {
      "text/html": [
       "<pre style=\"white-space:pre;overflow-x:auto;line-height:normal;font-family:Menlo,'DejaVu Sans Mono',consolas,'Courier New',monospace\"></pre>\n"
      ],
      "text/plain": []
     },
     "metadata": {},
     "output_type": "display_data"
    },
    {
     "data": {
      "text/plain": [
       "\n",
       "\u001b[1m[\u001b[0m\n",
       "    \u001b[32m'Id'\u001b[0m,\n",
       "    \u001b[32m'MSSubClass'\u001b[0m,\n",
       "    \u001b[32m'LotFrontage'\u001b[0m,\n",
       "    \u001b[32m'LotArea'\u001b[0m,\n",
       "    \u001b[32m'OverallQual'\u001b[0m,\n",
       "    \u001b[32m'OverallCond'\u001b[0m,\n",
       "    \u001b[32m'YearBuilt'\u001b[0m,\n",
       "    \u001b[32m'YearRemodAdd'\u001b[0m,\n",
       "    \u001b[32m'MasVnrArea'\u001b[0m,\n",
       "    \u001b[32m'BsmtFinSF1'\u001b[0m,\n",
       "    \u001b[32m'BsmtFinSF2'\u001b[0m,\n",
       "    \u001b[32m'BsmtUnfSF'\u001b[0m,\n",
       "    \u001b[32m'TotalBsmtSF'\u001b[0m,\n",
       "    \u001b[32m'1stFlrSF'\u001b[0m,\n",
       "    \u001b[32m'2ndFlrSF'\u001b[0m,\n",
       "    \u001b[32m'LowQualFinSF'\u001b[0m,\n",
       "    \u001b[32m'GrLivArea'\u001b[0m,\n",
       "    \u001b[32m'BsmtFullBath'\u001b[0m,\n",
       "    \u001b[32m'BsmtHalfBath'\u001b[0m,\n",
       "    \u001b[32m'FullBath'\u001b[0m,\n",
       "    \u001b[32m'HalfBath'\u001b[0m,\n",
       "    \u001b[32m'BedroomAbvGr'\u001b[0m,\n",
       "    \u001b[32m'KitchenAbvGr'\u001b[0m,\n",
       "    \u001b[32m'TotRmsAbvGrd'\u001b[0m,\n",
       "    \u001b[32m'Fireplaces'\u001b[0m,\n",
       "    \u001b[32m'GarageYrBlt'\u001b[0m,\n",
       "    \u001b[32m'GarageCars'\u001b[0m,\n",
       "    \u001b[32m'GarageArea'\u001b[0m,\n",
       "    \u001b[32m'WoodDeckSF'\u001b[0m,\n",
       "    \u001b[32m'OpenPorchSF'\u001b[0m,\n",
       "    \u001b[32m'EnclosedPorch'\u001b[0m,\n",
       "    \u001b[32m'3SsnPorch'\u001b[0m,\n",
       "    \u001b[32m'ScreenPorch'\u001b[0m,\n",
       "    \u001b[32m'PoolArea'\u001b[0m,\n",
       "    \u001b[32m'MiscVal'\u001b[0m,\n",
       "    \u001b[32m'MoSold'\u001b[0m,\n",
       "    \u001b[32m'YrSold'\u001b[0m,\n",
       "    \u001b[32m'SalePrice'\u001b[0m\n",
       "\u001b[1m]\u001b[0m"
      ]
     },
     "execution_count": 112,
     "metadata": {},
     "output_type": "execute_result"
    }
   ],
   "source": [
    "other_attr"
   ]
  },
  {
   "cell_type": "code",
   "execution_count": 113,
   "id": "106a7777-768c-4a46-937e-70dc555b2466",
   "metadata": {
    "tags": []
   },
   "outputs": [],
   "source": [
    "id_attr = ['Id']\n",
    "other_attr.remove('Id')"
   ]
  },
  {
   "cell_type": "markdown",
   "id": "d12fe9c7-6d20-43fa-b4f7-4a8b27cbcbe7",
   "metadata": {},
   "source": [
    "Now let's manually read through the data dictionary and categorise the attributes"
   ]
  },
  {
   "cell_type": "code",
   "execution_count": 114,
   "id": "709f1019-030a-4bac-93d7-378692633eaa",
   "metadata": {},
   "outputs": [],
   "source": [
    "add_attr = ['OverallQual', 'OverallCond']\n",
    "for attr in add_attr:     \n",
    "    ordinal_attr.append(attr)\n",
    "    other_attr.remove(attr)"
   ]
  },
  {
   "cell_type": "code",
   "execution_count": 115,
   "id": "2b6816ff-682e-4ee2-b81c-0ed9c31423d8",
   "metadata": {},
   "outputs": [],
   "source": [
    "nominal_attr.append('MSSubClass')\n",
    "other_attr.remove('MSSubClass')"
   ]
  },
  {
   "cell_type": "code",
   "execution_count": 116,
   "id": "f8cd286a-fd2d-47cb-89c1-8c0053a511fb",
   "metadata": {
    "tags": []
   },
   "outputs": [],
   "source": [
    "target = ['SalePrice']\n",
    "other_attr.remove('SalePrice')"
   ]
  },
  {
   "cell_type": "code",
   "execution_count": 117,
   "id": "c6b1a446-bd6e-46e2-bfa2-8d1c327b39fb",
   "metadata": {},
   "outputs": [],
   "source": [
    "datetime_attr = ['YearBuilt', 'YearRemodAdd', 'GarageYrBlt', 'MoSold', 'YrSold']\n",
    "\n",
    "for attr in datetime_attr:     \n",
    "    other_attr.remove(attr)"
   ]
  },
  {
   "cell_type": "code",
   "execution_count": 118,
   "id": "7ad89ce3-8706-43ac-898c-717c110b275c",
   "metadata": {},
   "outputs": [
    {
     "name": "stdout",
     "output_type": "stream",
     "text": [
      "Attribute: LotFrontage\n",
      "{'Description': 'Linear feet of street connected to property'}\n",
      "\n",
      "Attribute: LotArea\n",
      "{'Description': 'Lot size in square feet'}\n",
      "\n",
      "Attribute: MasVnrArea\n",
      "{'Description': 'Masonry veneer area in square feet'}\n",
      "\n",
      "Attribute: BsmtFinSF1\n",
      "{'Description': 'Type 1 finished square feet'}\n",
      "\n",
      "Attribute: BsmtFinSF2\n",
      "{'Description': 'Type 2 finished square feet'}\n",
      "\n",
      "Attribute: BsmtUnfSF\n",
      "{'Description': 'Unfinished square feet of basement area'}\n",
      "\n",
      "Attribute: TotalBsmtSF\n",
      "{'Description': 'Total square feet of basement area'}\n",
      "\n",
      "Attribute: 1stFlrSF\n",
      "{'Description': 'First Floor square feet'}\n",
      "\n",
      "Attribute: 2ndFlrSF\n",
      "{'Description': 'Second floor square feet'}\n",
      "\n",
      "Attribute: LowQualFinSF\n",
      "{'Description': 'Low quality finished square feet (all floors)'}\n",
      "\n",
      "Attribute: GrLivArea\n",
      "{'Description': 'Above grade (ground) living area square feet'}\n",
      "\n",
      "Attribute: BsmtFullBath\n",
      "{'Description': 'Basement full bathrooms'}\n",
      "\n",
      "Attribute: BsmtHalfBath\n",
      "{'Description': 'Basement half bathrooms'}\n",
      "\n",
      "Attribute: FullBath\n",
      "{'Description': 'Full bathrooms above grade'}\n",
      "\n",
      "Attribute: HalfBath\n",
      "{'Description': 'Half baths above grade'}\n",
      "\n",
      "Attribute: BedroomAbvGr\n",
      "None\n",
      "\n",
      "Attribute: KitchenAbvGr\n",
      "None\n",
      "\n",
      "Attribute: TotRmsAbvGrd\n",
      "{'Description': 'Total rooms above grade (does not include bathrooms)'}\n",
      "\n",
      "Attribute: Fireplaces\n",
      "{'Description': 'Number of fireplaces'}\n",
      "\n",
      "Attribute: GarageCars\n",
      "{'Description': 'Size of garage in car capacity'}\n",
      "\n",
      "Attribute: GarageArea\n",
      "{'Description': 'Size of garage in square feet'}\n",
      "\n",
      "Attribute: WoodDeckSF\n",
      "{'Description': 'Wood deck area in square feet'}\n",
      "\n",
      "Attribute: OpenPorchSF\n",
      "{'Description': 'Open porch area in square feet'}\n",
      "\n",
      "Attribute: EnclosedPorch\n",
      "{'Description': 'Enclosed porch area in square feet'}\n",
      "\n",
      "Attribute: 3SsnPorch\n",
      "{'Description': 'Three season porch area in square feet'}\n",
      "\n",
      "Attribute: ScreenPorch\n",
      "{'Description': 'Screen porch area in square feet'}\n",
      "\n",
      "Attribute: PoolArea\n",
      "{'Description': 'Pool area in square feet'}\n",
      "\n",
      "Attribute: MiscVal\n",
      "{'Description': '$Value of miscellaneous feature'}\n",
      "\n"
     ]
    }
   ],
   "source": [
    "for name in other_attr:    \n",
    "    print(\"Attribute: \" + name)\n",
    "    print(data_dict.get(name))\n",
    "    print()"
   ]
  },
  {
   "cell_type": "markdown",
   "id": "92e8ee06-6a91-4a57-8826-e5192c277629",
   "metadata": {},
   "source": [
    "The rest are numeric attributes"
   ]
  },
  {
   "cell_type": "code",
   "execution_count": 119,
   "id": "e17ae0b6-ed37-4530-bb85-cd0fe07b40dd",
   "metadata": {},
   "outputs": [],
   "source": [
    "numeric_attr = other_attr"
   ]
  },
  {
   "cell_type": "code",
   "execution_count": 120,
   "id": "ab2bee94-45c3-481e-97e9-60816a20cbf4",
   "metadata": {},
   "outputs": [
    {
     "data": {
      "text/html": [
       "<pre style=\"white-space:pre;overflow-x:auto;line-height:normal;font-family:Menlo,'DejaVu Sans Mono',consolas,'Courier New',monospace\"></pre>\n"
      ],
      "text/plain": []
     },
     "metadata": {},
     "output_type": "display_data"
    },
    {
     "data": {
      "text/plain": [
       "\n",
       "\u001b[1m[\u001b[0m\n",
       "    \u001b[32m'MSZoning'\u001b[0m,\n",
       "    \u001b[32m'LotShape'\u001b[0m,\n",
       "    \u001b[32m'LandContour'\u001b[0m,\n",
       "    \u001b[32m'LotConfig'\u001b[0m,\n",
       "    \u001b[32m'Neighborhood'\u001b[0m,\n",
       "    \u001b[32m'Condition1'\u001b[0m,\n",
       "    \u001b[32m'Condition2'\u001b[0m,\n",
       "    \u001b[32m'BldgType'\u001b[0m,\n",
       "    \u001b[32m'HouseStyle'\u001b[0m,\n",
       "    \u001b[32m'RoofStyle'\u001b[0m,\n",
       "    \u001b[32m'RoofMatl'\u001b[0m,\n",
       "    \u001b[32m'Exterior1st'\u001b[0m,\n",
       "    \u001b[32m'Exterior2nd'\u001b[0m,\n",
       "    \u001b[32m'MasVnrType'\u001b[0m,\n",
       "    \u001b[32m'Foundation'\u001b[0m,\n",
       "    \u001b[32m'BsmtFinType1'\u001b[0m,\n",
       "    \u001b[32m'BsmtFinType2'\u001b[0m,\n",
       "    \u001b[32m'Heating'\u001b[0m,\n",
       "    \u001b[32m'Electrical'\u001b[0m,\n",
       "    \u001b[32m'GarageType'\u001b[0m,\n",
       "    \u001b[32m'MiscFeature'\u001b[0m,\n",
       "    \u001b[32m'SaleType'\u001b[0m,\n",
       "    \u001b[32m'SaleCondition'\u001b[0m,\n",
       "    \u001b[32m'MSSubClass'\u001b[0m\n",
       "\u001b[1m]\u001b[0m"
      ]
     },
     "execution_count": 120,
     "metadata": {},
     "output_type": "execute_result"
    }
   ],
   "source": [
    "nominal_attr"
   ]
  },
  {
   "cell_type": "markdown",
   "id": "7c86be62-80b1-4bea-8817-a44ed980b4b6",
   "metadata": {},
   "source": [
    "Let's check if we missed any attribute or not"
   ]
  },
  {
   "cell_type": "code",
   "execution_count": 121,
   "id": "9a123f37-c1b9-4bd7-8820-b8cd1a26aa15",
   "metadata": {
    "tags": []
   },
   "outputs": [],
   "source": [
    "all_attr = ordinal_attr + binary_attr + numeric_attr + nominal_attr + datetime_attr + target + id_attr"
   ]
  },
  {
   "cell_type": "code",
   "execution_count": 122,
   "id": "331506c9-dc04-41e6-b11c-576885947ce8",
   "metadata": {},
   "outputs": [
    {
     "data": {
      "text/html": [
       "<pre style=\"white-space:pre;overflow-x:auto;line-height:normal;font-family:Menlo,'DejaVu Sans Mono',consolas,'Courier New',monospace\"></pre>\n"
      ],
      "text/plain": []
     },
     "metadata": {},
     "output_type": "display_data"
    },
    {
     "data": {
      "text/plain": [
       "\u001b[1;36m81\u001b[0m"
      ]
     },
     "execution_count": 122,
     "metadata": {},
     "output_type": "execute_result"
    }
   ],
   "source": [
    "len(all_attr)"
   ]
  },
  {
   "cell_type": "code",
   "execution_count": 123,
   "id": "adce0bc8-4405-4133-aa57-7e337e96ed50",
   "metadata": {},
   "outputs": [
    {
     "data": {
      "text/html": [
       "<pre style=\"white-space:pre;overflow-x:auto;line-height:normal;font-family:Menlo,'DejaVu Sans Mono',consolas,'Courier New',monospace\"></pre>\n"
      ],
      "text/plain": []
     },
     "metadata": {},
     "output_type": "display_data"
    },
    {
     "data": {
      "text/plain": [
       "\u001b[3;92mTrue\u001b[0m"
      ]
     },
     "execution_count": 123,
     "metadata": {},
     "output_type": "execute_result"
    }
   ],
   "source": [
    "set(all_attr) == set(df.columns) "
   ]
  },
  {
   "cell_type": "code",
   "execution_count": 124,
   "id": "dbd9f505-1d10-46e3-bcee-57f0b91c8dc9",
   "metadata": {},
   "outputs": [],
   "source": [
    "categ_dict = {\n",
    "    'Ordinal' : ordinal_attr,\n",
    "    'Binary' : binary_attr,\n",
    "    'Numeric' : numeric_attr,\n",
    "    'Nominal' : nominal_attr,\n",
    "    'Datetime' : datetime_attr,\n",
    "    'Target' : target,\n",
    "    'Id' : id_attr\n",
    "}"
   ]
  },
  {
   "cell_type": "code",
   "execution_count": 126,
   "id": "6f0e0c5a-ceee-4596-b159-ab826594d0aa",
   "metadata": {},
   "outputs": [
    {
     "data": {
      "text/html": [
       "<pre style=\"white-space:pre;overflow-x:auto;line-height:normal;font-family:Menlo,'DejaVu Sans Mono',consolas,'Courier New',monospace\"><span style=\"color: #7fbfbf; text-decoration-color: #7fbfbf\">[10/21/23 21:45:59] </span><span style=\"color: #000080; text-decoration-color: #000080\">INFO    </span> Saving data to <span style=\"color: #008000; text-decoration-color: #008000\">'feature_category_dictionary'</span> <span style=\"font-weight: bold\">(</span>JSONDataset<span style=\"font-weight: bold\">)</span><span style=\"color: #808000; text-decoration-color: #808000\">...</span>      <a href=\"file:///home/gunee/anaconda3/envs/ai-hack-melbourne-2023/lib/python3.10/site-packages/kedro/io/data_catalog.py\" target=\"_blank\"><span style=\"color: #7f7f7f; text-decoration-color: #7f7f7f\">data_catalog.py</span></a><span style=\"color: #7f7f7f; text-decoration-color: #7f7f7f\">:</span><a href=\"file:///home/gunee/anaconda3/envs/ai-hack-melbourne-2023/lib/python3.10/site-packages/kedro/io/data_catalog.py#531\" target=\"_blank\"><span style=\"color: #7f7f7f; text-decoration-color: #7f7f7f\">531</span></a>\n",
       "</pre>\n"
      ],
      "text/plain": [
       "\u001b[2;36m[10/21/23 21:45:59]\u001b[0m\u001b[2;36m \u001b[0m\u001b[34mINFO    \u001b[0m Saving data to \u001b[32m'feature_category_dictionary'\u001b[0m \u001b[1m(\u001b[0mJSONDataset\u001b[1m)\u001b[0m\u001b[33m...\u001b[0m      \u001b]8;id=14138;file:///home/gunee/anaconda3/envs/ai-hack-melbourne-2023/lib/python3.10/site-packages/kedro/io/data_catalog.py\u001b\\\u001b[2mdata_catalog.py\u001b[0m\u001b]8;;\u001b\\\u001b[2m:\u001b[0m\u001b]8;id=932598;file:///home/gunee/anaconda3/envs/ai-hack-melbourne-2023/lib/python3.10/site-packages/kedro/io/data_catalog.py#531\u001b\\\u001b[2m531\u001b[0m\u001b]8;;\u001b\\\n"
      ]
     },
     "metadata": {},
     "output_type": "display_data"
    }
   ],
   "source": [
    "catalog.save(\"feature_category_dictionary\", categ_dict)"
   ]
  },
  {
   "cell_type": "code",
   "execution_count": 127,
   "id": "c0ea022c-edb5-4af3-b520-e47f2b08cdaf",
   "metadata": {},
   "outputs": [
    {
     "data": {
      "text/html": [
       "<pre style=\"white-space:pre;overflow-x:auto;line-height:normal;font-family:Menlo,'DejaVu Sans Mono',consolas,'Courier New',monospace\"><span style=\"color: #7fbfbf; text-decoration-color: #7fbfbf\">[10/21/23 21:46:03] </span><span style=\"color: #000080; text-decoration-color: #000080\">INFO    </span> Saving data to <span style=\"color: #008000; text-decoration-color: #008000\">'clean_data'</span> <span style=\"font-weight: bold\">(</span>CSVDataset<span style=\"font-weight: bold\">)</span><span style=\"color: #808000; text-decoration-color: #808000\">...</span>                        <a href=\"file:///home/gunee/anaconda3/envs/ai-hack-melbourne-2023/lib/python3.10/site-packages/kedro/io/data_catalog.py\" target=\"_blank\"><span style=\"color: #7f7f7f; text-decoration-color: #7f7f7f\">data_catalog.py</span></a><span style=\"color: #7f7f7f; text-decoration-color: #7f7f7f\">:</span><a href=\"file:///home/gunee/anaconda3/envs/ai-hack-melbourne-2023/lib/python3.10/site-packages/kedro/io/data_catalog.py#531\" target=\"_blank\"><span style=\"color: #7f7f7f; text-decoration-color: #7f7f7f\">531</span></a>\n",
       "</pre>\n"
      ],
      "text/plain": [
       "\u001b[2;36m[10/21/23 21:46:03]\u001b[0m\u001b[2;36m \u001b[0m\u001b[34mINFO    \u001b[0m Saving data to \u001b[32m'clean_data'\u001b[0m \u001b[1m(\u001b[0mCSVDataset\u001b[1m)\u001b[0m\u001b[33m...\u001b[0m                        \u001b]8;id=778147;file:///home/gunee/anaconda3/envs/ai-hack-melbourne-2023/lib/python3.10/site-packages/kedro/io/data_catalog.py\u001b\\\u001b[2mdata_catalog.py\u001b[0m\u001b]8;;\u001b\\\u001b[2m:\u001b[0m\u001b]8;id=71013;file:///home/gunee/anaconda3/envs/ai-hack-melbourne-2023/lib/python3.10/site-packages/kedro/io/data_catalog.py#531\u001b\\\u001b[2m531\u001b[0m\u001b]8;;\u001b\\\n"
      ]
     },
     "metadata": {},
     "output_type": "display_data"
    }
   ],
   "source": [
    "catalog.save(\"clean_data\", df)"
   ]
  },
  {
   "cell_type": "code",
   "execution_count": null,
   "id": "9dbed0db-9abb-4019-833b-0b5be716fe97",
   "metadata": {},
   "outputs": [],
   "source": []
  }
 ],
 "metadata": {
  "kernelspec": {
   "display_name": "Kedro (kaggle_housing_price_prediction)",
   "language": "python",
   "name": "kedro_kaggle_housing_price_prediction"
  },
  "language_info": {
   "codemirror_mode": {
    "name": "ipython",
    "version": 3
   },
   "file_extension": ".py",
   "mimetype": "text/x-python",
   "name": "python",
   "nbconvert_exporter": "python",
   "pygments_lexer": "ipython3",
   "version": "3.10.13"
  }
 },
 "nbformat": 4,
 "nbformat_minor": 5
}
